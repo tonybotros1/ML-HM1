{
 "cells": [
  {
   "cell_type": "markdown",
   "metadata": {},
   "source": [
    "# Imports"
   ]
  },
  {
   "cell_type": "code",
   "execution_count": 427,
   "metadata": {},
   "outputs": [],
   "source": [
    "# تحميل المكتبات اللازمة\n",
    "import pandas as pd\n",
    "import numpy as np\n",
    "from sklearn.model_selection import train_test_split, GridSearchCV, cross_val_score\n",
    "from sklearn.preprocessing import StandardScaler, OneHotEncoder\n",
    "from sklearn.compose import ColumnTransformer\n",
    "from sklearn.pipeline import Pipeline\n",
    "from sklearn.ensemble import RandomForestRegressor\n",
    "from sklearn.tree import DecisionTreeRegressor\n",
    "from sklearn.impute import SimpleImputer\n",
    "import joblib\n",
    "from sklearn.metrics import r2_score\n",
    "import matplotlib.pyplot as plt\n",
    "from sklearn.linear_model import LinearRegression\n",
    "from sklearn.inspection import permutation_importance\n",
    "import lime\n",
    "import lime.lime_tabular\n",
    "import shap\n",
    "from sklearn.feature_selection import SelectPercentile, f_regression\n",
    "from sklearn.feature_selection import chi2,f_classif\n",
    "import seaborn as sns\n",
    "from scipy import stats\n",
    "from sklearn.metrics import mean_squared_error\n",
    "from sklearn.svm import SVR\n",
    "from sklearn.neural_network import MLPRegressor\n",
    "from sklearn.neighbors import KNeighborsRegressor\n",
    "from sklearn.linear_model import Ridge, Lasso\n",
    "from sklearn.linear_model import LogisticRegression\n",
    "from sklearn.preprocessing import FunctionTransformer\n",
    "import keras\n",
    "from sklearn.ensemble import VotingRegressor"
   ]
  },
  {
   "cell_type": "code",
   "execution_count": 652,
   "metadata": {},
   "outputs": [],
   "source": [
    "linear_model='model/linear_model.keras'\n",
    "MLP_model='model/MLP_model.keras'\n",
    "Ridge_model='model/Ridge_model.keras'\n",
    "Lasso_model='model/Lasso_model.keras'\n",
    "KNN_model='model/KNN_model.keras'\n",
    "SVR_model='model/SVR_model.keras'\n",
    "RandomForest_model='model/RandomForest_model.keras'\n",
    "DecisionTree_model='model/DecisionTree_model.keras'\n",
    "best_model_ever = 'model/best_model_ever.keras'"
   ]
  },
  {
   "cell_type": "code",
   "execution_count": 3,
   "metadata": {},
   "outputs": [],
   "source": [
    "# !pip install lime shap"
   ]
  },
  {
   "cell_type": "markdown",
   "metadata": {},
   "source": [
    "# تنبؤ العقارات (تنبؤ OutcomeVariable)\n",
    "\n",
    "# المعلومات العامة\n",
    "\n",
    "- OutcomeVariable: المقياس الأساسي الذي نهدف إلى التنبؤ به أو تحليله لكل عنصر في مجموعة البيانات.\n",
    "- BuildingCategory: رمز رقمي يصنف النوع الهيكلي العام للعنصر.\n",
    "- ZoningClassification: فئة الاستخدام المحددة للمنطقة التي يقع فيها العنصر.\n",
    "- StreetLineLength: طول واجهة العنصر على الشارع بوحدات خطية.\n",
    "- ParcelSize: المساحة الإجمالية للأرض المرتبطة بالعنصر، مقاسة بوحدات مربعة.\n",
    "- RoadAccessType: نوع الطريق الذي يوفر الوصول إلى موقع العنصر.\n",
    "- AlleyAccessType: نوع الوصول إلى الزقاق المتاح لموقع العنصر (إن وجد).\n",
    "- ParcelShape: الشكل الهندسي العام لقطعة الأرض.\n",
    "- TerrainFlatness: وصف لمستوى الأرض أو انحدارها.\n",
    "- UtilityAvailability: أنواع خدمات المرافق المتاحة في موقع العنصر.\n",
    "- ParcelSettings: تكوينات أو ميزات محددة لقطعة الأرض.\n",
    "- TerrainSlope: درجة ميل الأرض.\n",
    "- District: المناطق الجغرافية الفرعية أو المناطق داخل منطقة أكبر.\n",
    "- RoadProximity1: يشير إلى قرب العنصر من طريق رئيسي أو مسار نقل.\n",
    "- RoadProximity2: يشير إلى قرب العنصر من طريق رئيسي ثانٍ أو مسار، إن وجد.\n",
    "\n",
    "# خصائص العنصر\n",
    "\n",
    "- DwellingType: التصنيف المعماري المحدد للهيكل.\n",
    "- DwellingStyle: النمط المعماري للهيكل.\n",
    "- MaterialQuality: تصنيف الجودة العامة للمواد المستخدمة في بناء العنصر.\n",
    "- ConditionRating: تقييم عام لحالة العنصر الحالية من حيث الصيانة والإصلاح.\n",
    "- ConstructionYear: السنة التي بُني فيها العنصر أصلاً.\n",
    "- RenovationYear: السنة التي شهد فيها العنصر تجديدًا كبيرًا أو إضافة.\n",
    "- RoofType: نمط أو تصميم السقف.\n",
    "- RoofMaterial: المادة الأساسية المستخدمة في بناء السقف.\n",
    "- ExteriorCladding1: المادة الرئيسية التي تغطي الجزء الخارجي للعنصر.\n",
    "- ExteriorCladding2: مادة تغطية خارجية ثانوية، إن وجدت.\n",
    "- MasonryType: نوع العمل الزخرفي بالطوب المستخدم في الجزء الخارجي للعنصر.\n",
    "- MasonrySize: المساحة المغطاة بالطوب، مقاسة بوحدات مربعة.\n",
    "- ExteriorQuality: جودة المواد المستخدمة في تغطية الجزء الخارجي.\n",
    "- ExteriorCondition: الحالة الحالية للكسوة الخارجية.\n",
    "- FoundationType: نوع الأساس الذي يدعم هيكل العنصر.\n",
    "\n",
    "# الميزات الداخلية\n",
    "\n",
    "- BasementHeight: تصنيف ارتفاع القبو بالنسبة لمستوى الأرض.\n",
    "- BasementCondition: الحالة العامة لمساحة القبو.\n",
    "- BasementAccess: يصف ما إذا كان للقبو وصول مشاة أو عند مستوى الحديقة.\n",
    "- BasementFinish1: جودة التشطيب في المنطقة الرئيسية المنتهية من القبو.\n",
    "- BasementFinishedArea1: مساحة المنطقة الرئيسية المنتهية في القبو، مقاسة بوحدات مربعة.\n",
    "- BasementFinish2: جودة التشطيب في منطقة ثانية منتهية في القبو (إن وجدت).\n",
    "- BasementFinishedArea2: مساحة منطقة ثانية منتهية في القبو، مقاسة بوحدات مربعة.\n",
    "- BasementUnfinishedArea: مساحة الجزء غير المنتهي من القبو، مقاسة بوحدات مربعة.\n",
    "- TotalBasementArea: المساحة الإجمالية للقبو، بما في ذلك المناطق المنتهية وغير المنتهية، مقاسة بوحدات مربعة.\n",
    "- HeatingType: النظام المستخدم لتدفئة العنصر.\n",
    "- HeatingQuality: جودة وحالة نظام التدفئة.\n",
    "- AirConditioning: يشير إلى ما إذا كان العنصر يحتوي على تكييف مركزي.\n",
    "- ElectricalSystem: نوع النظام الكهربائي المثبت.\n",
    "- GroundFloorArea: مساحة الطابق الأرضي، مقاسة بوحدات مربعة.\n",
    "- UpperFloorArea: مساحة الطابق العلوي(الطوابق)، مقاسة بوحدات مربعة.\n",
    "- LowQualityArea: مساحة العنصر المنتهية بمعايير أقل، مقاسة بوحدات مربعة.\n",
    "- LivingArea: المساحة الإجمالية للمعيشة فوق مستوى الأرض، مقاسة بوحدات مربعة.\n",
    "- BasementFullBathrooms: عدد الحمامات الكاملة في القبو.\n",
    "- BasementHalfBathrooms: عدد الحمامات النصفية في القبو.\n",
    "- FullBathrooms: عدد الحمامات الكاملة فوق مستوى الأرض.\n",
    "- HalfBathrooms: عدد الحمامات النصفية فوق مستوى الأرض.\n",
    "- Bedrooms: عدد غرف النوم في العنصر.\n",
    "- Kitchens: عدد المطابخ في العنصر.\n",
    "- KitchenQuality: جودة تشطيبات وتركيبات المطبخ.\n",
    "- TotalRooms: العدد الإجمالي للغرف فوق مستوى الأرض، باستثناء الحمامات.\n",
    "- FunctionalityRating: تصنيف الوظائف العامة وتخطيط العنصر.\n",
    "- FireplaceCount: عدد المواقد في العنصر.\n",
    "- FireplaceQuality: جودة الموقد (المواقد).\n",
    "\n",
    "# الميزات الإضافية\n",
    "\n",
    "- GarageLocation: موقع المرآب بالنسبة للعنصر.\n",
    "- GarageConstructionYear: السنة التي بُني فيها المرآب.\n",
    "- GarageInterior: التشطيب الداخلي للمرآب.\n",
    "- GarageCapacity: عدد المركبات التي يمكن أن يستوعبها المرآب.\n",
    "- GarageSize: مساحة المرآب، مقاسة بوحدات مربعة.\n",
    "- GarageQuality: جودة بناء المرآب.\n",
    "- GarageCondition: الحالة الحالية للمرآب.\n",
    "- DrivewayType: يشير إلى ما إذا كان الممر مرصوفًا.\n",
    "- WoodDeckArea: مساحة سطح الخشب، مقاسة بوحدات مربعة.\n",
    "- OpenPorchArea: مساحة الشرفة المفتوحة، مقاسة بوحدات مربعة.\n",
    "- EnclosedPorchArea: مساحة الشرفة المغلقة، مقاسة بوحدات مربعة.\n",
    "- ThreeSeasonPorchArea: مساحة الشرفة التي تستخدم لثلاثة فصول، مقاسة بوحدات مربعة.\n",
    "- ScreenPorchArea: مساحة الشرفة المسورة، مقاسة بوحدات مربعة.\n",
    "- PoolSize: مساحة المسبح، مقاسة بوحدات مربعة.\n",
    "- PoolQuality: جودة المسبح.\n",
    "- FenceQuality: جودة السور.\n",
    "- AdditionalFeature: ميزة إضافية غير مغطاة في الفئات الأخرى.\n",
    "- AdditionalFeatureValue: القيمة المالية للميزة الإضافية.\n",
    "\n",
    "# معلومات البيع\n",
    "\n",
    "- SaleMonth: الشهر الذي تم فيه بيع العنصر.\n",
    "- SaleYear: السنة التي تم فيها بيع العنصر.\n",
    "- SaleType: طريقة أو نوع عملية البيع.\n",
    "- SaleCondition: حالة البيع."
   ]
  },
  {
   "cell_type": "code",
   "execution_count": 348,
   "metadata": {},
   "outputs": [],
   "source": [
    "data = pd.read_csv('train.csv')"
   ]
  },
  {
   "cell_type": "markdown",
   "metadata": {},
   "source": [
    "# تجربة مبدئية عن طريق الشات "
   ]
  },
  {
   "cell_type": "code",
   "execution_count": 10,
   "metadata": {},
   "outputs": [
    {
     "name": "stdout",
     "output_type": "stream",
     "text": [
      "R2 Score: 0.8842280142170962\n",
      "Final pipeline steps: Pipeline(steps=[('preprocessor',\n",
      "                 ColumnTransformer(transformers=[('num',\n",
      "                                                  Pipeline(steps=[('imputer',\n",
      "                                                                   SimpleImputer(strategy='median')),\n",
      "                                                                  ('scaler',\n",
      "                                                                   StandardScaler())]),\n",
      "                                                  Index(['Id', 'BuildingCategory', 'StreetLineLength', 'ParcelSize',\n",
      "       'MaterialQuality', 'ConditionRating', 'ConstructionYear',\n",
      "       'RenovationYear', 'MasonrySize', 'BasementFinishedArea1',\n",
      "       'BasementFinish...\n",
      "       'BasementFinish1', 'BasementFinish2', 'HeatingType', 'HeatingQuality',\n",
      "       'AirConditioning', 'ElectricalSystem', 'KitchenQuality',\n",
      "       'FunctionalityRating', 'FireplaceQuality', 'GarageLocation',\n",
      "       'GarageInterior', 'GarageQuality', 'GarageCondition', 'DrivewayType',\n",
      "       'PoolQuality', 'FenceQuality', 'AdditionalFeature', 'SaleType',\n",
      "       'SaleCondition'],\n",
      "      dtype='object'))])),\n",
      "                ('regressor',\n",
      "                 RandomForestRegressor(max_depth=20, min_samples_split=5))])\n"
     ]
    }
   ],
   "source": [
    "# فصل البيانات إلى ميزات ومتغير الهدف\n",
    "X = data.drop('OutcomeVariable', axis=1)\n",
    "y = data['OutcomeVariable']\n",
    "\n",
    "# تحديد الميزات العددية والكيفية\n",
    "numeric_features = X.select_dtypes(include=['int64', 'float64']).columns\n",
    "categorical_features = X.select_dtypes(include=['object']).columns\n",
    "\n",
    "# إنشاء المحول للميزات العددية والكيفية مع معالجة القيم الفارغة\n",
    "numeric_transformer = Pipeline(steps=[\n",
    "    ('imputer', SimpleImputer(strategy='median')),\n",
    "    ('scaler', StandardScaler())])\n",
    "\n",
    "categorical_transformer = Pipeline(steps=[\n",
    "    ('imputer', SimpleImputer(strategy='constant', fill_value='None')),\n",
    "    ('onehot', OneHotEncoder(handle_unknown='ignore'))])\n",
    "\n",
    "preprocessor = ColumnTransformer(\n",
    "    transformers=[\n",
    "        ('num', numeric_transformer, numeric_features),\n",
    "        ('cat', categorical_transformer, categorical_features)\n",
    "    ])\n",
    "\n",
    "# إنشاء بايبلاين يتضمن المعالجة الأولية والنموذج\n",
    "pipeline = Pipeline(steps=[\n",
    "    ('preprocessor', preprocessor),\n",
    "    ('regressor', RandomForestRegressor())\n",
    "])\n",
    "\n",
    "# ضبط الهايبر باراميترز باستخدام GridSearchCV\n",
    "param_grid = {\n",
    "    'regressor__n_estimators': [100, 200],\n",
    "    'regressor__max_depth': [None, 10, 20],\n",
    "    'regressor__min_samples_split': [2, 5, 10]\n",
    "}\n",
    "\n",
    "grid_search = GridSearchCV(pipeline, param_grid, cv=5, n_jobs=-1, scoring='r2')\n",
    "\n"
   ]
  },
  {
   "cell_type": "code",
   "execution_count": null,
   "metadata": {},
   "outputs": [],
   "source": [
    "# grid_search.fit(X_train, y_train)\n",
    "\n",
    "# # التنبؤ على مجموعة الاختبار\n",
    "# y_pred = grid_search.predict(X_test)\n",
    "\n",
    "# # حساب R-score\n",
    "# r2 = r2_score(y_test, y_pred)\n",
    "# print(f'R2 Score: {r2}')\n",
    "\n",
    "# # حفظ النموذج المدرب\n",
    "# joblib.dump(grid_search.best_estimator_, 'best_model.pkl')\n",
    "\n",
    "# # وصف البايبلاين النهائي\n",
    "# final_pipeline = grid_search.best_estimator_\n",
    "# print(f\"Final pipeline steps: {final_pipeline}\")"
   ]
  },
  {
   "cell_type": "markdown",
   "metadata": {},
   "source": [
    "# بداية العمل الحقيقي\n"
   ]
  },
  {
   "cell_type": "markdown",
   "metadata": {},
   "source": [
    "# طريقة الحل \n",
    "- أولاً نحتاج أن نقوم بحل مشكلة القيم الفارغة\n",
    "- ثانياً نحتاج فحص الأعمده المهمه\n",
    "- ثالثاً تطبيق خوارزميات التوقع \n",
    "- رابعاً وضع النتائج في داتا فريم أعمدته كل تجربة وسبب تجريبها وهل قامت بالتحسين ام لا \n",
    "- النتيجة الأخيرة هي البايبلاين الأمثل للموديل المطبق على الداتا، وضح ما هو البايبلاين بآخر خلية بالنوتبوك"
   ]
  },
  {
   "cell_type": "markdown",
   "metadata": {},
   "source": [
    "### أولاً"
   ]
  },
  {
   "cell_type": "code",
   "execution_count": 222,
   "metadata": {},
   "outputs": [
    {
     "data": {
      "text/plain": [
       "StreetLineLength           259\n",
       "AlleyAccessType           1369\n",
       "MasonryType                872\n",
       "MasonrySize                  8\n",
       "BasementHeight              37\n",
       "BasementCondition           37\n",
       "BasementAccess              38\n",
       "BasementFinish1             37\n",
       "BasementFinish2             38\n",
       "ElectricalSystem             1\n",
       "FireplaceQuality           690\n",
       "GarageLocation              81\n",
       "GarageConstructionYear      81\n",
       "GarageInterior              81\n",
       "GarageQuality               81\n",
       "GarageCondition             81\n",
       "PoolQuality               1453\n",
       "FenceQuality              1179\n",
       "AdditionalFeature         1406\n",
       "dtype: int64"
      ]
     },
     "execution_count": 222,
     "metadata": {},
     "output_type": "execute_result"
    }
   ],
   "source": [
    "q=data.isnull().sum()\n",
    "q[q!=0]"
   ]
  },
  {
   "cell_type": "code",
   "execution_count": 42,
   "metadata": {},
   "outputs": [],
   "source": [
    "# data['StreetLineLength'].value_counts()"
   ]
  },
  {
   "cell_type": "code",
   "execution_count": 43,
   "metadata": {},
   "outputs": [],
   "source": [
    "# data['StreetLineLength'].describe()"
   ]
  },
  {
   "cell_type": "code",
   "execution_count": 44,
   "metadata": {},
   "outputs": [],
   "source": [
    "# data['AlleyAccessType'].value_counts()"
   ]
  },
  {
   "cell_type": "code",
   "execution_count": 45,
   "metadata": {},
   "outputs": [],
   "source": [
    "# sns.boxplot(x='AlleyAccessType', y='OutcomeVariable', data=data)\n",
    "# plt.title('تأثير نوع الزقاق على سعر المنزل')\n",
    "# plt.show()"
   ]
  },
  {
   "cell_type": "code",
   "execution_count": 47,
   "metadata": {},
   "outputs": [],
   "source": [
    "# data['MasonryType'].value_counts()"
   ]
  },
  {
   "cell_type": "code",
   "execution_count": 46,
   "metadata": {},
   "outputs": [],
   "source": [
    "# data['MasonrySize'].value_counts()"
   ]
  },
  {
   "cell_type": "code",
   "execution_count": 19,
   "metadata": {},
   "outputs": [],
   "source": [
    "# data['TotalBasementArea'].value_counts()"
   ]
  },
  {
   "cell_type": "code",
   "execution_count": 21,
   "metadata": {},
   "outputs": [],
   "source": [
    "# data['BasementUnfinishedArea'].value_counts()"
   ]
  },
  {
   "cell_type": "code",
   "execution_count": 22,
   "metadata": {},
   "outputs": [],
   "source": [
    "# data['BasementFinishedArea2'].value_counts()"
   ]
  },
  {
   "cell_type": "code",
   "execution_count": 23,
   "metadata": {},
   "outputs": [],
   "source": [
    "# data['BasementFinish2'].value_counts()"
   ]
  },
  {
   "cell_type": "code",
   "execution_count": 24,
   "metadata": {},
   "outputs": [],
   "source": [
    "# data['BasementFinishedArea1'].value_counts()"
   ]
  },
  {
   "cell_type": "code",
   "execution_count": 25,
   "metadata": {},
   "outputs": [],
   "source": [
    "# data['BasementFinish1'].value_counts()"
   ]
  },
  {
   "cell_type": "code",
   "execution_count": 26,
   "metadata": {},
   "outputs": [],
   "source": [
    "# data['BasementAccess'].value_counts()"
   ]
  },
  {
   "cell_type": "code",
   "execution_count": 27,
   "metadata": {},
   "outputs": [],
   "source": [
    "# data['BasementCondition'].value_counts()"
   ]
  },
  {
   "cell_type": "code",
   "execution_count": 20,
   "metadata": {},
   "outputs": [],
   "source": [
    "# data['BasementHeight'].value_counts()"
   ]
  },
  {
   "cell_type": "code",
   "execution_count": 12,
   "metadata": {},
   "outputs": [],
   "source": [
    "# data['ElectricalSystem'].value_counts()"
   ]
  },
  {
   "cell_type": "code",
   "execution_count": 13,
   "metadata": {},
   "outputs": [],
   "source": [
    "# data[data['ElectricalSystem'].isnull()]"
   ]
  },
  {
   "cell_type": "code",
   "execution_count": 14,
   "metadata": {},
   "outputs": [],
   "source": [
    "# data['AdditionalFeature'].value_counts()"
   ]
  },
  {
   "cell_type": "code",
   "execution_count": 349,
   "metadata": {},
   "outputs": [],
   "source": [
    "data['ElectricalSystem'].fillna('SBrkr', inplace=True)\n",
    "data['AdditionalFeature'].fillna(-1, inplace=True)\n",
    "data['GarageLocation'].fillna(-1, inplace=True)\n",
    "data['GarageConstructionYear'].fillna(-1, inplace=True)\n",
    "data['GarageInterior'].fillna(-1, inplace=True)\n",
    "data['GarageCondition'].fillna(-1, inplace=True)\n",
    "data['FenceQuality'].fillna(-1, inplace=True)\n",
    "data['PoolQuality'].fillna(-1, inplace=True)\n",
    "data['FireplaceQuality'].fillna(-1, inplace=True)\n",
    "data['GarageQuality'].fillna(-1, inplace=True)\n",
    "\n",
    "Basement = ['BasementCondition', 'BasementAccess', 'BasementFinish1', \n",
    "            'BasementFinish2','BasementHeight','TotalBasementArea',\n",
    "            'BasementUnfinishedArea','BasementFinishedArea2','BasementFinishedArea1'] \n",
    "data.loc[data['BasementHeight'].isnull(),Basement] = -1\n",
    "data['BasementAccess'].fillna(-1, inplace=True)\n",
    "data['BasementFinish2'].fillna(-1, inplace=True)\n",
    "\n",
    "Masonry=['MasonrySize','MasonryType']\n",
    "data.loc[data['MasonrySize'].isnull(),Masonry] = -1\n",
    "data.loc[data['MasonrySize']==0,Masonry] = -1\n",
    "\n",
    "data['MasonryType'].fillna('BrkFace', inplace=True)\n",
    "\n",
    "\n",
    "median_street_length_by_district = data.groupby('District')['StreetLineLength'].mean()\n",
    "\n",
    "def fill_street_length(row):\n",
    "    if pd.isnull(row['StreetLineLength']):\n",
    "        return median_street_length_by_district.get(row['District'])\n",
    "    return row['StreetLineLength']\n",
    "\n",
    "data['StreetLineLength'] = data.apply(fill_street_length, axis=1)"
   ]
  },
  {
   "cell_type": "markdown",
   "metadata": {},
   "source": [
    "- we will drop the TerrainFlatness column cuz 90% of it's values are Lvl --> bias\n",
    "- ---------------- UtilityAvailability ------ 99% ------------------ AllPub --> bias\n",
    "- ---------------- TerrainSlope ------------- 95% ------------------ Gtl --> bias\n",
    "- ---------------- RoadProximity1 ----------- 86% ------------------ Norm --> bias\n",
    "- ---------------- RoadProximity2 ----------- 99% ------------------ Norm --> bias \n",
    "- ---------------- DwellingType ------------- 84% ------------------ 1Fam --> bias\n",
    "- ---------------- RoofType ----------------- 78% ------------------ Gable --> bias\n",
    "- ---------------- RoofMaterial ------------- 98% ------------------ CompShg --> bias\n",
    "- ---------------- ExteriorCondition -------- 88% ------------------ TA --> bias\n",
    "- ---------------- BasementCondition -------- 90% ------------------ TA --> bias\n",
    "- ---------------- BasementFinish2 ---------- 86% ------------------ Unf --> bias\n",
    "- ---------------- HeatingType -------------- 98% ------------------ GasA --> bias\n",
    "- ---------------- AirConditioning ---------- 93% ------------------ Y --> bias\n",
    "- ---------------- ElectricalSystem --------- 91% ------------------ SBrkr --> bias\n",
    "- ---------------- KitchenAbvGr ------------- 95% ------------------ 1 --> bias\n",
    "- ---------------- FunctionalityRating ------ 93% ------------------ Typ --> bias\n",
    "- ----------------"
   ]
  },
  {
   "cell_type": "code",
   "execution_count": 350,
   "metadata": {},
   "outputs": [],
   "source": [
    "columns_to_drop=['Id','AlleyAccessType','FunctionalityRating','KitchenAbvGr',\n",
    "                 'ElectricalSystem','AirConditioning','HeatingType','BasementFinish2',\n",
    "                 'BasementCondition','ExteriorCondition','RoofMaterial','RoofType',\n",
    "                 'DwellingType','RoadProximity2','RoadProximity1','TerrainSlope',\n",
    "                 'UtilityAvailability']\n",
    "data.drop(columns=columns_to_drop, inplace=True)"
   ]
  },
  {
   "cell_type": "code",
   "execution_count": null,
   "metadata": {},
   "outputs": [],
   "source": [
    "def fill_missing_with_percetages(df,column):\n",
    "    value_counts = df[column].value_counts(normalize = True)* 100\n",
    "    missing_count = df[column].isna().sum()\n",
    "    fill_values = np.random.choice(value_counts.inndex,size=missing_count,p=value_counts.values / 100)\n",
    "    df.loc[df[column].isna(), column] = fill_values\n",
    "    return df"
   ]
  },
  {
   "cell_type": "code",
   "execution_count": 225,
   "metadata": {},
   "outputs": [
    {
     "data": {
      "text/html": [
       "<div>\n",
       "<style scoped>\n",
       "    .dataframe tbody tr th:only-of-type {\n",
       "        vertical-align: middle;\n",
       "    }\n",
       "\n",
       "    .dataframe tbody tr th {\n",
       "        vertical-align: top;\n",
       "    }\n",
       "\n",
       "    .dataframe thead th {\n",
       "        text-align: right;\n",
       "    }\n",
       "</style>\n",
       "<table border=\"1\" class=\"dataframe\">\n",
       "  <thead>\n",
       "    <tr style=\"text-align: right;\">\n",
       "      <th></th>\n",
       "      <th>BuildingCategory</th>\n",
       "      <th>StreetLineLength</th>\n",
       "      <th>ParcelSize</th>\n",
       "      <th>MaterialQuality</th>\n",
       "      <th>ConditionRating</th>\n",
       "      <th>ConstructionYear</th>\n",
       "      <th>RenovationYear</th>\n",
       "      <th>MasonrySize</th>\n",
       "      <th>BasementFinishedArea1</th>\n",
       "      <th>BasementFinishedArea2</th>\n",
       "      <th>...</th>\n",
       "      <th>WoodDeckArea</th>\n",
       "      <th>OpenPorchArea</th>\n",
       "      <th>EnclosedPorchArea</th>\n",
       "      <th>ThreeSeasonPorchArea</th>\n",
       "      <th>ScreenPorchArea</th>\n",
       "      <th>PoolSize</th>\n",
       "      <th>AdditionalFeatureValue</th>\n",
       "      <th>SaleMonth</th>\n",
       "      <th>SaleYear</th>\n",
       "      <th>OutcomeVariable</th>\n",
       "    </tr>\n",
       "  </thead>\n",
       "  <tbody>\n",
       "    <tr>\n",
       "      <th>count</th>\n",
       "      <td>1460.000000</td>\n",
       "      <td>1460.000000</td>\n",
       "      <td>1460.000000</td>\n",
       "      <td>1460.000000</td>\n",
       "      <td>1460.000000</td>\n",
       "      <td>1460.000000</td>\n",
       "      <td>1460.000000</td>\n",
       "      <td>1460.000000</td>\n",
       "      <td>1460.000000</td>\n",
       "      <td>1460.000000</td>\n",
       "      <td>...</td>\n",
       "      <td>1460.000000</td>\n",
       "      <td>1460.000000</td>\n",
       "      <td>1460.000000</td>\n",
       "      <td>1460.000000</td>\n",
       "      <td>1460.000000</td>\n",
       "      <td>1460.000000</td>\n",
       "      <td>1460.000000</td>\n",
       "      <td>1460.000000</td>\n",
       "      <td>1460.000000</td>\n",
       "      <td>1460.000000</td>\n",
       "    </tr>\n",
       "    <tr>\n",
       "      <th>mean</th>\n",
       "      <td>56.897260</td>\n",
       "      <td>70.725218</td>\n",
       "      <td>10516.828082</td>\n",
       "      <td>6.099315</td>\n",
       "      <td>5.575342</td>\n",
       "      <td>1971.267808</td>\n",
       "      <td>1984.865753</td>\n",
       "      <td>102.521918</td>\n",
       "      <td>443.614384</td>\n",
       "      <td>46.523973</td>\n",
       "      <td>...</td>\n",
       "      <td>94.244521</td>\n",
       "      <td>46.660274</td>\n",
       "      <td>21.954110</td>\n",
       "      <td>3.409589</td>\n",
       "      <td>15.060959</td>\n",
       "      <td>2.758904</td>\n",
       "      <td>43.489041</td>\n",
       "      <td>6.321918</td>\n",
       "      <td>2007.815753</td>\n",
       "      <td>180921.195890</td>\n",
       "    </tr>\n",
       "    <tr>\n",
       "      <th>std</th>\n",
       "      <td>42.300571</td>\n",
       "      <td>22.426978</td>\n",
       "      <td>9981.264932</td>\n",
       "      <td>1.382997</td>\n",
       "      <td>1.112799</td>\n",
       "      <td>30.202904</td>\n",
       "      <td>20.645407</td>\n",
       "      <td>181.071550</td>\n",
       "      <td>456.122784</td>\n",
       "      <td>161.326667</td>\n",
       "      <td>...</td>\n",
       "      <td>125.338794</td>\n",
       "      <td>66.256028</td>\n",
       "      <td>61.119149</td>\n",
       "      <td>29.317331</td>\n",
       "      <td>55.757415</td>\n",
       "      <td>40.177307</td>\n",
       "      <td>496.123024</td>\n",
       "      <td>2.703626</td>\n",
       "      <td>1.328095</td>\n",
       "      <td>79442.502883</td>\n",
       "    </tr>\n",
       "    <tr>\n",
       "      <th>min</th>\n",
       "      <td>20.000000</td>\n",
       "      <td>21.000000</td>\n",
       "      <td>1300.000000</td>\n",
       "      <td>1.000000</td>\n",
       "      <td>1.000000</td>\n",
       "      <td>1872.000000</td>\n",
       "      <td>1950.000000</td>\n",
       "      <td>-1.000000</td>\n",
       "      <td>-1.000000</td>\n",
       "      <td>-1.000000</td>\n",
       "      <td>...</td>\n",
       "      <td>0.000000</td>\n",
       "      <td>0.000000</td>\n",
       "      <td>0.000000</td>\n",
       "      <td>0.000000</td>\n",
       "      <td>0.000000</td>\n",
       "      <td>0.000000</td>\n",
       "      <td>0.000000</td>\n",
       "      <td>1.000000</td>\n",
       "      <td>2006.000000</td>\n",
       "      <td>34900.000000</td>\n",
       "    </tr>\n",
       "    <tr>\n",
       "      <th>25%</th>\n",
       "      <td>20.000000</td>\n",
       "      <td>60.000000</td>\n",
       "      <td>7553.500000</td>\n",
       "      <td>5.000000</td>\n",
       "      <td>5.000000</td>\n",
       "      <td>1954.000000</td>\n",
       "      <td>1967.000000</td>\n",
       "      <td>-1.000000</td>\n",
       "      <td>0.000000</td>\n",
       "      <td>0.000000</td>\n",
       "      <td>...</td>\n",
       "      <td>0.000000</td>\n",
       "      <td>0.000000</td>\n",
       "      <td>0.000000</td>\n",
       "      <td>0.000000</td>\n",
       "      <td>0.000000</td>\n",
       "      <td>0.000000</td>\n",
       "      <td>0.000000</td>\n",
       "      <td>5.000000</td>\n",
       "      <td>2007.000000</td>\n",
       "      <td>129975.000000</td>\n",
       "    </tr>\n",
       "    <tr>\n",
       "      <th>50%</th>\n",
       "      <td>50.000000</td>\n",
       "      <td>70.083333</td>\n",
       "      <td>9478.500000</td>\n",
       "      <td>6.000000</td>\n",
       "      <td>5.000000</td>\n",
       "      <td>1973.000000</td>\n",
       "      <td>1994.000000</td>\n",
       "      <td>-1.000000</td>\n",
       "      <td>383.500000</td>\n",
       "      <td>0.000000</td>\n",
       "      <td>...</td>\n",
       "      <td>0.000000</td>\n",
       "      <td>25.000000</td>\n",
       "      <td>0.000000</td>\n",
       "      <td>0.000000</td>\n",
       "      <td>0.000000</td>\n",
       "      <td>0.000000</td>\n",
       "      <td>0.000000</td>\n",
       "      <td>6.000000</td>\n",
       "      <td>2008.000000</td>\n",
       "      <td>163000.000000</td>\n",
       "    </tr>\n",
       "    <tr>\n",
       "      <th>75%</th>\n",
       "      <td>70.000000</td>\n",
       "      <td>80.000000</td>\n",
       "      <td>11601.500000</td>\n",
       "      <td>7.000000</td>\n",
       "      <td>6.000000</td>\n",
       "      <td>2000.000000</td>\n",
       "      <td>2004.000000</td>\n",
       "      <td>164.250000</td>\n",
       "      <td>712.250000</td>\n",
       "      <td>0.000000</td>\n",
       "      <td>...</td>\n",
       "      <td>168.000000</td>\n",
       "      <td>68.000000</td>\n",
       "      <td>0.000000</td>\n",
       "      <td>0.000000</td>\n",
       "      <td>0.000000</td>\n",
       "      <td>0.000000</td>\n",
       "      <td>0.000000</td>\n",
       "      <td>8.000000</td>\n",
       "      <td>2009.000000</td>\n",
       "      <td>214000.000000</td>\n",
       "    </tr>\n",
       "    <tr>\n",
       "      <th>max</th>\n",
       "      <td>190.000000</td>\n",
       "      <td>313.000000</td>\n",
       "      <td>215245.000000</td>\n",
       "      <td>10.000000</td>\n",
       "      <td>9.000000</td>\n",
       "      <td>2010.000000</td>\n",
       "      <td>2010.000000</td>\n",
       "      <td>1600.000000</td>\n",
       "      <td>5644.000000</td>\n",
       "      <td>1474.000000</td>\n",
       "      <td>...</td>\n",
       "      <td>857.000000</td>\n",
       "      <td>547.000000</td>\n",
       "      <td>552.000000</td>\n",
       "      <td>508.000000</td>\n",
       "      <td>480.000000</td>\n",
       "      <td>738.000000</td>\n",
       "      <td>15500.000000</td>\n",
       "      <td>12.000000</td>\n",
       "      <td>2010.000000</td>\n",
       "      <td>755000.000000</td>\n",
       "    </tr>\n",
       "  </tbody>\n",
       "</table>\n",
       "<p>8 rows × 36 columns</p>\n",
       "</div>"
      ],
      "text/plain": [
       "       BuildingCategory  StreetLineLength     ParcelSize  MaterialQuality  \\\n",
       "count       1460.000000       1460.000000    1460.000000      1460.000000   \n",
       "mean          56.897260         70.725218   10516.828082         6.099315   \n",
       "std           42.300571         22.426978    9981.264932         1.382997   \n",
       "min           20.000000         21.000000    1300.000000         1.000000   \n",
       "25%           20.000000         60.000000    7553.500000         5.000000   \n",
       "50%           50.000000         70.083333    9478.500000         6.000000   \n",
       "75%           70.000000         80.000000   11601.500000         7.000000   \n",
       "max          190.000000        313.000000  215245.000000        10.000000   \n",
       "\n",
       "       ConditionRating  ConstructionYear  RenovationYear  MasonrySize  \\\n",
       "count      1460.000000       1460.000000     1460.000000  1460.000000   \n",
       "mean          5.575342       1971.267808     1984.865753   102.521918   \n",
       "std           1.112799         30.202904       20.645407   181.071550   \n",
       "min           1.000000       1872.000000     1950.000000    -1.000000   \n",
       "25%           5.000000       1954.000000     1967.000000    -1.000000   \n",
       "50%           5.000000       1973.000000     1994.000000    -1.000000   \n",
       "75%           6.000000       2000.000000     2004.000000   164.250000   \n",
       "max           9.000000       2010.000000     2010.000000  1600.000000   \n",
       "\n",
       "       BasementFinishedArea1  BasementFinishedArea2  ...  WoodDeckArea  \\\n",
       "count            1460.000000            1460.000000  ...   1460.000000   \n",
       "mean              443.614384              46.523973  ...     94.244521   \n",
       "std               456.122784             161.326667  ...    125.338794   \n",
       "min                -1.000000              -1.000000  ...      0.000000   \n",
       "25%                 0.000000               0.000000  ...      0.000000   \n",
       "50%               383.500000               0.000000  ...      0.000000   \n",
       "75%               712.250000               0.000000  ...    168.000000   \n",
       "max              5644.000000            1474.000000  ...    857.000000   \n",
       "\n",
       "       OpenPorchArea  EnclosedPorchArea  ThreeSeasonPorchArea  \\\n",
       "count    1460.000000        1460.000000           1460.000000   \n",
       "mean       46.660274          21.954110              3.409589   \n",
       "std        66.256028          61.119149             29.317331   \n",
       "min         0.000000           0.000000              0.000000   \n",
       "25%         0.000000           0.000000              0.000000   \n",
       "50%        25.000000           0.000000              0.000000   \n",
       "75%        68.000000           0.000000              0.000000   \n",
       "max       547.000000         552.000000            508.000000   \n",
       "\n",
       "       ScreenPorchArea     PoolSize  AdditionalFeatureValue    SaleMonth  \\\n",
       "count      1460.000000  1460.000000             1460.000000  1460.000000   \n",
       "mean         15.060959     2.758904               43.489041     6.321918   \n",
       "std          55.757415    40.177307              496.123024     2.703626   \n",
       "min           0.000000     0.000000                0.000000     1.000000   \n",
       "25%           0.000000     0.000000                0.000000     5.000000   \n",
       "50%           0.000000     0.000000                0.000000     6.000000   \n",
       "75%           0.000000     0.000000                0.000000     8.000000   \n",
       "max         480.000000   738.000000            15500.000000    12.000000   \n",
       "\n",
       "          SaleYear  OutcomeVariable  \n",
       "count  1460.000000      1460.000000  \n",
       "mean   2007.815753    180921.195890  \n",
       "std       1.328095     79442.502883  \n",
       "min    2006.000000     34900.000000  \n",
       "25%    2007.000000    129975.000000  \n",
       "50%    2008.000000    163000.000000  \n",
       "75%    2009.000000    214000.000000  \n",
       "max    2010.000000    755000.000000  \n",
       "\n",
       "[8 rows x 36 columns]"
      ]
     },
     "execution_count": 225,
     "metadata": {},
     "output_type": "execute_result"
    }
   ],
   "source": [
    "b=data.describe()\n",
    "b"
   ]
  },
  {
   "cell_type": "code",
   "execution_count": 226,
   "metadata": {},
   "outputs": [
    {
     "data": {
      "text/plain": [
       "Index(['BuildingCategory', 'StreetLineLength', 'ParcelSize', 'MaterialQuality',\n",
       "       'ConditionRating', 'ConstructionYear', 'RenovationYear', 'MasonrySize',\n",
       "       'BasementFinishedArea1', 'BasementFinishedArea2',\n",
       "       'BasementUnfinishedArea', 'TotalBasementArea', 'GroundFloorArea',\n",
       "       'UpperFloorArea', 'LowQualityArea', 'LivingArea',\n",
       "       'BasementFullBathrooms', 'BasementHalfBathrooms', 'FullBathrooms',\n",
       "       'HalfBathrooms', 'BedroomAbvGr', 'TotalRooms', 'FireplaceCount',\n",
       "       'GarageConstructionYear', 'GarageCapacity', 'GarageSize',\n",
       "       'WoodDeckArea', 'OpenPorchArea', 'EnclosedPorchArea',\n",
       "       'ThreeSeasonPorchArea', 'ScreenPorchArea', 'PoolSize',\n",
       "       'AdditionalFeatureValue', 'SaleMonth', 'SaleYear', 'OutcomeVariable'],\n",
       "      dtype='object')"
      ]
     },
     "execution_count": 226,
     "metadata": {},
     "output_type": "execute_result"
    }
   ],
   "source": [
    "b.columns"
   ]
  },
  {
   "cell_type": "code",
   "execution_count": 227,
   "metadata": {},
   "outputs": [
    {
     "data": {
      "text/html": [
       "<div>\n",
       "<style scoped>\n",
       "    .dataframe tbody tr th:only-of-type {\n",
       "        vertical-align: middle;\n",
       "    }\n",
       "\n",
       "    .dataframe tbody tr th {\n",
       "        vertical-align: top;\n",
       "    }\n",
       "\n",
       "    .dataframe thead th {\n",
       "        text-align: right;\n",
       "    }\n",
       "</style>\n",
       "<table border=\"1\" class=\"dataframe\">\n",
       "  <thead>\n",
       "    <tr style=\"text-align: right;\">\n",
       "      <th></th>\n",
       "      <th>ZoningClassification</th>\n",
       "      <th>RoadAccessType</th>\n",
       "      <th>ParcelShape</th>\n",
       "      <th>TerrainFlatness</th>\n",
       "      <th>ParcelSettings</th>\n",
       "      <th>District</th>\n",
       "      <th>DwellingStyle</th>\n",
       "      <th>ExteriorCladding1</th>\n",
       "      <th>ExteriorCladding2</th>\n",
       "      <th>MasonryType</th>\n",
       "      <th>...</th>\n",
       "      <th>GarageLocation</th>\n",
       "      <th>GarageInterior</th>\n",
       "      <th>GarageQuality</th>\n",
       "      <th>GarageCondition</th>\n",
       "      <th>DrivewayType</th>\n",
       "      <th>PoolQuality</th>\n",
       "      <th>FenceQuality</th>\n",
       "      <th>AdditionalFeature</th>\n",
       "      <th>SaleType</th>\n",
       "      <th>SaleCondition</th>\n",
       "    </tr>\n",
       "  </thead>\n",
       "  <tbody>\n",
       "    <tr>\n",
       "      <th>count</th>\n",
       "      <td>1460</td>\n",
       "      <td>1460</td>\n",
       "      <td>1460</td>\n",
       "      <td>1460</td>\n",
       "      <td>1460</td>\n",
       "      <td>1460</td>\n",
       "      <td>1460</td>\n",
       "      <td>1460</td>\n",
       "      <td>1460</td>\n",
       "      <td>1460</td>\n",
       "      <td>...</td>\n",
       "      <td>1460</td>\n",
       "      <td>1460</td>\n",
       "      <td>1460</td>\n",
       "      <td>1460</td>\n",
       "      <td>1460</td>\n",
       "      <td>1460</td>\n",
       "      <td>1460</td>\n",
       "      <td>1460</td>\n",
       "      <td>1460</td>\n",
       "      <td>1460</td>\n",
       "    </tr>\n",
       "    <tr>\n",
       "      <th>unique</th>\n",
       "      <td>5</td>\n",
       "      <td>2</td>\n",
       "      <td>4</td>\n",
       "      <td>4</td>\n",
       "      <td>5</td>\n",
       "      <td>25</td>\n",
       "      <td>8</td>\n",
       "      <td>15</td>\n",
       "      <td>16</td>\n",
       "      <td>4</td>\n",
       "      <td>...</td>\n",
       "      <td>7</td>\n",
       "      <td>4</td>\n",
       "      <td>6</td>\n",
       "      <td>6</td>\n",
       "      <td>3</td>\n",
       "      <td>4</td>\n",
       "      <td>5</td>\n",
       "      <td>5</td>\n",
       "      <td>9</td>\n",
       "      <td>6</td>\n",
       "    </tr>\n",
       "    <tr>\n",
       "      <th>top</th>\n",
       "      <td>RL</td>\n",
       "      <td>Pave</td>\n",
       "      <td>Reg</td>\n",
       "      <td>Lvl</td>\n",
       "      <td>Inside</td>\n",
       "      <td>NAmes</td>\n",
       "      <td>1Story</td>\n",
       "      <td>VinylSd</td>\n",
       "      <td>VinylSd</td>\n",
       "      <td>-1</td>\n",
       "      <td>...</td>\n",
       "      <td>Attchd</td>\n",
       "      <td>Unf</td>\n",
       "      <td>TA</td>\n",
       "      <td>TA</td>\n",
       "      <td>Y</td>\n",
       "      <td>-1</td>\n",
       "      <td>-1</td>\n",
       "      <td>-1</td>\n",
       "      <td>WD</td>\n",
       "      <td>Normal</td>\n",
       "    </tr>\n",
       "    <tr>\n",
       "      <th>freq</th>\n",
       "      <td>1151</td>\n",
       "      <td>1454</td>\n",
       "      <td>925</td>\n",
       "      <td>1311</td>\n",
       "      <td>1052</td>\n",
       "      <td>225</td>\n",
       "      <td>726</td>\n",
       "      <td>515</td>\n",
       "      <td>504</td>\n",
       "      <td>869</td>\n",
       "      <td>...</td>\n",
       "      <td>870</td>\n",
       "      <td>605</td>\n",
       "      <td>1311</td>\n",
       "      <td>1326</td>\n",
       "      <td>1340</td>\n",
       "      <td>1453</td>\n",
       "      <td>1179</td>\n",
       "      <td>1406</td>\n",
       "      <td>1267</td>\n",
       "      <td>1198</td>\n",
       "    </tr>\n",
       "  </tbody>\n",
       "</table>\n",
       "<p>4 rows × 28 columns</p>\n",
       "</div>"
      ],
      "text/plain": [
       "       ZoningClassification RoadAccessType ParcelShape TerrainFlatness  \\\n",
       "count                  1460           1460        1460            1460   \n",
       "unique                    5              2           4               4   \n",
       "top                      RL           Pave         Reg             Lvl   \n",
       "freq                   1151           1454         925            1311   \n",
       "\n",
       "       ParcelSettings District DwellingStyle ExteriorCladding1  \\\n",
       "count            1460     1460          1460              1460   \n",
       "unique              5       25             8                15   \n",
       "top            Inside    NAmes        1Story           VinylSd   \n",
       "freq             1052      225           726               515   \n",
       "\n",
       "       ExteriorCladding2  MasonryType  ... GarageLocation GarageInterior  \\\n",
       "count               1460         1460  ...           1460           1460   \n",
       "unique                16            4  ...              7              4   \n",
       "top              VinylSd           -1  ...         Attchd            Unf   \n",
       "freq                 504          869  ...            870            605   \n",
       "\n",
       "       GarageQuality GarageCondition DrivewayType PoolQuality FenceQuality  \\\n",
       "count           1460            1460         1460        1460         1460   \n",
       "unique             6               6            3           4            5   \n",
       "top               TA              TA            Y          -1           -1   \n",
       "freq            1311            1326         1340        1453         1179   \n",
       "\n",
       "        AdditionalFeature SaleType SaleCondition  \n",
       "count                1460     1460          1460  \n",
       "unique                  5        9             6  \n",
       "top                    -1       WD        Normal  \n",
       "freq                 1406     1267          1198  \n",
       "\n",
       "[4 rows x 28 columns]"
      ]
     },
     "execution_count": 227,
     "metadata": {},
     "output_type": "execute_result"
    }
   ],
   "source": [
    "a=data.describe(include='object')\n",
    "a"
   ]
  },
  {
   "cell_type": "code",
   "execution_count": 228,
   "metadata": {},
   "outputs": [
    {
     "data": {
      "text/plain": [
       "Index(['ZoningClassification', 'RoadAccessType', 'ParcelShape',\n",
       "       'TerrainFlatness', 'ParcelSettings', 'District', 'DwellingStyle',\n",
       "       'ExteriorCladding1', 'ExteriorCladding2', 'MasonryType',\n",
       "       'ExteriorQuality', 'FoundationType', 'BasementHeight', 'BasementAccess',\n",
       "       'BasementFinish1', 'HeatingQuality', 'KitchenQuality',\n",
       "       'FireplaceQuality', 'GarageLocation', 'GarageInterior', 'GarageQuality',\n",
       "       'GarageCondition', 'DrivewayType', 'PoolQuality', 'FenceQuality',\n",
       "       'AdditionalFeature', 'SaleType', 'SaleCondition'],\n",
       "      dtype='object')"
      ]
     },
     "execution_count": 228,
     "metadata": {},
     "output_type": "execute_result"
    }
   ],
   "source": [
    "a.columns"
   ]
  },
  {
   "cell_type": "markdown",
   "metadata": {},
   "source": [
    "### ثانياً"
   ]
  },
  {
   "cell_type": "markdown",
   "metadata": {},
   "source": [
    "preprocess_data"
   ]
  },
  {
   "cell_type": "code",
   "execution_count": 428,
   "metadata": {},
   "outputs": [],
   "source": [
    "def preprocess_data(data):\n",
    "    X = data.drop('OutcomeVariable', axis=1)\n",
    "    y = data['OutcomeVariable']\n",
    "\n",
    "    numeric_features = X.select_dtypes(include=['int64', 'float64']).columns\n",
    "    categorical_features = X.select_dtypes(include=['object']).columns\n",
    "\n",
    "    numeric_transformer = Pipeline(steps=[\n",
    "        ('scaler', StandardScaler())])\n",
    "\n",
    "    categorical_transformer = Pipeline(steps=[\n",
    "        ('onehot', OneHotEncoder(handle_unknown='ignore', sparse_output=False))])\n",
    "\n",
    "    X[categorical_features] = X[categorical_features].astype(str)\n",
    "\n",
    "    preprocessor = ColumnTransformer(\n",
    "        transformers=[\n",
    "            ('num', numeric_transformer, numeric_features),\n",
    "            ('cat', categorical_transformer, categorical_features)\n",
    "        ])\n",
    "    def convert_to_dataframe(X):\n",
    "        return pd.DataFrame(X, columns=numeric_features.tolist() + list(preprocessor.named_transformers_['cat']['onehot'].get_feature_names_out(categorical_features)))\n",
    "    \n",
    "    postprocessor = FunctionTransformer(convert_to_dataframe, validate=False)\n",
    "    \n",
    "    return preprocessor, postprocessor, X, y\n",
    "\n",
    "preprocessor,postprocessor, X,y = preprocess_data(data)\n",
    "X_train, X_test, y_train, y_test = train_test_split(X, y, test_size=0.2, random_state=42)\n",
    "# X_train=X\n",
    "# X_test=X\n",
    "# y_train=y\n",
    "# y_test=y"
   ]
  },
  {
   "cell_type": "markdown",
   "metadata": {},
   "source": [
    "RandomForestRegressor"
   ]
  },
  {
   "cell_type": "code",
   "execution_count": 429,
   "metadata": {},
   "outputs": [],
   "source": [
    "def tree_based_importance( X_train, X_test, y_train, y_test,top_n=20):\n",
    "    pipeline = Pipeline(steps=[\n",
    "        ('preprocessor', preprocessor),\n",
    "        ('regressor', RandomForestRegressor(n_estimators=100, random_state=42))\n",
    "    ])\n",
    "\n",
    "    pipeline.fit(X_train, y_train)\n",
    "\n",
    "    model = pipeline.named_steps['regressor']\n",
    "    importances = model.feature_importances_\n",
    "\n",
    "    feature_names = (X_train.select_dtypes(include=['int64', 'float64']).columns.tolist() + \n",
    "                     pipeline.named_steps['preprocessor']\n",
    "                     .transformers_[1][1]\n",
    "                     .named_steps['onehot']\n",
    "                     .get_feature_names_out(X_train.select_dtypes(include=['object']).columns).tolist())\n",
    "    indices = np.argsort(importances)[::-1]\n",
    "    top_features = [feature_names[i] for i in indices[:top_n]]\n",
    "\n",
    "    # تحويل القيم لتكون مصفوفة\n",
    "    shap_values = np.zeros((X_train.shape[0], len(feature_names)))\n",
    "    for i in range(len(feature_names)):\n",
    "        shap_values[:, i] = importances[i]\n",
    "\n",
    "    shap.summary_plot(shap_values, features=pipeline.named_steps['preprocessor'].transform(X_train), feature_names=feature_names, plot_type=\"bar\")\n",
    "\n",
    "    X_train_selected = pd.DataFrame(pipeline.named_steps['preprocessor'].transform(X_train), columns=feature_names)[top_features]\n",
    "    X_test_selected = pd.DataFrame(pipeline.named_steps['preprocessor'].transform(X_test), columns=feature_names)[top_features]\n",
    "\n",
    "    return top_features, X_train_selected, X_test_selected"
   ]
  },
  {
   "cell_type": "code",
   "execution_count": 430,
   "metadata": {},
   "outputs": [
    {
     "data": {
      "image/png": "[encoded data removed]",
      "text/plain": [
       "<Figure size 800x950 with 1 Axes>"
      ]
     },
     "metadata": {},
     "output_type": "display_data"
    }
   ],
   "source": [
    "top_features_tree_based ,  X_train_selected_tree_based, X_test_selected_tree_based=tree_based_importance( X_train, X_test, y_train, y_test)"
   ]
  },
  {
   "cell_type": "markdown",
   "metadata": {},
   "source": [
    "LinearRegression"
   ]
  },
  {
   "cell_type": "code",
   "execution_count": 431,
   "metadata": {},
   "outputs": [],
   "source": [
    "def LinearRegression_importance( X_train, X_test, y_train, y_test, top_n=20):\n",
    "    pipeline = Pipeline(steps=[\n",
    "        ('preprocessor', preprocessor),\n",
    "        ('regressor', LinearRegression())\n",
    "    ])\n",
    "\n",
    "    pipeline.fit(X_train, y_train)\n",
    "\n",
    "    model = pipeline.named_steps['regressor']\n",
    "    coefficients = model.coef_\n",
    "\n",
    "    feature_names = (X_train.select_dtypes(include=['int64', 'float64']).columns.tolist() + \n",
    "                     preprocessor.transformers_[1][1]\n",
    "                     .named_steps['onehot']\n",
    "                     .get_feature_names_out(X_train.select_dtypes(include=['object']).columns).tolist())\n",
    "    indices = np.argsort(np.abs(coefficients))[::-1]\n",
    "    top_features = [feature_names[i] for i in indices[:top_n]]\n",
    "\n",
    "    # تحويل القيم لتكون مصفوفة\n",
    "    shap_values = np.tile(coefficients, (X_train.shape[0], 1))\n",
    "\n",
    "    shap.summary_plot(shap_values, features=pipeline.named_steps['preprocessor'].transform(X_train), feature_names=feature_names, plot_type=\"bar\")\n",
    "    X_train_selected = pd.DataFrame(pipeline.named_steps['preprocessor'].transform(X_train), columns=feature_names)[top_features]\n",
    "    X_test_selected = pd.DataFrame(pipeline.named_steps['preprocessor'].transform(X_test), columns=feature_names)[top_features]\n",
    "\n",
    "    return top_features, X_train_selected, X_test_selected"
   ]
  },
  {
   "cell_type": "code",
   "execution_count": 432,
   "metadata": {},
   "outputs": [
    {
     "data": {
      "image/png": "[encoded data removed]",
      "text/plain": [
       "<Figure size 800x950 with 1 Axes>"
      ]
     },
     "metadata": {},
     "output_type": "display_data"
    }
   ],
   "source": [
    "top_features_LinearRegression, X_train_selected_LinearRegression, X_test_selected_LinearRegression=LinearRegression_importance( X_train, X_test, y_train, y_test)"
   ]
  },
  {
   "cell_type": "markdown",
   "metadata": {},
   "source": [
    "تراجع العشوائية (Permutation Importance)"
   ]
  },
  {
   "cell_type": "code",
   "execution_count": 433,
   "metadata": {},
   "outputs": [],
   "source": [
    "def permutation_importance_method( X_train, X_test, y_train, y_test, top_n=20):\n",
    "    pipeline = Pipeline(steps=[\n",
    "        ('preprocessor', preprocessor),\n",
    "        ('regressor', RandomForestRegressor(n_estimators=100, random_state=42))\n",
    "    ])\n",
    "\n",
    "    pipeline.fit(X_train, y_train)\n",
    "\n",
    "    X_transformed = pipeline.named_steps['preprocessor'].transform(X_train)\n",
    "    perm_importance = permutation_importance(pipeline.named_steps['regressor'], X_transformed, y_train, n_repeats=10, random_state=42)\n",
    "\n",
    "    feature_names = (X_train.select_dtypes(include=['int64', 'float64']).columns.tolist() + \n",
    "                     preprocessor.transformers_[1][1]\n",
    "                     .named_steps['onehot']\n",
    "                     .get_feature_names_out(X_train.select_dtypes(include=['object']).columns).tolist())\n",
    "    indices = np.argsort(perm_importance.importances_mean)[::-1]\n",
    "    top_features = [feature_names[i] for i in indices[:top_n]]\n",
    "\n",
    "    # تحويل القيم لتكون مصفوفة\n",
    "    shap_values = np.tile(perm_importance.importances_mean, (X_train.shape[0], 1))\n",
    "\n",
    "    shap.summary_plot(shap_values, features=X_transformed, feature_names=feature_names, plot_type=\"bar\")\n",
    "    X_train_selected = pd.DataFrame(pipeline.named_steps['preprocessor'].transform(X_train), columns=feature_names)[top_features]\n",
    "    X_test_selected = pd.DataFrame(pipeline.named_steps['preprocessor'].transform(X_test), columns=feature_names)[top_features]\n",
    "\n",
    "    return top_features, X_train_selected, X_test_selected"
   ]
  },
  {
   "cell_type": "code",
   "execution_count": 434,
   "metadata": {},
   "outputs": [
    {
     "data": {
      "image/png": "[encoded data removed]",
      "text/plain": [
       "<Figure size 800x950 with 1 Axes>"
      ]
     },
     "metadata": {},
     "output_type": "display_data"
    }
   ],
   "source": [
    "top_features_permutation, X_train_selected_permutation, X_test_selected_permutation=permutation_importance_method(X_train, X_test, y_train, y_test)"
   ]
  },
  {
   "cell_type": "markdown",
   "metadata": {},
   "source": [
    "SHAP (SHapley Additive exPlanations)"
   ]
  },
  {
   "cell_type": "code",
   "execution_count": 435,
   "metadata": {},
   "outputs": [],
   "source": [
    "def shap_importance( X_train, X_test, y_train, y_test, top_n=20):\n",
    "    pipeline = Pipeline(steps=[\n",
    "        ('preprocessor', preprocessor),\n",
    "        ('regressor', RandomForestRegressor(n_estimators=100, random_state=42))\n",
    "    ])\n",
    "\n",
    "    pipeline.fit(X_train, y_train)\n",
    "\n",
    "    model = pipeline.named_steps['regressor']\n",
    "\n",
    "    explainer = shap.TreeExplainer(model)\n",
    "    shap_values = explainer.shap_values(pipeline.named_steps['preprocessor'].transform(X_train))\n",
    "\n",
    "    feature_names = (X_train.select_dtypes(include=['int64', 'float64']).columns.tolist() + \n",
    "                     pipeline.named_steps['preprocessor']\n",
    "                     .transformers_[1][1]\n",
    "                     .named_steps['onehot']\n",
    "                     .get_feature_names_out(X_train.select_dtypes(include=['object']).columns).tolist())\n",
    "    shap_abs_mean = np.mean(np.abs(shap_values), axis=0)\n",
    "    indices = np.argsort(shap_abs_mean)[::-1]\n",
    "    top_features = [feature_names[i] for i in indices[:top_n]]\n",
    "\n",
    "    shap.summary_plot(shap_values, features=pipeline.named_steps['preprocessor'].transform(X_train), feature_names=feature_names, plot_type=\"bar\")\n",
    "    # تحويل البيانات باستخدام الميزات المحددة فقط\n",
    "    X_train_selected = pd.DataFrame(pipeline.named_steps['preprocessor'].transform(X_train), columns=feature_names)[top_features]\n",
    "    X_test_selected = pd.DataFrame(pipeline.named_steps['preprocessor'].transform(X_test), columns=feature_names)[top_features]\n",
    "\n",
    "    return top_features, X_train_selected, X_test_selected"
   ]
  },
  {
   "cell_type": "code",
   "execution_count": 436,
   "metadata": {},
   "outputs": [
    {
     "data": {
      "image/png": "[encoded data removed]",
      "text/plain": [
       "<Figure size 800x950 with 1 Axes>"
      ]
     },
     "metadata": {},
     "output_type": "display_data"
    }
   ],
   "source": [
    "top_features_shap, X_train_selected_shap, X_test_selected_shap=shap_importance(X_train, X_test, y_train, y_test)"
   ]
  },
  {
   "cell_type": "code",
   "execution_count": 437,
   "metadata": {},
   "outputs": [],
   "source": [
    "def select_percentile_importance(X_train, X_test, y_train, y_test, percentile=20):\n",
    "    \n",
    "    X_train_transformed = preprocessor.fit_transform(X_train)\n",
    "    X_test_transformed = preprocessor.transform(X_test)\n",
    "\n",
    "    select = SelectPercentile(score_func=f_regression, percentile=percentile)\n",
    "    select.fit(X_train_transformed, y_train)\n",
    "    X_train_selected = select.transform(X_train_transformed)\n",
    "    X_test_selected = select.transform(X_test_transformed)\n",
    "\n",
    "    feature_names = (X_train.select_dtypes(include=['int64', 'float64']).columns.tolist() + \n",
    "                     preprocessor.transformers_[1][1]\n",
    "                     .named_steps['onehot']\n",
    "                     .get_feature_names_out(X_train.select_dtypes(include=['object']).columns).tolist())\n",
    "\n",
    "    selected_feature_indices = select.get_support(indices=True)\n",
    "    top_features = [feature_names[i] for i in selected_feature_indices]\n",
    "    # ترتيب الميزات بناءً على الدرجات\n",
    "    scores = select.scores_[selected_feature_indices]\n",
    "    top_features_sorted = [x for _, x in sorted(zip(scores, top_features), reverse=True)]\n",
    "    top_features_scores = select.scores_[selected_feature_indices]\n",
    "\n",
    "    # إنشاء DataFrame لعرض الميزات ونسبة أهميتها\n",
    "    importance_df = pd.DataFrame({\n",
    "        'Feature': top_features,\n",
    "        'Score': top_features_scores\n",
    "    }).sort_values(by='Score', ascending=False)\n",
    "\n",
    "    # عرض أهمية الميزات في مخطط\n",
    "    plt.figure(figsize=(15, 15))\n",
    "    plt.barh(importance_df['Feature'], importance_df['Score'])\n",
    "    plt.xlabel('Importance Score')\n",
    "    plt.ylabel('Features')\n",
    "    plt.title('Feature Importance')\n",
    "    plt.gca().invert_yaxis()\n",
    "    plt.show()\n",
    "\n",
    "    return top_features_sorted, X_train_selected, X_test_selected"
   ]
  },
  {
   "cell_type": "code",
   "execution_count": 438,
   "metadata": {},
   "outputs": [
    {
     "data": {
      "image/png": "[encoded data removed]",
      "text/plain": [
       "<Figure size 1500x1500 with 1 Axes>"
      ]
     },
     "metadata": {},
     "output_type": "display_data"
    }
   ],
   "source": [
    "top_features_select_percentile, X_train_selected_select_percentile, X_test_selected_select_percentile = select_percentile_importance(X_train, X_test, y_train, y_test)"
   ]
  },
  {
   "cell_type": "code",
   "execution_count": 439,
   "metadata": {},
   "outputs": [],
   "source": [
    "df = pd.DataFrame({ \n",
    "    'tree_based Importance': pd.Series(top_features_tree_based),\n",
    "    'LinearRegression Importance': pd.Series(top_features_LinearRegression),\n",
    "    'permutation Importance': pd.Series(top_features_permutation),\n",
    "    'SHAP Importance': pd.Series(top_features_shap),\n",
    "    'SelectPercentile Importance': pd.Series(top_features_select_percentile),\n",
    "})\n"
   ]
  },
  {
   "cell_type": "code",
   "execution_count": 440,
   "metadata": {},
   "outputs": [
    {
     "data": {
      "text/html": [
       "<div>\n",
       "<style scoped>\n",
       "    .dataframe tbody tr th:only-of-type {\n",
       "        vertical-align: middle;\n",
       "    }\n",
       "\n",
       "    .dataframe tbody tr th {\n",
       "        vertical-align: top;\n",
       "    }\n",
       "\n",
       "    .dataframe thead th {\n",
       "        text-align: right;\n",
       "    }\n",
       "</style>\n",
       "<table border=\"1\" class=\"dataframe\">\n",
       "  <thead>\n",
       "    <tr style=\"text-align: right;\">\n",
       "      <th></th>\n",
       "      <th>tree_based Importance</th>\n",
       "      <th>LinearRegression Importance</th>\n",
       "      <th>permutation Importance</th>\n",
       "      <th>SHAP Importance</th>\n",
       "      <th>SelectPercentile Importance</th>\n",
       "    </tr>\n",
       "  </thead>\n",
       "  <tbody>\n",
       "    <tr>\n",
       "      <th>0</th>\n",
       "      <td>MaterialQuality</td>\n",
       "      <td>BasementFinishedArea1</td>\n",
       "      <td>MaterialQuality</td>\n",
       "      <td>MaterialQuality</td>\n",
       "      <td>MaterialQuality</td>\n",
       "    </tr>\n",
       "    <tr>\n",
       "      <th>1</th>\n",
       "      <td>LivingArea</td>\n",
       "      <td>BasementUnfinishedArea</td>\n",
       "      <td>LivingArea</td>\n",
       "      <td>LivingArea</td>\n",
       "      <td>LivingArea</td>\n",
       "    </tr>\n",
       "    <tr>\n",
       "      <th>2</th>\n",
       "      <td>TotalBasementArea</td>\n",
       "      <td>TotalBasementArea</td>\n",
       "      <td>TotalBasementArea</td>\n",
       "      <td>TotalBasementArea</td>\n",
       "      <td>GarageCapacity</td>\n",
       "    </tr>\n",
       "    <tr>\n",
       "      <th>3</th>\n",
       "      <td>UpperFloorArea</td>\n",
       "      <td>GarageInterior_Fin</td>\n",
       "      <td>BasementFinishedArea1</td>\n",
       "      <td>BasementFinishedArea1</td>\n",
       "      <td>GarageSize</td>\n",
       "    </tr>\n",
       "    <tr>\n",
       "      <th>4</th>\n",
       "      <td>BasementFinishedArea1</td>\n",
       "      <td>GarageInterior_Unf</td>\n",
       "      <td>UpperFloorArea</td>\n",
       "      <td>ConstructionYear</td>\n",
       "      <td>TotalBasementArea</td>\n",
       "    </tr>\n",
       "    <tr>\n",
       "      <th>5</th>\n",
       "      <td>GroundFloorArea</td>\n",
       "      <td>GarageInterior_RFn</td>\n",
       "      <td>GroundFloorArea</td>\n",
       "      <td>GroundFloorArea</td>\n",
       "      <td>GroundFloorArea</td>\n",
       "    </tr>\n",
       "    <tr>\n",
       "      <th>6</th>\n",
       "      <td>ParcelSize</td>\n",
       "      <td>LivingArea</td>\n",
       "      <td>ParcelSize</td>\n",
       "      <td>GarageSize</td>\n",
       "      <td>ExteriorQuality_TA</td>\n",
       "    </tr>\n",
       "    <tr>\n",
       "      <th>7</th>\n",
       "      <td>GarageSize</td>\n",
       "      <td>BasementFinishedArea2</td>\n",
       "      <td>GarageSize</td>\n",
       "      <td>ParcelSize</td>\n",
       "      <td>FullBathrooms</td>\n",
       "    </tr>\n",
       "    <tr>\n",
       "      <th>8</th>\n",
       "      <td>ConstructionYear</td>\n",
       "      <td>UpperFloorArea</td>\n",
       "      <td>ConstructionYear</td>\n",
       "      <td>RenovationYear</td>\n",
       "      <td>BasementHeight_Ex</td>\n",
       "    </tr>\n",
       "    <tr>\n",
       "      <th>9</th>\n",
       "      <td>GarageCapacity</td>\n",
       "      <td>FireplaceQuality_-1</td>\n",
       "      <td>GarageCapacity</td>\n",
       "      <td>GarageCapacity</td>\n",
       "      <td>TotalRooms</td>\n",
       "    </tr>\n",
       "    <tr>\n",
       "      <th>10</th>\n",
       "      <td>StreetLineLength</td>\n",
       "      <td>FireplaceQuality_TA</td>\n",
       "      <td>StreetLineLength</td>\n",
       "      <td>UpperFloorArea</td>\n",
       "      <td>ConstructionYear</td>\n",
       "    </tr>\n",
       "    <tr>\n",
       "      <th>11</th>\n",
       "      <td>GarageConstructionYear</td>\n",
       "      <td>FireplaceQuality_Ex</td>\n",
       "      <td>RenovationYear</td>\n",
       "      <td>GarageConstructionYear</td>\n",
       "      <td>KitchenQuality_TA</td>\n",
       "    </tr>\n",
       "    <tr>\n",
       "      <th>12</th>\n",
       "      <td>RenovationYear</td>\n",
       "      <td>FireplaceQuality_Fa</td>\n",
       "      <td>GarageConstructionYear</td>\n",
       "      <td>ConditionRating</td>\n",
       "      <td>KitchenQuality_Ex</td>\n",
       "    </tr>\n",
       "    <tr>\n",
       "      <th>13</th>\n",
       "      <td>TotalRooms</td>\n",
       "      <td>FireplaceQuality_Gd</td>\n",
       "      <td>OpenPorchArea</td>\n",
       "      <td>OpenPorchArea</td>\n",
       "      <td>RenovationYear</td>\n",
       "    </tr>\n",
       "    <tr>\n",
       "      <th>14</th>\n",
       "      <td>OpenPorchArea</td>\n",
       "      <td>FireplaceQuality_Po</td>\n",
       "      <td>TotalRooms</td>\n",
       "      <td>StreetLineLength</td>\n",
       "      <td>FoundationType_PConc</td>\n",
       "    </tr>\n",
       "    <tr>\n",
       "      <th>15</th>\n",
       "      <td>FullBathrooms</td>\n",
       "      <td>GroundFloorArea</td>\n",
       "      <td>ConditionRating</td>\n",
       "      <td>FullBathrooms</td>\n",
       "      <td>FireplaceQuality_-1</td>\n",
       "    </tr>\n",
       "    <tr>\n",
       "      <th>16</th>\n",
       "      <td>BasementHeight_Ex</td>\n",
       "      <td>BasementHeight_Gd</td>\n",
       "      <td>BasementHeight_Ex</td>\n",
       "      <td>BasementHeight_Ex</td>\n",
       "      <td>MasonrySize</td>\n",
       "    </tr>\n",
       "    <tr>\n",
       "      <th>17</th>\n",
       "      <td>BasementUnfinishedArea</td>\n",
       "      <td>BasementHeight_TA</td>\n",
       "      <td>BasementUnfinishedArea</td>\n",
       "      <td>KitchenQuality_Gd</td>\n",
       "      <td>FireplaceCount</td>\n",
       "    </tr>\n",
       "    <tr>\n",
       "      <th>18</th>\n",
       "      <td>ConditionRating</td>\n",
       "      <td>BasementHeight_Fa</td>\n",
       "      <td>KitchenQuality_Gd</td>\n",
       "      <td>BuildingCategory</td>\n",
       "      <td>BasementHeight_TA</td>\n",
       "    </tr>\n",
       "    <tr>\n",
       "      <th>19</th>\n",
       "      <td>WoodDeckArea</td>\n",
       "      <td>BasementHeight_Ex</td>\n",
       "      <td>SaleMonth</td>\n",
       "      <td>GarageLocation_Detchd</td>\n",
       "      <td>HeatingQuality_Ex</td>\n",
       "    </tr>\n",
       "    <tr>\n",
       "      <th>20</th>\n",
       "      <td>NaN</td>\n",
       "      <td>NaN</td>\n",
       "      <td>NaN</td>\n",
       "      <td>NaN</td>\n",
       "      <td>ExteriorQuality_Gd</td>\n",
       "    </tr>\n",
       "    <tr>\n",
       "      <th>21</th>\n",
       "      <td>NaN</td>\n",
       "      <td>NaN</td>\n",
       "      <td>NaN</td>\n",
       "      <td>NaN</td>\n",
       "      <td>ExteriorQuality_Ex</td>\n",
       "    </tr>\n",
       "    <tr>\n",
       "      <th>22</th>\n",
       "      <td>NaN</td>\n",
       "      <td>NaN</td>\n",
       "      <td>NaN</td>\n",
       "      <td>NaN</td>\n",
       "      <td>BasementFinish1_GLQ</td>\n",
       "    </tr>\n",
       "    <tr>\n",
       "      <th>23</th>\n",
       "      <td>NaN</td>\n",
       "      <td>NaN</td>\n",
       "      <td>NaN</td>\n",
       "      <td>NaN</td>\n",
       "      <td>GarageInterior_Fin</td>\n",
       "    </tr>\n",
       "    <tr>\n",
       "      <th>24</th>\n",
       "      <td>NaN</td>\n",
       "      <td>NaN</td>\n",
       "      <td>NaN</td>\n",
       "      <td>NaN</td>\n",
       "      <td>GarageInterior_Unf</td>\n",
       "    </tr>\n",
       "    <tr>\n",
       "      <th>25</th>\n",
       "      <td>NaN</td>\n",
       "      <td>NaN</td>\n",
       "      <td>NaN</td>\n",
       "      <td>NaN</td>\n",
       "      <td>District_NridgHt</td>\n",
       "    </tr>\n",
       "    <tr>\n",
       "      <th>26</th>\n",
       "      <td>NaN</td>\n",
       "      <td>NaN</td>\n",
       "      <td>NaN</td>\n",
       "      <td>NaN</td>\n",
       "      <td>BasementFinishedArea1</td>\n",
       "    </tr>\n",
       "    <tr>\n",
       "      <th>27</th>\n",
       "      <td>NaN</td>\n",
       "      <td>NaN</td>\n",
       "      <td>NaN</td>\n",
       "      <td>NaN</td>\n",
       "      <td>GarageLocation_Detchd</td>\n",
       "    </tr>\n",
       "    <tr>\n",
       "      <th>28</th>\n",
       "      <td>NaN</td>\n",
       "      <td>NaN</td>\n",
       "      <td>NaN</td>\n",
       "      <td>NaN</td>\n",
       "      <td>FoundationType_CBlock</td>\n",
       "    </tr>\n",
       "    <tr>\n",
       "      <th>29</th>\n",
       "      <td>NaN</td>\n",
       "      <td>NaN</td>\n",
       "      <td>NaN</td>\n",
       "      <td>NaN</td>\n",
       "      <td>SaleCondition_Partial</td>\n",
       "    </tr>\n",
       "    <tr>\n",
       "      <th>30</th>\n",
       "      <td>NaN</td>\n",
       "      <td>NaN</td>\n",
       "      <td>NaN</td>\n",
       "      <td>NaN</td>\n",
       "      <td>SaleType_New</td>\n",
       "    </tr>\n",
       "    <tr>\n",
       "      <th>31</th>\n",
       "      <td>NaN</td>\n",
       "      <td>NaN</td>\n",
       "      <td>NaN</td>\n",
       "      <td>NaN</td>\n",
       "      <td>MasonryType_-1</td>\n",
       "    </tr>\n",
       "    <tr>\n",
       "      <th>32</th>\n",
       "      <td>NaN</td>\n",
       "      <td>NaN</td>\n",
       "      <td>NaN</td>\n",
       "      <td>NaN</td>\n",
       "      <td>FireplaceQuality_Gd</td>\n",
       "    </tr>\n",
       "    <tr>\n",
       "      <th>33</th>\n",
       "      <td>NaN</td>\n",
       "      <td>NaN</td>\n",
       "      <td>NaN</td>\n",
       "      <td>NaN</td>\n",
       "      <td>GarageLocation_Attchd</td>\n",
       "    </tr>\n",
       "    <tr>\n",
       "      <th>34</th>\n",
       "      <td>NaN</td>\n",
       "      <td>NaN</td>\n",
       "      <td>NaN</td>\n",
       "      <td>NaN</td>\n",
       "      <td>WoodDeckArea</td>\n",
       "    </tr>\n",
       "    <tr>\n",
       "      <th>35</th>\n",
       "      <td>NaN</td>\n",
       "      <td>NaN</td>\n",
       "      <td>NaN</td>\n",
       "      <td>NaN</td>\n",
       "      <td>StreetLineLength</td>\n",
       "    </tr>\n",
       "    <tr>\n",
       "      <th>36</th>\n",
       "      <td>NaN</td>\n",
       "      <td>NaN</td>\n",
       "      <td>NaN</td>\n",
       "      <td>NaN</td>\n",
       "      <td>MasonryType_Stone</td>\n",
       "    </tr>\n",
       "    <tr>\n",
       "      <th>37</th>\n",
       "      <td>NaN</td>\n",
       "      <td>NaN</td>\n",
       "      <td>NaN</td>\n",
       "      <td>NaN</td>\n",
       "      <td>KitchenQuality_Gd</td>\n",
       "    </tr>\n",
       "    <tr>\n",
       "      <th>38</th>\n",
       "      <td>NaN</td>\n",
       "      <td>NaN</td>\n",
       "      <td>NaN</td>\n",
       "      <td>NaN</td>\n",
       "      <td>HeatingQuality_TA</td>\n",
       "    </tr>\n",
       "    <tr>\n",
       "      <th>39</th>\n",
       "      <td>NaN</td>\n",
       "      <td>NaN</td>\n",
       "      <td>NaN</td>\n",
       "      <td>NaN</td>\n",
       "      <td>UpperFloorArea</td>\n",
       "    </tr>\n",
       "    <tr>\n",
       "      <th>40</th>\n",
       "      <td>NaN</td>\n",
       "      <td>NaN</td>\n",
       "      <td>NaN</td>\n",
       "      <td>NaN</td>\n",
       "      <td>District_NoRidge</td>\n",
       "    </tr>\n",
       "    <tr>\n",
       "      <th>41</th>\n",
       "      <td>NaN</td>\n",
       "      <td>NaN</td>\n",
       "      <td>NaN</td>\n",
       "      <td>NaN</td>\n",
       "      <td>ExteriorCladding2_VinylSd</td>\n",
       "    </tr>\n",
       "    <tr>\n",
       "      <th>42</th>\n",
       "      <td>NaN</td>\n",
       "      <td>NaN</td>\n",
       "      <td>NaN</td>\n",
       "      <td>NaN</td>\n",
       "      <td>ExteriorCladding1_VinylSd</td>\n",
       "    </tr>\n",
       "    <tr>\n",
       "      <th>43</th>\n",
       "      <td>NaN</td>\n",
       "      <td>NaN</td>\n",
       "      <td>NaN</td>\n",
       "      <td>NaN</td>\n",
       "      <td>OpenPorchArea</td>\n",
       "    </tr>\n",
       "  </tbody>\n",
       "</table>\n",
       "</div>"
      ],
      "text/plain": [
       "     tree_based Importance LinearRegression Importance  \\\n",
       "0          MaterialQuality       BasementFinishedArea1   \n",
       "1               LivingArea      BasementUnfinishedArea   \n",
       "2        TotalBasementArea           TotalBasementArea   \n",
       "3           UpperFloorArea          GarageInterior_Fin   \n",
       "4    BasementFinishedArea1          GarageInterior_Unf   \n",
       "5          GroundFloorArea          GarageInterior_RFn   \n",
       "6               ParcelSize                  LivingArea   \n",
       "7               GarageSize       BasementFinishedArea2   \n",
       "8         ConstructionYear              UpperFloorArea   \n",
       "9           GarageCapacity         FireplaceQuality_-1   \n",
       "10        StreetLineLength         FireplaceQuality_TA   \n",
       "11  GarageConstructionYear         FireplaceQuality_Ex   \n",
       "12          RenovationYear         FireplaceQuality_Fa   \n",
       "13              TotalRooms         FireplaceQuality_Gd   \n",
       "14           OpenPorchArea         FireplaceQuality_Po   \n",
       "15           FullBathrooms             GroundFloorArea   \n",
       "16       BasementHeight_Ex           BasementHeight_Gd   \n",
       "17  BasementUnfinishedArea           BasementHeight_TA   \n",
       "18         ConditionRating           BasementHeight_Fa   \n",
       "19            WoodDeckArea           BasementHeight_Ex   \n",
       "20                     NaN                         NaN   \n",
       "21                     NaN                         NaN   \n",
       "22                     NaN                         NaN   \n",
       "23                     NaN                         NaN   \n",
       "24                     NaN                         NaN   \n",
       "25                     NaN                         NaN   \n",
       "26                     NaN                         NaN   \n",
       "27                     NaN                         NaN   \n",
       "28                     NaN                         NaN   \n",
       "29                     NaN                         NaN   \n",
       "30                     NaN                         NaN   \n",
       "31                     NaN                         NaN   \n",
       "32                     NaN                         NaN   \n",
       "33                     NaN                         NaN   \n",
       "34                     NaN                         NaN   \n",
       "35                     NaN                         NaN   \n",
       "36                     NaN                         NaN   \n",
       "37                     NaN                         NaN   \n",
       "38                     NaN                         NaN   \n",
       "39                     NaN                         NaN   \n",
       "40                     NaN                         NaN   \n",
       "41                     NaN                         NaN   \n",
       "42                     NaN                         NaN   \n",
       "43                     NaN                         NaN   \n",
       "\n",
       "    permutation Importance         SHAP Importance SelectPercentile Importance  \n",
       "0          MaterialQuality         MaterialQuality             MaterialQuality  \n",
       "1               LivingArea              LivingArea                  LivingArea  \n",
       "2        TotalBasementArea       TotalBasementArea              GarageCapacity  \n",
       "3    BasementFinishedArea1   BasementFinishedArea1                  GarageSize  \n",
       "4           UpperFloorArea        ConstructionYear           TotalBasementArea  \n",
       "5          GroundFloorArea         GroundFloorArea             GroundFloorArea  \n",
       "6               ParcelSize              GarageSize          ExteriorQuality_TA  \n",
       "7               GarageSize              ParcelSize               FullBathrooms  \n",
       "8         ConstructionYear          RenovationYear           BasementHeight_Ex  \n",
       "9           GarageCapacity          GarageCapacity                  TotalRooms  \n",
       "10        StreetLineLength          UpperFloorArea            ConstructionYear  \n",
       "11          RenovationYear  GarageConstructionYear           KitchenQuality_TA  \n",
       "12  GarageConstructionYear         ConditionRating           KitchenQuality_Ex  \n",
       "13           OpenPorchArea           OpenPorchArea              RenovationYear  \n",
       "14              TotalRooms        StreetLineLength        FoundationType_PConc  \n",
       "15         ConditionRating           FullBathrooms         FireplaceQuality_-1  \n",
       "16       BasementHeight_Ex       BasementHeight_Ex                 MasonrySize  \n",
       "17  BasementUnfinishedArea       KitchenQuality_Gd              FireplaceCount  \n",
       "18       KitchenQuality_Gd        BuildingCategory           BasementHeight_TA  \n",
       "19               SaleMonth   GarageLocation_Detchd           HeatingQuality_Ex  \n",
       "20                     NaN                     NaN          ExteriorQuality_Gd  \n",
       "21                     NaN                     NaN          ExteriorQuality_Ex  \n",
       "22                     NaN                     NaN         BasementFinish1_GLQ  \n",
       "23                     NaN                     NaN          GarageInterior_Fin  \n",
       "24                     NaN                     NaN          GarageInterior_Unf  \n",
       "25                     NaN                     NaN            District_NridgHt  \n",
       "26                     NaN                     NaN       BasementFinishedArea1  \n",
       "27                     NaN                     NaN       GarageLocation_Detchd  \n",
       "28                     NaN                     NaN       FoundationType_CBlock  \n",
       "29                     NaN                     NaN       SaleCondition_Partial  \n",
       "30                     NaN                     NaN                SaleType_New  \n",
       "31                     NaN                     NaN              MasonryType_-1  \n",
       "32                     NaN                     NaN         FireplaceQuality_Gd  \n",
       "33                     NaN                     NaN       GarageLocation_Attchd  \n",
       "34                     NaN                     NaN                WoodDeckArea  \n",
       "35                     NaN                     NaN            StreetLineLength  \n",
       "36                     NaN                     NaN           MasonryType_Stone  \n",
       "37                     NaN                     NaN           KitchenQuality_Gd  \n",
       "38                     NaN                     NaN           HeatingQuality_TA  \n",
       "39                     NaN                     NaN              UpperFloorArea  \n",
       "40                     NaN                     NaN            District_NoRidge  \n",
       "41                     NaN                     NaN   ExteriorCladding2_VinylSd  \n",
       "42                     NaN                     NaN   ExteriorCladding1_VinylSd  \n",
       "43                     NaN                     NaN               OpenPorchArea  "
      ]
     },
     "execution_count": 440,
     "metadata": {},
     "output_type": "execute_result"
    }
   ],
   "source": [
    "df"
   ]
  },
  {
   "cell_type": "code",
   "execution_count": 450,
   "metadata": {},
   "outputs": [],
   "source": [
    "from keras.backend import clear_session\n",
    "clear_session()"
   ]
  },
  {
   "cell_type": "code",
   "execution_count": 583,
   "metadata": {},
   "outputs": [],
   "source": [
    "comparison_table = {}\n",
    "\n",
    "comparison_table['Model Name'] = []\n",
    "comparison_table['Data Type'] = []\n",
    "comparison_table['R-squared'] = []"
   ]
  },
  {
   "cell_type": "markdown",
   "metadata": {},
   "source": [
    "### Linear Regression"
   ]
  },
  {
   "cell_type": "code",
   "execution_count": 441,
   "metadata": {},
   "outputs": [],
   "source": [
    "X_train=preprocessor.fit_transform(X_train)\n",
    "X_test=preprocessor.transform(X_test)\n",
    "X=preprocessor.fit_transform(X)"
   ]
  },
  {
   "cell_type": "code",
   "execution_count": 442,
   "metadata": {},
   "outputs": [
    {
     "name": "stdout",
     "output_type": "stream",
     "text": [
      "Best parameters found:  {'lr__copy_X': True, 'lr__fit_intercept': False, 'lr__positive': True}\n",
      "Best R2 score:  0.787067175000788\n"
     ]
    }
   ],
   "source": [
    "pipeline = Pipeline(steps=[\n",
    "    ('lr', LinearRegression())\n",
    "])\n",
    "\n",
    "# تحديد شبكة القيم\n",
    "param_grid = {\n",
    "    'lr__fit_intercept': [True, False],\n",
    "    'lr__copy_X': [True, False],\n",
    "    'lr__positive': [True, False]\n",
    "}\n",
    "\n",
    "# تنفيذ GridSearchCV\n",
    "grid_search_Linear = GridSearchCV(pipeline, param_grid, cv=5, n_jobs=-1, scoring='r2')\n",
    "grid_search_Linear.fit(X_train, y_train)\n",
    "\n",
    "# عرض أفضل المعاملات\n",
    "print(\"Best parameters found: \", grid_search_Linear.best_params_)\n",
    "print(\"Best R2 score: \", grid_search_Linear.best_score_)"
   ]
  },
  {
   "cell_type": "code",
   "execution_count": 451,
   "metadata": {},
   "outputs": [
    {
     "name": "stdout",
     "output_type": "stream",
     "text": [
      "R-squared: 0.8640616673897336\n"
     ]
    }
   ],
   "source": [
    "best_params_Linear = grid_search_Linear.best_params_\n",
    "model_Linear = LinearRegression(fit_intercept=best_params_Linear['lr__fit_intercept'], copy_X=best_params_Linear['lr__copy_X'], positive=best_params_Linear['lr__positive'])\n",
    "model_Linear.fit(X_train, y_train)\n",
    "y_pred = model_Linear.predict(X_test)\n",
    "r2_Linear = r2_score(y_test, y_pred)\n",
    "print(f'R-squared: {r2_Linear}')"
   ]
  },
  {
   "cell_type": "code",
   "execution_count": 260,
   "metadata": {},
   "outputs": [],
   "source": [
    "# joblib.dump(model_Linear, linear_model)"
   ]
  },
  {
   "cell_type": "code",
   "execution_count": 452,
   "metadata": {},
   "outputs": [
    {
     "name": "stdout",
     "output_type": "stream",
     "text": [
      "R-squared: 0.7886783246030717\n"
     ]
    }
   ],
   "source": [
    "model_Linear_selected_LinearRegression = LinearRegression()\n",
    "model_Linear_selected_LinearRegression.fit(X_train_selected_LinearRegression, y_train)\n",
    "y_pred = model_Linear_selected_LinearRegression.predict(X_test_selected_LinearRegression)\n",
    "r2_Linear_selected_LinearRegression = r2_score(y_test, y_pred)\n",
    "print(f'R-squared: {r2_Linear_selected_LinearRegression}')"
   ]
  },
  {
   "cell_type": "code",
   "execution_count": 453,
   "metadata": {},
   "outputs": [
    {
     "name": "stdout",
     "output_type": "stream",
     "text": [
      "R-squared: 0.8340039491403521\n"
     ]
    }
   ],
   "source": [
    "model_Linear_selected_permutation = LinearRegression()\n",
    "model_Linear_selected_permutation .fit(X_train_selected_permutation, y_train)\n",
    "y_pred = model_Linear_selected_permutation .predict(X_test_selected_permutation)\n",
    "r2_Linear_selected_permutation = r2_score(y_test, y_pred)\n",
    "print(f'R-squared: {r2_Linear_selected_permutation}')"
   ]
  },
  {
   "cell_type": "code",
   "execution_count": 454,
   "metadata": {},
   "outputs": [
    {
     "name": "stdout",
     "output_type": "stream",
     "text": [
      "R-squared: 0.8560906600956162\n"
     ]
    }
   ],
   "source": [
    "model_Linear_select_percentile  = LinearRegression()\n",
    "model_Linear_select_percentile .fit(X_train_selected_select_percentile, y_train)\n",
    "y_pred = model_Linear_select_percentile .predict(X_test_selected_select_percentile)\n",
    "r2_Linear_select_percentile = r2_score(y_test, y_pred)\n",
    "print(f'R-squared: {r2_Linear_select_percentile}')"
   ]
  },
  {
   "cell_type": "code",
   "execution_count": 455,
   "metadata": {},
   "outputs": [
    {
     "name": "stdout",
     "output_type": "stream",
     "text": [
      "R-squared: 0.8330372320157824\n"
     ]
    }
   ],
   "source": [
    "model_Linear_selected_shap = LinearRegression()\n",
    "model_Linear_selected_shap.fit(X_train_selected_shap, y_train)\n",
    "y_pred = model_Linear_selected_shap.predict(X_test_selected_shap)\n",
    "r2_Linear_selected_shap = r2_score(y_test, y_pred)\n",
    "print(f'R-squared: {r2_Linear_selected_shap}')"
   ]
  },
  {
   "cell_type": "code",
   "execution_count": 456,
   "metadata": {},
   "outputs": [
    {
     "name": "stdout",
     "output_type": "stream",
     "text": [
      "R-squared: 0.8345632692718059\n"
     ]
    }
   ],
   "source": [
    "model_Linear_selected_tree_based = LinearRegression()\n",
    "model_Linear_selected_tree_based.fit(X_train_selected_tree_based, y_train)\n",
    "y_pred = model_Linear_selected_tree_based.predict(X_test_selected_tree_based)\n",
    "r2_Linear_selected_tree_based = r2_score(y_test, y_pred)\n",
    "print(f'R-squared: {r2_Linear_selected_tree_based}')"
   ]
  },
  {
   "cell_type": "code",
   "execution_count": 584,
   "metadata": {},
   "outputs": [],
   "source": [
    "comparison_table['Model Name'].append('LinearRegression')\n",
    "comparison_table['Data Type'].append('Normal Data')\n",
    "comparison_table['R-squared'].append(r2_Linear)\n",
    "\n",
    "comparison_table['Model Name'].append('LinearRegression')\n",
    "comparison_table['Data Type'].append('selected features by LinearRegression')\n",
    "comparison_table['R-squared'].append(r2_Linear_selected_LinearRegression)\n",
    "\n",
    "comparison_table['Model Name'].append('LinearRegression')\n",
    "comparison_table['Data Type'].append('selected features by permutation')\n",
    "comparison_table['R-squared'].append(r2_Linear_selected_permutation)\n",
    "\n",
    "comparison_table['Model Name'].append('LinearRegression')\n",
    "comparison_table['Data Type'].append('selected features by percentile')\n",
    "comparison_table['R-squared'].append(r2_Linear_select_percentile)\n",
    "\n",
    "comparison_table['Model Name'].append('LinearRegression')\n",
    "comparison_table['Data Type'].append('selected features by shap')\n",
    "comparison_table['R-squared'].append(r2_Linear_selected_shap)\n",
    "\n",
    "comparison_table['Model Name'].append('LinearRegression')\n",
    "comparison_table['Data Type'].append('selected features by random forest')\n",
    "comparison_table['R-squared'].append(r2_Linear_selected_tree_based)"
   ]
  },
  {
   "cell_type": "markdown",
   "metadata": {},
   "source": [
    "### Logistic Regression"
   ]
  },
  {
   "cell_type": "code",
   "execution_count": 28,
   "metadata": {},
   "outputs": [
    {
     "name": "stderr",
     "output_type": "stream",
     "text": [
      "c:\\Users\\ASUS\\anaconda3\\Lib\\site-packages\\sklearn\\model_selection\\_split.py:725: UserWarning: The least populated class in y has only 1 members, which is less than n_splits=5.\n",
      "  warnings.warn(\n",
      "c:\\Users\\ASUS\\anaconda3\\Lib\\site-packages\\sklearn\\model_selection\\_validation.py:425: FitFailedWarning: \n",
      "75 fits failed out of a total of 200.\n",
      "The score on these train-test partitions for these parameters will be set to nan.\n",
      "If these failures are not expected, you can try to debug them by setting error_score='raise'.\n",
      "\n",
      "Below are more details about the failures:\n",
      "--------------------------------------------------------------------------------\n",
      "25 fits failed with the following error:\n",
      "Traceback (most recent call last):\n",
      "  File \"c:\\Users\\ASUS\\anaconda3\\Lib\\site-packages\\sklearn\\model_selection\\_validation.py\", line 732, in _fit_and_score\n",
      "    estimator.fit(X_train, y_train, **fit_params)\n",
      "  File \"c:\\Users\\ASUS\\anaconda3\\Lib\\site-packages\\sklearn\\base.py\", line 1151, in wrapper\n",
      "    return fit_method(estimator, *args, **kwargs)\n",
      "           ^^^^^^^^^^^^^^^^^^^^^^^^^^^^^^^^^^^^^^\n",
      "  File \"c:\\Users\\ASUS\\anaconda3\\Lib\\site-packages\\sklearn\\pipeline.py\", line 420, in fit\n",
      "    self._final_estimator.fit(Xt, y, **fit_params_last_step)\n",
      "  File \"c:\\Users\\ASUS\\anaconda3\\Lib\\site-packages\\sklearn\\base.py\", line 1151, in wrapper\n",
      "    return fit_method(estimator, *args, **kwargs)\n",
      "           ^^^^^^^^^^^^^^^^^^^^^^^^^^^^^^^^^^^^^^\n",
      "  File \"c:\\Users\\ASUS\\anaconda3\\Lib\\site-packages\\sklearn\\linear_model\\_logistic.py\", line 1168, in fit\n",
      "    solver = _check_solver(self.solver, self.penalty, self.dual)\n",
      "             ^^^^^^^^^^^^^^^^^^^^^^^^^^^^^^^^^^^^^^^^^^^^^^^^^^^\n",
      "  File \"c:\\Users\\ASUS\\anaconda3\\Lib\\site-packages\\sklearn\\linear_model\\_logistic.py\", line 66, in _check_solver\n",
      "    raise ValueError(\n",
      "ValueError: Only 'saga' solver supports elasticnet penalty, got solver=liblinear.\n",
      "\n",
      "--------------------------------------------------------------------------------\n",
      "25 fits failed with the following error:\n",
      "Traceback (most recent call last):\n",
      "  File \"c:\\Users\\ASUS\\anaconda3\\Lib\\site-packages\\sklearn\\model_selection\\_validation.py\", line 732, in _fit_and_score\n",
      "    estimator.fit(X_train, y_train, **fit_params)\n",
      "  File \"c:\\Users\\ASUS\\anaconda3\\Lib\\site-packages\\sklearn\\base.py\", line 1151, in wrapper\n",
      "    return fit_method(estimator, *args, **kwargs)\n",
      "           ^^^^^^^^^^^^^^^^^^^^^^^^^^^^^^^^^^^^^^\n",
      "  File \"c:\\Users\\ASUS\\anaconda3\\Lib\\site-packages\\sklearn\\pipeline.py\", line 420, in fit\n",
      "    self._final_estimator.fit(Xt, y, **fit_params_last_step)\n",
      "  File \"c:\\Users\\ASUS\\anaconda3\\Lib\\site-packages\\sklearn\\base.py\", line 1151, in wrapper\n",
      "    return fit_method(estimator, *args, **kwargs)\n",
      "           ^^^^^^^^^^^^^^^^^^^^^^^^^^^^^^^^^^^^^^\n",
      "  File \"c:\\Users\\ASUS\\anaconda3\\Lib\\site-packages\\sklearn\\linear_model\\_logistic.py\", line 1178, in fit\n",
      "    raise ValueError(\"l1_ratio must be specified when penalty is elasticnet.\")\n",
      "ValueError: l1_ratio must be specified when penalty is elasticnet.\n",
      "\n",
      "--------------------------------------------------------------------------------\n",
      "25 fits failed with the following error:\n",
      "Traceback (most recent call last):\n",
      "  File \"c:\\Users\\ASUS\\anaconda3\\Lib\\site-packages\\sklearn\\model_selection\\_validation.py\", line 732, in _fit_and_score\n",
      "    estimator.fit(X_train, y_train, **fit_params)\n",
      "  File \"c:\\Users\\ASUS\\anaconda3\\Lib\\site-packages\\sklearn\\base.py\", line 1151, in wrapper\n",
      "    return fit_method(estimator, *args, **kwargs)\n",
      "           ^^^^^^^^^^^^^^^^^^^^^^^^^^^^^^^^^^^^^^\n",
      "  File \"c:\\Users\\ASUS\\anaconda3\\Lib\\site-packages\\sklearn\\pipeline.py\", line 420, in fit\n",
      "    self._final_estimator.fit(Xt, y, **fit_params_last_step)\n",
      "  File \"c:\\Users\\ASUS\\anaconda3\\Lib\\site-packages\\sklearn\\base.py\", line 1151, in wrapper\n",
      "    return fit_method(estimator, *args, **kwargs)\n",
      "           ^^^^^^^^^^^^^^^^^^^^^^^^^^^^^^^^^^^^^^\n",
      "  File \"c:\\Users\\ASUS\\anaconda3\\Lib\\site-packages\\sklearn\\linear_model\\_logistic.py\", line 1168, in fit\n",
      "    solver = _check_solver(self.solver, self.penalty, self.dual)\n",
      "             ^^^^^^^^^^^^^^^^^^^^^^^^^^^^^^^^^^^^^^^^^^^^^^^^^^^\n",
      "  File \"c:\\Users\\ASUS\\anaconda3\\Lib\\site-packages\\sklearn\\linear_model\\_logistic.py\", line 73, in _check_solver\n",
      "    raise ValueError(\"penalty='none' is not supported for the liblinear solver\")\n",
      "ValueError: penalty='none' is not supported for the liblinear solver\n",
      "\n",
      "  warnings.warn(some_fits_failed_message, FitFailedWarning)\n",
      "c:\\Users\\ASUS\\anaconda3\\Lib\\site-packages\\sklearn\\model_selection\\_search.py:976: UserWarning: One or more of the test scores are non-finite: [0.01284252 0.01284252 0.01883276 0.01541029        nan        nan\n",
      "        nan 0.01797073 0.01198048 0.01198415 0.01797073 0.01968013\n",
      "        nan        nan        nan 0.01797073 0.01539195 0.0179744\n",
      " 0.01454826 0.0179744         nan        nan        nan 0.01711603\n",
      " 0.01284252 0.01711603 0.01541763 0.01711603        nan        nan\n",
      "        nan 0.01711236 0.01027475 0.01711603 0.01456293 0.01797073\n",
      "        nan        nan        nan 0.01797073]\n",
      "  warnings.warn(\n"
     ]
    },
    {
     "name": "stdout",
     "output_type": "stream",
     "text": [
      "Best parameters found:  {'lr__C': 0.1, 'lr__penalty': 'l2', 'lr__solver': 'saga'}\n",
      "Best Accuracy score:  0.019680129122189208\n"
     ]
    },
    {
     "name": "stderr",
     "output_type": "stream",
     "text": [
      "c:\\Users\\ASUS\\anaconda3\\Lib\\site-packages\\sklearn\\linear_model\\_sag.py:350: ConvergenceWarning: The max_iter was reached which means the coef_ did not converge\n",
      "  warnings.warn(\n"
     ]
    }
   ],
   "source": [
    "# # إعداد المراحل\n",
    "# pipeline = Pipeline(steps=[\n",
    "#     ('lr', LogisticRegression())\n",
    "# ])\n",
    "\n",
    "# # تحديد شبكة القيم\n",
    "# param_grid = {\n",
    "#     'lr__penalty': ['l1', 'l2', 'elasticnet', 'none'],\n",
    "#     'lr__C': [0.01, 0.1, 1, 10, 100],\n",
    "#     'lr__solver': ['liblinear', 'saga']\n",
    "# }\n",
    "\n",
    "# # تنفيذ GridSearchCV\n",
    "# grid_search = GridSearchCV(pipeline, param_grid, cv=5, n_jobs=-1, scoring='accuracy')ش\n",
    "# grid_search.fit(X_train, y_train)\n",
    "\n",
    "# # عرض أفضل المعاملات\n",
    "# print(\"Best parameters found: \", grid_search.best_params_)\n",
    "# print(\"Best Accuracy score: \", grid_search.best_score_)\n",
    "\n",
    "# Best parameters found:  {'lr__C': 0.1, 'lr__penalty': 'l2', 'lr__solver': 'saga'}\n",
    "# Best Accuracy score:  0.019680129122189208"
   ]
  },
  {
   "cell_type": "code",
   "execution_count": 521,
   "metadata": {},
   "outputs": [
    {
     "name": "stdout",
     "output_type": "stream",
     "text": [
      "Score with all features: 0.010\n"
     ]
    }
   ],
   "source": [
    "# model = LogisticRegression(max_iter=1000) \n",
    "# model.fit(X_train, y_train)\n",
    "# print(\"Score with all features: {:.3f}\".format(model.score(X_test, y_test)))"
   ]
  },
  {
   "cell_type": "code",
   "execution_count": 48,
   "metadata": {},
   "outputs": [
    {
     "name": "stdout",
     "output_type": "stream",
     "text": [
      "Score with all features: 0.007\n"
     ]
    },
    {
     "name": "stderr",
     "output_type": "stream",
     "text": [
      "c:\\Users\\ASUS\\anaconda3\\Lib\\site-packages\\sklearn\\linear_model\\_logistic.py:460: ConvergenceWarning: lbfgs failed to converge (status=1):\n",
      "STOP: TOTAL NO. of ITERATIONS REACHED LIMIT.\n",
      "\n",
      "Increase the number of iterations (max_iter) or scale the data as shown in:\n",
      "    https://scikit-learn.org/stable/modules/preprocessing.html\n",
      "Please also refer to the documentation for alternative solver options:\n",
      "    https://scikit-learn.org/stable/modules/linear_model.html#logistic-regression\n",
      "  n_iter_i = _check_optimize_result(\n"
     ]
    }
   ],
   "source": [
    "# model = LogisticRegression(penalty=None, max_iter=10000) \n",
    "# model.fit(X_train_selected_LinearRegression, y_train)\n",
    "# print(\"Score with all features: {:.3f}\".format(model.score(X_test_selected_LinearRegression, y_test)))"
   ]
  },
  {
   "cell_type": "code",
   "execution_count": 49,
   "metadata": {},
   "outputs": [
    {
     "name": "stdout",
     "output_type": "stream",
     "text": [
      "Score with all features: 0.003\n"
     ]
    },
    {
     "name": "stderr",
     "output_type": "stream",
     "text": [
      "c:\\Users\\ASUS\\anaconda3\\Lib\\site-packages\\sklearn\\linear_model\\_logistic.py:460: ConvergenceWarning: lbfgs failed to converge (status=1):\n",
      "STOP: TOTAL NO. of ITERATIONS REACHED LIMIT.\n",
      "\n",
      "Increase the number of iterations (max_iter) or scale the data as shown in:\n",
      "    https://scikit-learn.org/stable/modules/preprocessing.html\n",
      "Please also refer to the documentation for alternative solver options:\n",
      "    https://scikit-learn.org/stable/modules/linear_model.html#logistic-regression\n",
      "  n_iter_i = _check_optimize_result(\n"
     ]
    }
   ],
   "source": [
    "# model = LogisticRegression(penalty=None, max_iter=1000) \n",
    "# model.fit(X_train_selected_permutation, y_train)\n",
    "# print(\"Score with all features: {:.3f}\".format(model.score(X_test_selected_permutation, y_test)))"
   ]
  },
  {
   "cell_type": "code",
   "execution_count": 50,
   "metadata": {},
   "outputs": [],
   "source": [
    "# model = LogisticRegression(penalty=None, max_iter=1000) \n",
    "# model.fit(X_train_selected_select_percentile, y_train)\n",
    "# print(\"Score with all features: {:.3f}\".format(model.score(X_test_selected_select_percentile, y_test)))"
   ]
  },
  {
   "cell_type": "code",
   "execution_count": 51,
   "metadata": {},
   "outputs": [],
   "source": [
    "# model = LogisticRegression(penalty=None, max_iter=10000) \n",
    "# model.fit(X_train_selected_shap, y_train)\n",
    "# print(\"Score with all features: {:.3f}\".format(model.score(X_test_selected_shap, y_test)))"
   ]
  },
  {
   "cell_type": "code",
   "execution_count": 52,
   "metadata": {},
   "outputs": [],
   "source": [
    "# model = LogisticRegression(penalty=None, max_iter=10000) \n",
    "# model.fit(X_train_selected_tree_based, y_train)\n",
    "# print(\"Score with all features: {:.3f}\".format(model.score(X_test_selected_tree_based, y_test)))"
   ]
  },
  {
   "cell_type": "markdown",
   "metadata": {},
   "source": [
    "### Decision Tree"
   ]
  },
  {
   "cell_type": "code",
   "execution_count": 244,
   "metadata": {},
   "outputs": [
    {
     "name": "stdout",
     "output_type": "stream",
     "text": [
      "Best parameters found:  {'dtr__max_depth': 20, 'dtr__min_samples_leaf': 1, 'dtr__min_samples_split': 2}\n",
      "Best R2 score:  0.7149978231720207\n"
     ]
    }
   ],
   "source": [
    "# إعداد المراحل\n",
    "pipeline = Pipeline(steps=[\n",
    "    ('dtr', DecisionTreeRegressor())\n",
    "])\n",
    "\n",
    "# تحديد شبكة القيم\n",
    "param_grid = {\n",
    "    'dtr__max_depth': [None, 10, 20, 30],\n",
    "    'dtr__min_samples_split': [2, 5, 10],\n",
    "    'dtr__min_samples_leaf': [1, 2, 4]\n",
    "}\n",
    "\n",
    "# تنفيذ GridSearchCV\n",
    "grid_searchDecision_Tree = GridSearchCV(pipeline, param_grid, cv=5, n_jobs=-1, scoring='r2')\n",
    "grid_searchDecision_Tree.fit(X_train, y_train)\n",
    "\n",
    "# عرض أفضل المعاملات\n",
    "print(\"Best parameters found: \", grid_searchDecision_Tree.best_params_)\n",
    "print(\"Best R2 score: \", grid_searchDecision_Tree.best_score_)"
   ]
  },
  {
   "cell_type": "code",
   "execution_count": 457,
   "metadata": {},
   "outputs": [
    {
     "name": "stdout",
     "output_type": "stream",
     "text": [
      "R-squared: 0.775829949606176\n"
     ]
    }
   ],
   "source": [
    "best_params = grid_searchDecision_Tree.best_params_\n",
    "model_DecisionTree = DecisionTreeRegressor(max_depth=best_params['dtr__max_depth'], \n",
    "                              min_samples_leaf=best_params['dtr__min_samples_leaf'], \n",
    "                              min_samples_split=best_params['dtr__min_samples_split'])\n",
    "\n",
    "model_DecisionTree.fit(X_train, y_train)\n",
    "y_pred = model_DecisionTree.predict(X_test)\n",
    "r2_DecisionTree = r2_score(y_test, y_pred)\n",
    "print(f'R-squared: {r2_DecisionTree}')"
   ]
  },
  {
   "cell_type": "code",
   "execution_count": 458,
   "metadata": {},
   "outputs": [
    {
     "name": "stdout",
     "output_type": "stream",
     "text": [
      "R-squared: 0.753250422726865\n"
     ]
    }
   ],
   "source": [
    "model_DecisionTree_selected_LinearRegression = DecisionTreeRegressor(max_depth=best_params['dtr__max_depth'], \n",
    "                              min_samples_leaf=best_params['dtr__min_samples_leaf'], \n",
    "                              min_samples_split=best_params['dtr__min_samples_split'])\n",
    "model_DecisionTree_selected_LinearRegression.fit(X_train_selected_LinearRegression, y_train)\n",
    "y_pred = model_DecisionTree_selected_LinearRegression.predict(X_test_selected_LinearRegression)\n",
    "r2_DecisionTree_selected_LinearRegression  = r2_score(y_test, y_pred)\n",
    "print(f'R-squared: {r2_DecisionTree_selected_LinearRegression }')"
   ]
  },
  {
   "cell_type": "code",
   "execution_count": 459,
   "metadata": {},
   "outputs": [
    {
     "name": "stdout",
     "output_type": "stream",
     "text": [
      "R-squared: 0.7924839293866229\n"
     ]
    }
   ],
   "source": [
    "model_DecisionTree_selected_permutation = DecisionTreeRegressor(max_depth=best_params['dtr__max_depth'], \n",
    "                              min_samples_leaf=best_params['dtr__min_samples_leaf'], \n",
    "                              min_samples_split=best_params['dtr__min_samples_split'])\n",
    "model_DecisionTree_selected_permutation.fit(X_train_selected_permutation, y_train)\n",
    "y_pred = model_DecisionTree_selected_permutation.predict(X_test_selected_permutation)\n",
    "r2_DecisionTree_selected_permutation = r2_score(y_test, y_pred)\n",
    "print(f'R-squared: {r2_DecisionTree_selected_permutation}')"
   ]
  },
  {
   "cell_type": "code",
   "execution_count": 460,
   "metadata": {},
   "outputs": [
    {
     "name": "stdout",
     "output_type": "stream",
     "text": [
      "R-squared: 0.7646272298068697\n"
     ]
    }
   ],
   "source": [
    "model_DecisionTree_select_percentile = DecisionTreeRegressor(max_depth=best_params['dtr__max_depth'], \n",
    "                              min_samples_leaf=best_params['dtr__min_samples_leaf'], \n",
    "                              min_samples_split=best_params['dtr__min_samples_split'])\n",
    "model_DecisionTree_select_percentile.fit(X_train_selected_select_percentile, y_train)\n",
    "y_pred = model_DecisionTree_select_percentile.predict(X_test_selected_select_percentile)\n",
    "r2_DecisionTree_select_percentile = r2_score(y_test, y_pred)\n",
    "print(f'R-squared: {r2_DecisionTree_select_percentile}')"
   ]
  },
  {
   "cell_type": "code",
   "execution_count": 272,
   "metadata": {},
   "outputs": [],
   "source": [
    "# joblib.dump(model, DecisionTree_model)"
   ]
  },
  {
   "cell_type": "code",
   "execution_count": 461,
   "metadata": {},
   "outputs": [
    {
     "name": "stdout",
     "output_type": "stream",
     "text": [
      "R-squared: 0.7835401914329361\n"
     ]
    }
   ],
   "source": [
    "model_DecisionTree_selected_shap = DecisionTreeRegressor(max_depth=best_params['dtr__max_depth'], \n",
    "                              min_samples_leaf=best_params['dtr__min_samples_leaf'], \n",
    "                              min_samples_split=best_params['dtr__min_samples_split'])\n",
    "model_DecisionTree_selected_shap.fit(X_train_selected_shap, y_train)\n",
    "y_pred = model_DecisionTree_selected_shap.predict(X_test_selected_shap)\n",
    "r2_DecisionTree_selected_shap = r2_score(y_test, y_pred)\n",
    "print(f'R-squared: {r2_DecisionTree_selected_shap}')"
   ]
  },
  {
   "cell_type": "code",
   "execution_count": 462,
   "metadata": {},
   "outputs": [
    {
     "name": "stdout",
     "output_type": "stream",
     "text": [
      "R-squared: 0.7858942028058779\n"
     ]
    }
   ],
   "source": [
    "model_DecisionTree_selected_tree_based = DecisionTreeRegressor(max_depth=best_params['dtr__max_depth'], \n",
    "                              min_samples_leaf=best_params['dtr__min_samples_leaf'], \n",
    "                              min_samples_split=best_params['dtr__min_samples_split'])\n",
    "model_DecisionTree_selected_tree_based.fit(X_train_selected_tree_based, y_train)\n",
    "y_pred = model_DecisionTree_selected_tree_based.predict(X_test_selected_tree_based)\n",
    "r2_DecisionTree_selected_tree_based = r2_score(y_test, y_pred)\n",
    "print(f'R-squared: {r2_DecisionTree_selected_tree_based}')"
   ]
  },
  {
   "cell_type": "code",
   "execution_count": 585,
   "metadata": {},
   "outputs": [],
   "source": [
    "comparison_table['Model Name'].append('DecisionTreeRegressor')\n",
    "comparison_table['Data Type'].append('Normal Data')\n",
    "comparison_table['R-squared'].append(r2_DecisionTree)\n",
    "\n",
    "comparison_table['Model Name'].append('DecisionTreeRegressor')\n",
    "comparison_table['Data Type'].append('selected features by LinearRegression')\n",
    "comparison_table['R-squared'].append(r2_DecisionTree_selected_LinearRegression)\n",
    "\n",
    "comparison_table['Model Name'].append('DecisionTreeRegressor')\n",
    "comparison_table['Data Type'].append('selected features by permutation')\n",
    "comparison_table['R-squared'].append(r2_DecisionTree_selected_permutation)\n",
    "\n",
    "comparison_table['Model Name'].append('DecisionTreeRegressor')\n",
    "comparison_table['Data Type'].append('selected features by percentile')\n",
    "comparison_table['R-squared'].append(r2_DecisionTree_select_percentile)\n",
    "\n",
    "comparison_table['Model Name'].append('DecisionTreeRegressor')\n",
    "comparison_table['Data Type'].append('selected features by shap')\n",
    "comparison_table['R-squared'].append(r2_DecisionTree_selected_shap)\n",
    "\n",
    "comparison_table['Model Name'].append('DecisionTreeRegressor')\n",
    "comparison_table['Data Type'].append('selected features by random forest')\n",
    "comparison_table['R-squared'].append(r2_DecisionTree_selected_tree_based)"
   ]
  },
  {
   "cell_type": "markdown",
   "metadata": {},
   "source": [
    "### Random Forest"
   ]
  },
  {
   "cell_type": "code",
   "execution_count": 245,
   "metadata": {},
   "outputs": [
    {
     "name": "stdout",
     "output_type": "stream",
     "text": [
      "Best parameters found:  {'rfr__max_depth': 10, 'rfr__min_samples_leaf': 1, 'rfr__min_samples_split': 2, 'rfr__n_estimators': 200}\n",
      "Best R2 score:  0.8426635823163426\n"
     ]
    }
   ],
   "source": [
    "pipeline = Pipeline(steps=[\n",
    "    # ('preprocessor', preprocessor),\n",
    "    # ('postprocessor', postprocessor),\n",
    "    ('rfr', RandomForestRegressor())\n",
    "])\n",
    "\n",
    "# تحديد شبكة القيم\n",
    "param_grid = {\n",
    "    'rfr__n_estimators': [100, 200, 500],\n",
    "    'rfr__max_depth': [None, 10, 20, 30],\n",
    "    'rfr__min_samples_split': [2, 5, 10],\n",
    "    'rfr__min_samples_leaf': [1, 2, 4]\n",
    "}\n",
    "\n",
    "# تنفيذ GridSearchCV\n",
    "grid_searchRandom_Forest = GridSearchCV(pipeline, param_grid, cv=5, n_jobs=-1, scoring='r2')\n",
    "grid_searchRandom_Forest.fit(X_train, y_train)\n",
    "\n",
    "# عرض أفضل المعاملات\n",
    "print(\"Best parameters found: \", grid_searchRandom_Forest.best_params_)\n",
    "print(\"Best R2 score: \", grid_searchRandom_Forest.best_score_)\n"
   ]
  },
  {
   "cell_type": "code",
   "execution_count": 463,
   "metadata": {},
   "outputs": [
    {
     "name": "stdout",
     "output_type": "stream",
     "text": [
      "R-squared: 0.8929646731893275\n"
     ]
    }
   ],
   "source": [
    "best_params = grid_searchRandom_Forest.best_params_\n",
    "model_RandomForest = RandomForestRegressor(max_depth=best_params['rfr__max_depth'], \n",
    "                              min_samples_leaf=best_params['rfr__min_samples_leaf'], \n",
    "                              min_samples_split=best_params['rfr__min_samples_split'], \n",
    "                              n_estimators=best_params['rfr__n_estimators'])\n",
    "model_RandomForest.fit(X_train, y_train)\n",
    "y_pred = model_RandomForest.predict(X_test)\n",
    "r2_RandomForest = r2_score(y_test, y_pred)\n",
    "print(f'R-squared: {r2_RandomForest}')"
   ]
  },
  {
   "cell_type": "code",
   "execution_count": 464,
   "metadata": {},
   "outputs": [
    {
     "name": "stdout",
     "output_type": "stream",
     "text": [
      "R-squared: 0.8424823420015607\n"
     ]
    }
   ],
   "source": [
    "model_RandomForest_selected_LinearRegression = RandomForestRegressor(max_depth=best_params['rfr__max_depth'], \n",
    "                              min_samples_leaf=best_params['rfr__min_samples_leaf'], \n",
    "                              min_samples_split=best_params['rfr__min_samples_split'], \n",
    "                              n_estimators=best_params['rfr__n_estimators'])\n",
    "model_RandomForest_selected_LinearRegression.fit(X_train_selected_LinearRegression, y_train)\n",
    "y_pred = model_RandomForest_selected_LinearRegression.predict(X_test_selected_LinearRegression)\n",
    "r2_RandomForest_selected_LinearRegression = r2_score(y_test, y_pred)\n",
    "print(f'R-squared: {r2_RandomForest_selected_LinearRegression}')"
   ]
  },
  {
   "cell_type": "code",
   "execution_count": 465,
   "metadata": {},
   "outputs": [
    {
     "name": "stdout",
     "output_type": "stream",
     "text": [
      "R-squared: 0.8953405760178859\n"
     ]
    }
   ],
   "source": [
    "model_RandomForest_selected_permutation = RandomForestRegressor(max_depth=best_params['rfr__max_depth'], \n",
    "                              min_samples_leaf=best_params['rfr__min_samples_leaf'], \n",
    "                              min_samples_split=best_params['rfr__min_samples_split'], \n",
    "                              n_estimators=best_params['rfr__n_estimators'])\n",
    "model_RandomForest_selected_permutation.fit(X_train_selected_permutation, y_train)\n",
    "y_pred = model_RandomForest_selected_permutation.predict(X_test_selected_permutation)\n",
    "r2_RandomForest_selected_permutation = r2_score(y_test, y_pred)\n",
    "print(f'R-squared: {r2_RandomForest_selected_permutation}')\n"
   ]
  },
  {
   "cell_type": "code",
   "execution_count": 466,
   "metadata": {},
   "outputs": [
    {
     "name": "stdout",
     "output_type": "stream",
     "text": [
      "R-squared: 0.887627718372201\n"
     ]
    }
   ],
   "source": [
    "model_RandomForest_select_percentile = RandomForestRegressor(max_depth=best_params['rfr__max_depth'], \n",
    "                              min_samples_leaf=best_params['rfr__min_samples_leaf'], \n",
    "                              min_samples_split=best_params['rfr__min_samples_split'], \n",
    "                              n_estimators=best_params['rfr__n_estimators'])\n",
    "model_RandomForest_select_percentile.fit(X_train_selected_select_percentile, y_train)\n",
    "y_pred = model_RandomForest_select_percentile.predict(X_test_selected_select_percentile)\n",
    "r2_RandomForest_select_percentile = r2_score(y_test, y_pred)\n",
    "print(f'R-squared: {r2_RandomForest_select_percentile}')\n"
   ]
  },
  {
   "cell_type": "code",
   "execution_count": 467,
   "metadata": {},
   "outputs": [
    {
     "name": "stdout",
     "output_type": "stream",
     "text": [
      "R-squared: 0.8960363363280099\n"
     ]
    }
   ],
   "source": [
    "model_RandomForest_selected_shap = RandomForestRegressor(max_depth=best_params['rfr__max_depth'], \n",
    "                              min_samples_leaf=best_params['rfr__min_samples_leaf'], \n",
    "                              min_samples_split=best_params['rfr__min_samples_split'], \n",
    "                              n_estimators=best_params['rfr__n_estimators'])\n",
    "model_RandomForest_selected_shap.fit(X_train_selected_shap, y_train)\n",
    "y_pred = model_RandomForest_selected_shap.predict(X_test_selected_shap)\n",
    "r2_RandomForest_selected_shap = r2_score(y_test, y_pred)\n",
    "print(f'R-squared: {r2_RandomForest_selected_shap}')"
   ]
  },
  {
   "cell_type": "code",
   "execution_count": 280,
   "metadata": {},
   "outputs": [],
   "source": [
    "# joblib.dump(model_RandomForest_selected_shap,RandomForest_model)"
   ]
  },
  {
   "cell_type": "code",
   "execution_count": 468,
   "metadata": {},
   "outputs": [
    {
     "name": "stdout",
     "output_type": "stream",
     "text": [
      "R-squared: 0.8901933432823056\n"
     ]
    }
   ],
   "source": [
    "model_RandomForest_selected_tree_based= RandomForestRegressor(max_depth=best_params['rfr__max_depth'], \n",
    "                              min_samples_leaf=best_params['rfr__min_samples_leaf'], \n",
    "                              min_samples_split=best_params['rfr__min_samples_split'], \n",
    "                              n_estimators=best_params['rfr__n_estimators'])\n",
    "model_RandomForest_selected_tree_based.fit(X_train_selected_tree_based, y_train)\n",
    "y_pred = model_RandomForest_selected_tree_based.predict(X_test_selected_tree_based)\n",
    "r2_RandomForest_selected_tree_based = r2_score(y_test, y_pred)\n",
    "print(f'R-squared: {r2_RandomForest_selected_tree_based}')"
   ]
  },
  {
   "cell_type": "code",
   "execution_count": 586,
   "metadata": {},
   "outputs": [],
   "source": [
    "comparison_table['Model Name'].append('RandomForestRegressor')\n",
    "comparison_table['Data Type'].append('Normal Data')\n",
    "comparison_table['R-squared'].append(r2_RandomForest)\n",
    "\n",
    "comparison_table['Model Name'].append('RandomForestRegressor')\n",
    "comparison_table['Data Type'].append('selected features by LinearRegression')\n",
    "comparison_table['R-squared'].append(r2_RandomForest_selected_LinearRegression)\n",
    "\n",
    "comparison_table['Model Name'].append('RandomForestRegressor')\n",
    "comparison_table['Data Type'].append('selected features by permutation')\n",
    "comparison_table['R-squared'].append(r2_RandomForest_selected_permutation)\n",
    "\n",
    "comparison_table['Model Name'].append('RandomForestRegressor')\n",
    "comparison_table['Data Type'].append('selected features by percentile')\n",
    "comparison_table['R-squared'].append(r2_RandomForest_select_percentile)\n",
    "\n",
    "comparison_table['Model Name'].append('RandomForestRegressor')\n",
    "comparison_table['Data Type'].append('selected features by shap')\n",
    "comparison_table['R-squared'].append(r2_RandomForest_selected_shap)\n",
    "\n",
    "comparison_table['Model Name'].append('RandomForestRegressor')\n",
    "comparison_table['Data Type'].append('selected features by random forest')\n",
    "comparison_table['R-squared'].append(r2_RandomForest_selected_tree_based)"
   ]
  },
  {
   "cell_type": "markdown",
   "metadata": {},
   "source": [
    "### Support Vector Machines"
   ]
  },
  {
   "cell_type": "code",
   "execution_count": 282,
   "metadata": {},
   "outputs": [
    {
     "name": "stdout",
     "output_type": "stream",
     "text": [
      "Best parameters found:  {'svr__C': 100, 'svr__gamma': 'scale', 'svr__kernel': 'linear'}\n",
      "Best R2 score:  0.8046400115657132\n"
     ]
    }
   ],
   "source": [
    "pipeline = Pipeline(steps=[\n",
    "    ('svr', SVR())\n",
    "])\n",
    "\n",
    "# تحديد شبكة القيم\n",
    "param_grid = {\n",
    "    'svr__kernel': ['linear', 'poly', 'rbf'],\n",
    "    'svr__C': [0.1, 1, 10, 100],\n",
    "    'svr__gamma': ['scale', 'auto']\n",
    "}\n",
    "\n",
    "# تنفيذ GridSearchCV\n",
    "grid_searchSVR = GridSearchCV(pipeline, param_grid, cv=5, n_jobs=-1, scoring='r2')\n",
    "grid_searchSVR.fit(X_train, y_train)\n",
    "\n",
    "# عرض أفضل المعاملات\n",
    "print(\"Best parameters found: \", grid_searchSVR.best_params_)\n",
    "print(\"Best R2 score: \", grid_searchSVR.best_score_)"
   ]
  },
  {
   "cell_type": "code",
   "execution_count": 479,
   "metadata": {},
   "outputs": [
    {
     "name": "stdout",
     "output_type": "stream",
     "text": [
      "R-squared: 0.8395142212078645\n"
     ]
    }
   ],
   "source": [
    "best_paramsSVR = grid_searchSVR.best_params_\n",
    "model_SVR = SVR(kernel=best_paramsSVR['svr__kernel'], C=best_paramsSVR['svr__C'], gamma=best_paramsSVR['svr__gamma'])\n",
    "model_SVR.fit(X_train, y_train)\n",
    "y_pred = model_SVR.predict(X_test)\n",
    "r2_SVR = r2_score(y_test, y_pred)\n",
    "print(f'R-squared: {r2_SVR}')"
   ]
  },
  {
   "cell_type": "code",
   "execution_count": 284,
   "metadata": {},
   "outputs": [],
   "source": [
    "# joblib.dump(model,SVR_model)"
   ]
  },
  {
   "cell_type": "code",
   "execution_count": 480,
   "metadata": {},
   "outputs": [
    {
     "name": "stdout",
     "output_type": "stream",
     "text": [
      "R-squared: 0.6948070976695269\n"
     ]
    }
   ],
   "source": [
    "model_SVR_selected_LinearRegression = SVR(kernel=best_paramsSVR['svr__kernel'], C=best_paramsSVR['svr__C'], gamma=best_paramsSVR['svr__gamma'])\n",
    "model_SVR_selected_LinearRegression.fit(X_train_selected_LinearRegression, y_train)\n",
    "y_pred = model_SVR_selected_LinearRegression.predict(X_test_selected_LinearRegression)\n",
    "r2_SVR_selected_LinearRegression = r2_score(y_test, y_pred)\n",
    "print(f'R-squared: {r2_SVR_selected_LinearRegression}')"
   ]
  },
  {
   "cell_type": "code",
   "execution_count": 481,
   "metadata": {},
   "outputs": [
    {
     "name": "stdout",
     "output_type": "stream",
     "text": [
      "R-squared: 0.7882377217968695\n"
     ]
    }
   ],
   "source": [
    "model_SVR_selected_permutation = SVR(kernel=best_paramsSVR['svr__kernel'], C=best_paramsSVR['svr__C'], gamma=best_paramsSVR['svr__gamma'])\n",
    "model_SVR_selected_permutation.fit(X_train_selected_permutation, y_train)\n",
    "y_pred = model_SVR_selected_permutation.predict(X_test_selected_permutation)\n",
    "r2_SVR_selected_permutation = r2_score(y_test, y_pred)\n",
    "print(f'R-squared: {r2_SVR_selected_permutation}')\n"
   ]
  },
  {
   "cell_type": "code",
   "execution_count": 482,
   "metadata": {},
   "outputs": [
    {
     "name": "stdout",
     "output_type": "stream",
     "text": [
      "R-squared: 0.8162857772867702\n"
     ]
    }
   ],
   "source": [
    "model_SVR_select_percentile = SVR(kernel=best_paramsSVR['svr__kernel'], C=best_paramsSVR['svr__C'], gamma=best_paramsSVR['svr__gamma'])\n",
    "model_SVR_select_percentile.fit(X_train_selected_select_percentile, y_train)\n",
    "y_pred = model_SVR_select_percentile.predict(X_test_selected_select_percentile)\n",
    "r2_SVR_select_percentile = r2_score(y_test, y_pred)\n",
    "print(f'R-squared: {r2_SVR_select_percentile}')"
   ]
  },
  {
   "cell_type": "code",
   "execution_count": 483,
   "metadata": {},
   "outputs": [
    {
     "name": "stdout",
     "output_type": "stream",
     "text": [
      "R-squared: 0.7835642077439106\n"
     ]
    }
   ],
   "source": [
    "model_SVR_selected_shap = SVR(kernel=best_paramsSVR['svr__kernel'], C=best_paramsSVR['svr__C'], gamma=best_paramsSVR['svr__gamma'])\n",
    "model_SVR_selected_shap.fit(X_train_selected_shap, y_train)\n",
    "y_pred = model_SVR_selected_shap.predict(X_test_selected_shap)\n",
    "r2_SVR_selected_shap = r2_score(y_test, y_pred)\n",
    "print(f'R-squared: {r2_SVR_selected_shap}')"
   ]
  },
  {
   "cell_type": "code",
   "execution_count": 484,
   "metadata": {},
   "outputs": [
    {
     "name": "stdout",
     "output_type": "stream",
     "text": [
      "R-squared: 0.7899377177696912\n"
     ]
    }
   ],
   "source": [
    "model_SVR_selected_tree_based = SVR(kernel=best_paramsSVR['svr__kernel'], C=best_paramsSVR['svr__C'], gamma=best_paramsSVR['svr__gamma'])\n",
    "model_SVR_selected_tree_based.fit(X_train_selected_tree_based, y_train)\n",
    "y_pred = model_SVR_selected_tree_based.predict(X_test_selected_tree_based)\n",
    "r2_SVR_selected_tree_based = r2_score(y_test, y_pred)\n",
    "print(f'R-squared: {r2_SVR_selected_tree_based}')"
   ]
  },
  {
   "cell_type": "code",
   "execution_count": 587,
   "metadata": {},
   "outputs": [],
   "source": [
    "comparison_table['Model Name'].append('SVR')\n",
    "comparison_table['Data Type'].append('Normal Data')\n",
    "comparison_table['R-squared'].append(r2_SVR)\n",
    "\n",
    "comparison_table['Model Name'].append('SVR')\n",
    "comparison_table['Data Type'].append('selected features by LinearRegression')\n",
    "comparison_table['R-squared'].append(r2_SVR_selected_LinearRegression)\n",
    "\n",
    "comparison_table['Model Name'].append('SVR')\n",
    "comparison_table['Data Type'].append('selected features by permutation')\n",
    "comparison_table['R-squared'].append(r2_SVR_selected_permutation)\n",
    "\n",
    "comparison_table['Model Name'].append('SVR')\n",
    "comparison_table['Data Type'].append('selected features by percentile')\n",
    "comparison_table['R-squared'].append(r2_SVR_select_percentile)\n",
    "\n",
    "comparison_table['Model Name'].append('SVR')\n",
    "comparison_table['Data Type'].append('selected features by shap')\n",
    "comparison_table['R-squared'].append(r2_SVR_selected_shap)\n",
    "\n",
    "comparison_table['Model Name'].append('SVR')\n",
    "comparison_table['Data Type'].append('selected features by random forest')\n",
    "comparison_table['R-squared'].append(r2_SVR_selected_tree_based)"
   ]
  },
  {
   "cell_type": "markdown",
   "metadata": {},
   "source": [
    "### MLPRegressor"
   ]
  },
  {
   "cell_type": "code",
   "execution_count": 246,
   "metadata": {},
   "outputs": [
    {
     "name": "stderr",
     "output_type": "stream",
     "text": [
      "c:\\Users\\ASUS\\anaconda3\\Lib\\site-packages\\sklearn\\model_selection\\_validation.py:425: FitFailedWarning: \n",
      "42 fits failed out of a total of 240.\n",
      "The score on these train-test partitions for these parameters will be set to nan.\n",
      "If these failures are not expected, you can try to debug them by setting error_score='raise'.\n",
      "\n",
      "Below are more details about the failures:\n",
      "--------------------------------------------------------------------------------\n",
      "42 fits failed with the following error:\n",
      "Traceback (most recent call last):\n",
      "  File \"c:\\Users\\ASUS\\anaconda3\\Lib\\site-packages\\sklearn\\model_selection\\_validation.py\", line 732, in _fit_and_score\n",
      "    estimator.fit(X_train, y_train, **fit_params)\n",
      "  File \"c:\\Users\\ASUS\\anaconda3\\Lib\\site-packages\\sklearn\\base.py\", line 1151, in wrapper\n",
      "    return fit_method(estimator, *args, **kwargs)\n",
      "           ^^^^^^^^^^^^^^^^^^^^^^^^^^^^^^^^^^^^^^\n",
      "  File \"c:\\Users\\ASUS\\anaconda3\\Lib\\site-packages\\sklearn\\pipeline.py\", line 420, in fit\n",
      "    self._final_estimator.fit(Xt, y, **fit_params_last_step)\n",
      "  File \"c:\\Users\\ASUS\\anaconda3\\Lib\\site-packages\\sklearn\\base.py\", line 1151, in wrapper\n",
      "    return fit_method(estimator, *args, **kwargs)\n",
      "           ^^^^^^^^^^^^^^^^^^^^^^^^^^^^^^^^^^^^^^\n",
      "  File \"c:\\Users\\ASUS\\anaconda3\\Lib\\site-packages\\sklearn\\neural_network\\_multilayer_perceptron.py\", line 753, in fit\n",
      "    return self._fit(X, y, incremental=False)\n",
      "           ^^^^^^^^^^^^^^^^^^^^^^^^^^^^^^^^^^\n",
      "  File \"c:\\Users\\ASUS\\anaconda3\\Lib\\site-packages\\sklearn\\neural_network\\_multilayer_perceptron.py\", line 496, in _fit\n",
      "    raise ValueError(\n",
      "ValueError: Solver produced non-finite parameter weights. The input data may contain large values and need to be preprocessed.\n",
      "\n",
      "  warnings.warn(some_fits_failed_message, FitFailedWarning)\n",
      "c:\\Users\\ASUS\\anaconda3\\Lib\\site-packages\\sklearn\\model_selection\\_search.py:976: UserWarning: One or more of the test scores are non-finite: [ 3.78235209e-002 -5.66990887e+000 -1.42816311e-002 -5.66988816e+000\n",
      " -2.46059295e-004 -5.66988362e+000  2.79490476e-002 -5.66988767e+000\n",
      "  5.19283880e-001 -5.66625791e+000  1.59185008e-001 -5.66627213e+000\n",
      " -4.37526042e-003 -5.66991253e+000 -3.76461717e-003 -5.66988635e+000\n",
      " -6.86848999e-004 -5.66991748e+000  1.70864113e-001 -5.66990562e+000\n",
      "  9.09214322e-002 -5.66630167e+000  1.08018013e-001 -5.66630031e+000\n",
      "              nan  7.95403419e-001 -2.52031042e+126  7.96252118e-001\n",
      "              nan  8.02085829e-001              nan  8.01263214e-001\n",
      "              nan -5.40096425e+000              nan -5.37793823e+000\n",
      "              nan  7.97262344e-001              nan  7.97211501e-001\n",
      "              nan  8.01175416e-001              nan  8.02179770e-001\n",
      "              nan -5.38252255e+000              nan -5.38681549e+000]\n",
      "  warnings.warn(\n"
     ]
    },
    {
     "name": "stdout",
     "output_type": "stream",
     "text": [
      "Best parameters found:  {'mlp__activation': 'relu', 'mlp__alpha': 0.05, 'mlp__hidden_layer_sizes': (50, 100, 50), 'mlp__learning_rate': 'adaptive', 'mlp__solver': 'adam'}\n",
      "Best R2 score:  0.8021797702318529\n"
     ]
    },
    {
     "name": "stderr",
     "output_type": "stream",
     "text": [
      "c:\\Users\\ASUS\\anaconda3\\Lib\\site-packages\\sklearn\\neural_network\\_multilayer_perceptron.py:691: ConvergenceWarning: Stochastic Optimizer: Maximum iterations (200) reached and the optimization hasn't converged yet.\n",
      "  warnings.warn(\n"
     ]
    }
   ],
   "source": [
    "# إعداد المراحل\n",
    "pipeline = Pipeline(steps=[\n",
    "    ('mlp', MLPRegressor())\n",
    "])\n",
    "\n",
    "# تحديد شبكة القيم\n",
    "param_grid = {\n",
    "    'mlp__hidden_layer_sizes': [(50,50,50), (50,100,50), (100,)],\n",
    "    'mlp__activation': ['tanh', 'relu'],\n",
    "    'mlp__solver': ['sgd', 'adam'],\n",
    "    'mlp__alpha': [0.0001, 0.05],\n",
    "    'mlp__learning_rate': ['constant','adaptive']\n",
    "}\n",
    "\n",
    "# تنفيذ GridSearchCV\n",
    "grid_searchMLP = GridSearchCV(pipeline, param_grid, cv=5, n_jobs=-1, scoring='r2')\n",
    "grid_searchMLP.fit(X_train, y_train)\n",
    "\n",
    "# عرض أفضل المعاملات\n",
    "print(\"Best parameters found: \", grid_searchMLP.best_params_)\n",
    "print(\"Best R2 score: \", grid_searchMLP.best_score_)\n"
   ]
  },
  {
   "cell_type": "code",
   "execution_count": 485,
   "metadata": {},
   "outputs": [
    {
     "name": "stdout",
     "output_type": "stream",
     "text": [
      "R-squared: 0.87887599666297\n"
     ]
    },
    {
     "name": "stderr",
     "output_type": "stream",
     "text": [
      "c:\\Users\\ASUS\\anaconda3\\Lib\\site-packages\\sklearn\\neural_network\\_multilayer_perceptron.py:691: ConvergenceWarning: Stochastic Optimizer: Maximum iterations (1000) reached and the optimization hasn't converged yet.\n",
      "  warnings.warn(\n"
     ]
    }
   ],
   "source": [
    "best_params = grid_searchMLP.best_params_\n",
    "model_MLP = MLPRegressor(hidden_layer_sizes=best_params['mlp__hidden_layer_sizes'], \n",
    "                     activation=best_params['mlp__activation'], \n",
    "                     solver=best_params['mlp__solver'], \n",
    "                     alpha=best_params['mlp__alpha'], \n",
    "                     learning_rate=best_params['mlp__learning_rate'],\n",
    "                     max_iter=1000)  # زيادة max_iter إلى 1000\n",
    "model_MLP.fit(X_train, y_train)\n",
    "y_pred = model_MLP.predict(X_test)\n",
    "r2_MLP = r2_score(y_test, y_pred)\n",
    "print(f'R-squared: {r2_MLP}')"
   ]
  },
  {
   "cell_type": "code",
   "execution_count": 486,
   "metadata": {},
   "outputs": [
    {
     "name": "stdout",
     "output_type": "stream",
     "text": [
      "R-squared: 0.808825287643377\n"
     ]
    },
    {
     "name": "stderr",
     "output_type": "stream",
     "text": [
      "c:\\Users\\ASUS\\anaconda3\\Lib\\site-packages\\sklearn\\neural_network\\_multilayer_perceptron.py:691: ConvergenceWarning: Stochastic Optimizer: Maximum iterations (1000) reached and the optimization hasn't converged yet.\n",
      "  warnings.warn(\n"
     ]
    }
   ],
   "source": [
    "model_MLP_selected_LinearRegression = MLPRegressor(hidden_layer_sizes=best_params['mlp__hidden_layer_sizes'], \n",
    "                     activation=best_params['mlp__activation'], \n",
    "                     solver=best_params['mlp__solver'], \n",
    "                     alpha=best_params['mlp__alpha'], \n",
    "                     learning_rate=best_params['mlp__learning_rate'],\n",
    "                     max_iter=1000)  # زيادة max_iter إلى 1000\n",
    "model_MLP_selected_LinearRegression.fit(X_train_selected_LinearRegression, y_train)\n",
    "y_pred = model_MLP_selected_LinearRegression.predict(X_test_selected_LinearRegression)\n",
    "r2_MLP_selected_LinearRegression = r2_score(y_test, y_pred)\n",
    "print(f'R-squared: {r2_MLP_selected_LinearRegression}')\n"
   ]
  },
  {
   "cell_type": "code",
   "execution_count": 292,
   "metadata": {},
   "outputs": [],
   "source": [
    "# data['MasonryType'].value_counts()"
   ]
  },
  {
   "cell_type": "code",
   "execution_count": 487,
   "metadata": {},
   "outputs": [
    {
     "name": "stdout",
     "output_type": "stream",
     "text": [
      "R-squared: 0.8601011747956724\n"
     ]
    },
    {
     "name": "stderr",
     "output_type": "stream",
     "text": [
      "c:\\Users\\ASUS\\anaconda3\\Lib\\site-packages\\sklearn\\neural_network\\_multilayer_perceptron.py:691: ConvergenceWarning: Stochastic Optimizer: Maximum iterations (1000) reached and the optimization hasn't converged yet.\n",
      "  warnings.warn(\n"
     ]
    }
   ],
   "source": [
    "model_MLP_selected_permutation= MLPRegressor(hidden_layer_sizes=best_params['mlp__hidden_layer_sizes'], \n",
    "                     activation=best_params['mlp__activation'], \n",
    "                     solver=best_params['mlp__solver'], \n",
    "                     alpha=best_params['mlp__alpha'], \n",
    "                     learning_rate=best_params['mlp__learning_rate'],\n",
    "                     max_iter=1000)  # زيادة max_iter إلى 1000\n",
    "model_MLP_selected_permutation.fit(X_train_selected_permutation, y_train)\n",
    "y_pred = model_MLP_selected_permutation.predict(X_test_selected_permutation)\n",
    "r2_MLP_selected_permutation = r2_score(y_test, y_pred)\n",
    "print(f'R-squared: {r2_MLP_selected_permutation}')"
   ]
  },
  {
   "cell_type": "code",
   "execution_count": 488,
   "metadata": {},
   "outputs": [
    {
     "name": "stdout",
     "output_type": "stream",
     "text": [
      "R-squared: 0.871049066711382\n"
     ]
    },
    {
     "name": "stderr",
     "output_type": "stream",
     "text": [
      "c:\\Users\\ASUS\\anaconda3\\Lib\\site-packages\\sklearn\\neural_network\\_multilayer_perceptron.py:691: ConvergenceWarning: Stochastic Optimizer: Maximum iterations (1000) reached and the optimization hasn't converged yet.\n",
      "  warnings.warn(\n"
     ]
    }
   ],
   "source": [
    "model_MLP_select_percentile = MLPRegressor(hidden_layer_sizes=best_params['mlp__hidden_layer_sizes'], \n",
    "                     activation=best_params['mlp__activation'], \n",
    "                     solver=best_params['mlp__solver'], \n",
    "                     alpha=best_params['mlp__alpha'], \n",
    "                     learning_rate=best_params['mlp__learning_rate'],\n",
    "                     max_iter=1000)  # زيادة max_iter إلى 1000\n",
    "model_MLP_select_percentile.fit(X_train_selected_select_percentile, y_train)\n",
    "y_pred = model_MLP_select_percentile.predict(X_test_selected_select_percentile)\n",
    "r2_MLP_select_percentile = r2_score(y_test, y_pred)\n",
    "print(f'R-squared: {r2_MLP_select_percentile}')"
   ]
  },
  {
   "cell_type": "code",
   "execution_count": 295,
   "metadata": {},
   "outputs": [],
   "source": [
    "# joblib.dump(model,MLP_model)"
   ]
  },
  {
   "cell_type": "code",
   "execution_count": 489,
   "metadata": {},
   "outputs": [
    {
     "name": "stdout",
     "output_type": "stream",
     "text": [
      "R-squared: 0.875663532116647\n"
     ]
    }
   ],
   "source": [
    "model_MLP_selected_shap = MLPRegressor(hidden_layer_sizes=best_params['mlp__hidden_layer_sizes'], \n",
    "                     activation=best_params['mlp__activation'], \n",
    "                     solver=best_params['mlp__solver'], \n",
    "                     alpha=best_params['mlp__alpha'], \n",
    "                     learning_rate=best_params['mlp__learning_rate'],\n",
    "                     max_iter=10000)  # زيادة max_iter إلى 1000\n",
    "model_MLP_selected_shap.fit(X_train_selected_shap, y_train)\n",
    "y_pred = model_MLP_selected_shap.predict(X_test_selected_shap)\n",
    "r2_MLP_selected_shap = r2_score(y_test, y_pred)\n",
    "print(f'R-squared: {r2_MLP_selected_shap}')"
   ]
  },
  {
   "cell_type": "code",
   "execution_count": 490,
   "metadata": {},
   "outputs": [
    {
     "name": "stdout",
     "output_type": "stream",
     "text": [
      "R-squared: 0.8617153980820504\n"
     ]
    }
   ],
   "source": [
    "model_MLP_selected_tree_based = MLPRegressor(hidden_layer_sizes=best_params['mlp__hidden_layer_sizes'], \n",
    "                     activation=best_params['mlp__activation'], \n",
    "                     solver=best_params['mlp__solver'], \n",
    "                     alpha=best_params['mlp__alpha'], \n",
    "                     learning_rate=best_params['mlp__learning_rate'],\n",
    "                     max_iter=10000)  # زيادة max_iter إلى 1000\n",
    "model_MLP_selected_tree_based.fit(X_train_selected_tree_based, y_train)\n",
    "y_pred = model_MLP_selected_tree_based.predict(X_test_selected_tree_based)\n",
    "r2_MLP_selected_tree_based = r2_score(y_test, y_pred)\n",
    "print(f'R-squared: {r2_MLP_selected_tree_based}')"
   ]
  },
  {
   "cell_type": "code",
   "execution_count": 588,
   "metadata": {},
   "outputs": [],
   "source": [
    "comparison_table['Model Name'].append('MLPRegressor')\n",
    "comparison_table['Data Type'].append('Normal Data')\n",
    "comparison_table['R-squared'].append(r2_MLP)\n",
    "\n",
    "comparison_table['Model Name'].append('MLPRegressor')\n",
    "comparison_table['Data Type'].append('selected features by LinearRegression')\n",
    "comparison_table['R-squared'].append(r2_MLP_selected_LinearRegression)\n",
    "\n",
    "comparison_table['Model Name'].append('MLPRegressor')\n",
    "comparison_table['Data Type'].append('selected features by permutation')\n",
    "comparison_table['R-squared'].append(r2_MLP_selected_permutation)\n",
    "\n",
    "comparison_table['Model Name'].append('MLPRegressor')\n",
    "comparison_table['Data Type'].append('selected features by percentile')\n",
    "comparison_table['R-squared'].append(r2_MLP_select_percentile)\n",
    "\n",
    "comparison_table['Model Name'].append('MLPRegressor')\n",
    "comparison_table['Data Type'].append('selected features by shap')\n",
    "comparison_table['R-squared'].append(r2_MLP_selected_shap)\n",
    "\n",
    "comparison_table['Model Name'].append('MLPRegressor')\n",
    "comparison_table['Data Type'].append('selected features by random forest')\n",
    "comparison_table['R-squared'].append(r2_MLP_selected_tree_based)"
   ]
  },
  {
   "cell_type": "markdown",
   "metadata": {},
   "source": [
    "### K-Nearest Neighbors - KNN"
   ]
  },
  {
   "cell_type": "code",
   "execution_count": 298,
   "metadata": {},
   "outputs": [
    {
     "name": "stdout",
     "output_type": "stream",
     "text": [
      "Best parameters found:  {'knn__metric': 'manhattan', 'knn__n_neighbors': 3, 'knn__weights': 'distance'}\n",
      "Best R2 score:  0.8040569370675005\n"
     ]
    }
   ],
   "source": [
    "pipeline = Pipeline(steps=[\n",
    "    ('knn', KNeighborsRegressor())\n",
    "])\n",
    "\n",
    "# تحديد شبكة القيم\n",
    "param_grid = {\n",
    "    'knn__n_neighbors': [3, 5, 7, 10],\n",
    "    'knn__weights': ['uniform', 'distance'],\n",
    "    'knn__metric': ['euclidean', 'manhattan', 'minkowski']\n",
    "}\n",
    "\n",
    "# تنفيذ GridSearchCV\n",
    "grid_searchKNN = GridSearchCV(pipeline, param_grid, cv=5, n_jobs=-1, scoring='r2')\n",
    "grid_searchKNN.fit(X_train, y_train)\n",
    "\n",
    "# عرض أفضل المعاملات\n",
    "print(\"Best parameters found: \", grid_searchKNN.best_params_)\n",
    "print(\"Best R2 score: \", grid_searchKNN.best_score_)"
   ]
  },
  {
   "cell_type": "code",
   "execution_count": 527,
   "metadata": {},
   "outputs": [
    {
     "name": "stdout",
     "output_type": "stream",
     "text": [
      "R-squared: 0.8525778278107659\n"
     ]
    }
   ],
   "source": [
    "best_params = grid_searchKNN.best_params_\n",
    "model_KNN = KNeighborsRegressor(n_neighbors=best_params['knn__n_neighbors'], weights=best_params['knn__weights'], metric=best_params['knn__metric'])\n",
    "model_KNN.fit(X_train, y_train)\n",
    "y_pred = model_KNN.predict(X_test)\n",
    "r2_KNN = r2_score(y_test, y_pred)\n",
    "print(f'R-squared: {r2_KNN}')\n"
   ]
  },
  {
   "cell_type": "code",
   "execution_count": 528,
   "metadata": {},
   "outputs": [
    {
     "name": "stdout",
     "output_type": "stream",
     "text": [
      "R-squared: 0.8144563545760426\n"
     ]
    }
   ],
   "source": [
    "model_KNN_selected_LinearRegression = KNeighborsRegressor(n_neighbors=best_params['knn__n_neighbors'], weights=best_params['knn__weights'], metric=best_params['knn__metric'])\n",
    "model_KNN_selected_LinearRegression.fit(X_train_selected_LinearRegression, y_train)\n",
    "y_pred = model_KNN_selected_LinearRegression.predict(X_test_selected_LinearRegression)\n",
    "r2_KNN_selected_LinearRegression = r2_score(y_test, y_pred)\n",
    "print(f'R-squared: {r2_KNN_selected_LinearRegression}')"
   ]
  },
  {
   "cell_type": "code",
   "execution_count": null,
   "metadata": {},
   "outputs": [
    {
     "name": "stdout",
     "output_type": "stream",
     "text": [
      "R-squared: 0.8860554629524143\n"
     ]
    }
   ],
   "source": [
    "model_KNN_selected_permutation = KNeighborsRegressor(n_neighbors=best_params['knn__n_neighbors'], weights=best_params['knn__weights'], metric=best_params['knn__metric'])\n",
    "model_KNN_selected_permutation.fit(X_train_selected_permutation, y_train)\n",
    "y_pred = model_KNN_selected_permutation.predict(X_test_selected_permutation)\n",
    "r2_KNN_selected_permutation = r2_score(y_test, y_pred)\n",
    "print(f'R-squared: {r2_KNN_selected_permutation}')"
   ]
  },
  {
   "cell_type": "code",
   "execution_count": 494,
   "metadata": {},
   "outputs": [
    {
     "name": "stdout",
     "output_type": "stream",
     "text": [
      "R-squared: 0.8775557660376723\n"
     ]
    }
   ],
   "source": [
    "model_KNN_select_percentile = KNeighborsRegressor(n_neighbors=best_params['knn__n_neighbors'], weights=best_params['knn__weights'], metric=best_params['knn__metric'])\n",
    "model_KNN_select_percentile.fit(X_train_selected_select_percentile, y_train)\n",
    "y_pred = model_KNN_select_percentile.predict(X_test_selected_select_percentile)\n",
    "r2_KNN_select_percentile = r2_score(y_test, y_pred)\n",
    "print(f'R-squared: {r2_KNN_select_percentile}')"
   ]
  },
  {
   "cell_type": "code",
   "execution_count": 495,
   "metadata": {},
   "outputs": [
    {
     "name": "stdout",
     "output_type": "stream",
     "text": [
      "R-squared: 0.8901372401346923\n"
     ]
    }
   ],
   "source": [
    "model_KNN_selected_shap = KNeighborsRegressor(n_neighbors=best_params['knn__n_neighbors'], weights=best_params['knn__weights'], metric=best_params['knn__metric'])\n",
    "model_KNN_selected_shap.fit(X_train_selected_shap, y_train)\n",
    "y_pred = model_KNN_selected_shap.predict(X_test_selected_shap)\n",
    "r2_KNN_selected_shap = r2_score(y_test, y_pred)\n",
    "print(f'R-squared: {r2_KNN_selected_shap}')"
   ]
  },
  {
   "cell_type": "code",
   "execution_count": 304,
   "metadata": {},
   "outputs": [],
   "source": [
    "# joblib.dump(model,KNN_model)"
   ]
  },
  {
   "cell_type": "code",
   "execution_count": 496,
   "metadata": {},
   "outputs": [
    {
     "name": "stdout",
     "output_type": "stream",
     "text": [
      "R-squared: 0.8860005209407834\n"
     ]
    }
   ],
   "source": [
    "model_KNN_selected_tree_based = KNeighborsRegressor(n_neighbors=best_params['knn__n_neighbors'], weights=best_params['knn__weights'], metric=best_params['knn__metric'])\n",
    "model_KNN_selected_tree_based.fit(X_train_selected_tree_based, y_train)\n",
    "y_pred = model_KNN_selected_tree_based.predict(X_test_selected_tree_based)\n",
    "r2_KNN_selected_tree_based = r2_score(y_test, y_pred)\n",
    "print(f'R-squared: {r2_KNN_selected_tree_based}')"
   ]
  },
  {
   "cell_type": "code",
   "execution_count": 589,
   "metadata": {},
   "outputs": [],
   "source": [
    "comparison_table['Model Name'].append('KNeighborsRegressor')\n",
    "comparison_table['Data Type'].append('Normal Data')\n",
    "comparison_table['R-squared'].append(r2_KNN)\n",
    "\n",
    "comparison_table['Model Name'].append('KNeighborsRegressor')\n",
    "comparison_table['Data Type'].append('selected features by LinearRegression')\n",
    "comparison_table['R-squared'].append(r2_KNN_selected_LinearRegression)\n",
    "\n",
    "comparison_table['Model Name'].append('KNeighborsRegressor')\n",
    "comparison_table['Data Type'].append('selected features by permutation')\n",
    "comparison_table['R-squared'].append(r2_KNN_selected_permutation)\n",
    "\n",
    "comparison_table['Model Name'].append('KNeighborsRegressor')\n",
    "comparison_table['Data Type'].append('selected features by percentile')\n",
    "comparison_table['R-squared'].append(r2_KNN_select_percentile)\n",
    "\n",
    "comparison_table['Model Name'].append('KNeighborsRegressor')\n",
    "comparison_table['Data Type'].append('selected features by shap')\n",
    "comparison_table['R-squared'].append(r2_KNN_selected_shap)\n",
    "\n",
    "comparison_table['Model Name'].append('KNeighborsRegressor')\n",
    "comparison_table['Data Type'].append('selected features by random forest')\n",
    "comparison_table['R-squared'].append(r2_KNN_selected_tree_based)"
   ]
  },
  {
   "cell_type": "markdown",
   "metadata": {},
   "source": [
    "### Ridge Regression"
   ]
  },
  {
   "cell_type": "code",
   "execution_count": 306,
   "metadata": {},
   "outputs": [
    {
     "name": "stdout",
     "output_type": "stream",
     "text": [
      "Best parameters found:  {'ridge__alpha': 10}\n",
      "Best R2 score:  0.8144889739190507\n"
     ]
    }
   ],
   "source": [
    "pipeline = Pipeline(steps=[\n",
    "    ('ridge', Ridge())\n",
    "])\n",
    "\n",
    "# تحديد شبكة القيم\n",
    "param_grid = {\n",
    "    'ridge__alpha': [0.1, 1, 10, 100, 200]\n",
    "}\n",
    "\n",
    "# تنفيذ GridSearchCV\n",
    "grid_searchRidge = GridSearchCV(pipeline, param_grid, cv=5, n_jobs=-1, scoring='r2')\n",
    "grid_searchRidge.fit(X_train, y_train)\n",
    "\n",
    "# عرض أفضل المعاملات\n",
    "print(\"Best parameters found: \", grid_searchRidge.best_params_)\n",
    "print(\"Best R2 score: \", grid_searchRidge.best_score_)"
   ]
  },
  {
   "cell_type": "code",
   "execution_count": 497,
   "metadata": {},
   "outputs": [
    {
     "name": "stdout",
     "output_type": "stream",
     "text": [
      "R-squared: 0.8745167629047728\n"
     ]
    }
   ],
   "source": [
    "best_params = grid_searchRidge.best_params_\n",
    "model_Ridge = Ridge(alpha=best_params['ridge__alpha'])\n",
    "model_Ridge.fit(X_train, y_train)\n",
    "y_pred = model_Ridge.predict(X_test)\n",
    "r2_Ridge = r2_score(y_test, y_pred)\n",
    "print(f'R-squared: {r2_Ridge}')"
   ]
  },
  {
   "cell_type": "code",
   "execution_count": 308,
   "metadata": {},
   "outputs": [],
   "source": [
    "# joblib.dump(model,Ridge_model)"
   ]
  },
  {
   "cell_type": "code",
   "execution_count": 498,
   "metadata": {},
   "outputs": [
    {
     "name": "stdout",
     "output_type": "stream",
     "text": [
      "R-squared: 0.787377387419699\n"
     ]
    }
   ],
   "source": [
    "model_Ridge_selected_LinearRegression = Ridge(alpha=best_params['ridge__alpha'])\n",
    "model_Ridge_selected_LinearRegression.fit(X_train_selected_LinearRegression, y_train)\n",
    "y_pred = model_Ridge_selected_LinearRegression.predict(X_test_selected_LinearRegression)\n",
    "r2_Ridge_selected_LinearRegression = r2_score(y_test, y_pred)\n",
    "print(f'R-squared: {r2_Ridge_selected_LinearRegression}')"
   ]
  },
  {
   "cell_type": "code",
   "execution_count": 499,
   "metadata": {},
   "outputs": [
    {
     "name": "stdout",
     "output_type": "stream",
     "text": [
      "R-squared: 0.8329231719508223\n"
     ]
    }
   ],
   "source": [
    "model_Ridge_selected_permutation = Ridge(alpha=best_params['ridge__alpha'])\n",
    "model_Ridge_selected_permutation.fit(X_train_selected_permutation, y_train)\n",
    "y_pred = model_Ridge_selected_permutation.predict(X_test_selected_permutation)\n",
    "r2_Ridge_selected_permutation = r2_score(y_test, y_pred)\n",
    "print(f'R-squared: {r2_Ridge_selected_permutation}')"
   ]
  },
  {
   "cell_type": "code",
   "execution_count": 500,
   "metadata": {},
   "outputs": [
    {
     "name": "stdout",
     "output_type": "stream",
     "text": [
      "R-squared: 0.8550047244950892\n"
     ]
    }
   ],
   "source": [
    "model_Ridge_select_percentile = Ridge(alpha=best_params['ridge__alpha'])\n",
    "model_Ridge_select_percentile.fit(X_train_selected_select_percentile, y_train)\n",
    "y_pred = model_Ridge_select_percentile.predict(X_test_selected_select_percentile)\n",
    "r2_Ridge_select_percentile = r2_score(y_test, y_pred)\n",
    "print(f'R-squared: {r2_Ridge_select_percentile}')"
   ]
  },
  {
   "cell_type": "code",
   "execution_count": 501,
   "metadata": {},
   "outputs": [
    {
     "name": "stdout",
     "output_type": "stream",
     "text": [
      "R-squared: 0.8327200195640614\n"
     ]
    }
   ],
   "source": [
    "model_Ridge_selected_shap = Ridge(alpha=best_params['ridge__alpha'])\n",
    "model_Ridge_selected_shap.fit(X_train_selected_shap, y_train)\n",
    "y_pred = model_Ridge_selected_shap.predict(X_test_selected_shap)\n",
    "r2_Ridge_selected_shap = r2_score(y_test, y_pred)\n",
    "print(f'R-squared: {r2_Ridge_selected_shap}')"
   ]
  },
  {
   "cell_type": "code",
   "execution_count": 502,
   "metadata": {},
   "outputs": [
    {
     "name": "stdout",
     "output_type": "stream",
     "text": [
      "R-squared: 0.8334325009532524\n"
     ]
    }
   ],
   "source": [
    "model_Ridge_selected_tree_based = Ridge(alpha=best_params['ridge__alpha'])\n",
    "model_Ridge_selected_tree_based.fit(X_train_selected_tree_based, y_train)\n",
    "y_pred = model_Ridge_selected_tree_based.predict(X_test_selected_tree_based)\n",
    "r2_Ridge_selected_tree_based = r2_score(y_test, y_pred)\n",
    "print(f'R-squared: {r2_Ridge_selected_tree_based}')"
   ]
  },
  {
   "cell_type": "code",
   "execution_count": 590,
   "metadata": {},
   "outputs": [],
   "source": [
    "comparison_table['Model Name'].append('Ridge')\n",
    "comparison_table['Data Type'].append('Normal Data')\n",
    "comparison_table['R-squared'].append(r2_Ridge)\n",
    "\n",
    "comparison_table['Model Name'].append('Ridge')\n",
    "comparison_table['Data Type'].append('selected features by LinearRegression')\n",
    "comparison_table['R-squared'].append(r2_Ridge_selected_LinearRegression)\n",
    "\n",
    "comparison_table['Model Name'].append('Ridge')\n",
    "comparison_table['Data Type'].append('selected features by permutation')\n",
    "comparison_table['R-squared'].append(r2_Ridge_selected_permutation)\n",
    "\n",
    "comparison_table['Model Name'].append('Ridge')\n",
    "comparison_table['Data Type'].append('selected features by percentile')\n",
    "comparison_table['R-squared'].append(r2_Ridge_select_percentile)\n",
    "\n",
    "comparison_table['Model Name'].append('Ridge')\n",
    "comparison_table['Data Type'].append('selected features by shap')\n",
    "comparison_table['R-squared'].append(r2_Ridge_selected_shap)\n",
    "\n",
    "comparison_table['Model Name'].append('Ridge')\n",
    "comparison_table['Data Type'].append('selected features by random forest')\n",
    "comparison_table['R-squared'].append(r2_Ridge_selected_tree_based)"
   ]
  },
  {
   "cell_type": "markdown",
   "metadata": {},
   "source": [
    "### Lasso Regression"
   ]
  },
  {
   "cell_type": "code",
   "execution_count": 314,
   "metadata": {},
   "outputs": [
    {
     "name": "stdout",
     "output_type": "stream",
     "text": [
      "Best parameters found:  {'lasso__alpha': 200}\n",
      "Best R2 score:  0.8046239510928823\n"
     ]
    }
   ],
   "source": [
    "pipeline = Pipeline(steps=[\n",
    "    ('lasso', Lasso())\n",
    "])\n",
    "\n",
    "# تحديد شبكة القيم\n",
    "param_grid = {\n",
    "    'lasso__alpha': [0.1, 1, 10, 100, 200]\n",
    "}\n",
    "\n",
    "# تنفيذ GridSearchCV\n",
    "grid_searchLasso = GridSearchCV(pipeline, param_grid, cv=5, n_jobs=-1, scoring='r2')\n",
    "grid_searchLasso.fit(X_train, y_train)\n",
    "\n",
    "# عرض أفضل المعاملات\n",
    "print(\"Best parameters found: \", grid_searchLasso.best_params_)\n",
    "print(\"Best R2 score: \", grid_searchLasso.best_score_)"
   ]
  },
  {
   "cell_type": "code",
   "execution_count": 503,
   "metadata": {},
   "outputs": [
    {
     "name": "stdout",
     "output_type": "stream",
     "text": [
      "R-squared: 0.8760505003875739\n"
     ]
    }
   ],
   "source": [
    "best_params = grid_searchLasso.best_params_\n",
    "model_Lasso = Lasso(alpha=best_params['lasso__alpha'])\n",
    "model_Lasso.fit(X_train, y_train)\n",
    "y_pred = model_Lasso.predict(X_test)\n",
    "r2_Lasso = r2_score(y_test, y_pred)\n",
    "print(f'R-squared: {r2_Lasso}')"
   ]
  },
  {
   "cell_type": "code",
   "execution_count": 316,
   "metadata": {},
   "outputs": [],
   "source": [
    "# joblib.dump(model,Lasso_model)"
   ]
  },
  {
   "cell_type": "code",
   "execution_count": 504,
   "metadata": {},
   "outputs": [
    {
     "name": "stdout",
     "output_type": "stream",
     "text": [
      "R-squared: 0.7843337822852213\n"
     ]
    }
   ],
   "source": [
    "model_Lasso_selected_LinearRegression = Lasso(alpha=best_params['lasso__alpha'])\n",
    "model_Lasso_selected_LinearRegression.fit(X_train_selected_LinearRegression, y_train)\n",
    "y_pred = model_Lasso_selected_LinearRegression.predict(X_test_selected_LinearRegression)\n",
    "r2_Lasso_selected_LinearRegression = r2_score(y_test, y_pred)\n",
    "print(f'R-squared: {r2_Lasso_selected_LinearRegression}')"
   ]
  },
  {
   "cell_type": "code",
   "execution_count": 505,
   "metadata": {},
   "outputs": [
    {
     "name": "stdout",
     "output_type": "stream",
     "text": [
      "R-squared: 0.8324809880500563\n"
     ]
    }
   ],
   "source": [
    "model_Lasso_selected_permutation = Lasso(alpha=best_params['lasso__alpha'])\n",
    "model_Lasso_selected_permutation.fit(X_train_selected_permutation, y_train)\n",
    "y_pred = model_Lasso_selected_permutation.predict(X_test_selected_permutation)\n",
    "r2_Lasso_selected_permutation = r2_score(y_test, y_pred)\n",
    "print(f'R-squared: {r2_Lasso_selected_permutation}')\n"
   ]
  },
  {
   "cell_type": "code",
   "execution_count": 506,
   "metadata": {},
   "outputs": [
    {
     "name": "stdout",
     "output_type": "stream",
     "text": [
      "R-squared: 0.8544163371323279\n"
     ]
    }
   ],
   "source": [
    "model_Lasso_select_percentile = Lasso(alpha=best_params['lasso__alpha'])\n",
    "model_Lasso_select_percentile.fit(X_train_selected_select_percentile, y_train)\n",
    "y_pred = model_Lasso_select_percentile.predict(X_test_selected_select_percentile)\n",
    "r2_Lasso_select_percentile = r2_score(y_test, y_pred)\n",
    "print(f'R-squared: {r2_Lasso_select_percentile}')"
   ]
  },
  {
   "cell_type": "code",
   "execution_count": 507,
   "metadata": {},
   "outputs": [
    {
     "name": "stdout",
     "output_type": "stream",
     "text": [
      "R-squared: 0.8321895290067433\n"
     ]
    }
   ],
   "source": [
    "model_Lasso_selected_shap = Lasso(alpha=best_params['lasso__alpha'])\n",
    "model_Lasso_selected_shap.fit(X_train_selected_shap, y_train)\n",
    "y_pred = model_Lasso_selected_shap.predict(X_test_selected_shap)\n",
    "r2_Lasso_selected_shap = r2_score(y_test, y_pred)\n",
    "print(f'R-squared: {r2_Lasso_selected_shap}')"
   ]
  },
  {
   "cell_type": "code",
   "execution_count": 508,
   "metadata": {},
   "outputs": [
    {
     "name": "stdout",
     "output_type": "stream",
     "text": [
      "R-squared: 0.8331582376466025\n"
     ]
    }
   ],
   "source": [
    "model_Lasso_selected_tree_based = Lasso(alpha=best_params['lasso__alpha'])\n",
    "model_Lasso_selected_tree_based.fit(X_train_selected_tree_based, y_train)\n",
    "y_pred = model_Lasso_selected_tree_based.predict(X_test_selected_tree_based)\n",
    "r2_Lasso_selected_tree_based = r2_score(y_test, y_pred)\n",
    "print(f'R-squared: {r2_Lasso_selected_tree_based}')"
   ]
  },
  {
   "cell_type": "code",
   "execution_count": 591,
   "metadata": {},
   "outputs": [],
   "source": [
    "comparison_table['Model Name'].append('Lasso')\n",
    "comparison_table['Data Type'].append('Normal Data')\n",
    "comparison_table['R-squared'].append(r2_Lasso)\n",
    "\n",
    "comparison_table['Model Name'].append('Lasso')\n",
    "comparison_table['Data Type'].append('selected features by LinearRegression')\n",
    "comparison_table['R-squared'].append(r2_Lasso_selected_LinearRegression)\n",
    "\n",
    "comparison_table['Model Name'].append('Lasso')\n",
    "comparison_table['Data Type'].append('selected features by permutation')\n",
    "comparison_table['R-squared'].append(r2_Lasso_selected_permutation)\n",
    "\n",
    "comparison_table['Model Name'].append('Lasso')\n",
    "comparison_table['Data Type'].append('selected features by percentile')\n",
    "comparison_table['R-squared'].append(r2_Lasso_select_percentile)\n",
    "\n",
    "comparison_table['Model Name'].append('Lasso')\n",
    "comparison_table['Data Type'].append('selected features by shap')\n",
    "comparison_table['R-squared'].append(r2_Lasso_selected_shap)\n",
    "\n",
    "comparison_table['Model Name'].append('Lasso')\n",
    "comparison_table['Data Type'].append('selected features by random forest')\n",
    "comparison_table['R-squared'].append(r2_Lasso_selected_tree_based)"
   ]
  },
  {
   "cell_type": "code",
   "execution_count": null,
   "metadata": {},
   "outputs": [],
   "source": [
    "# loaded_model = joblib.load('random_forest_model.pkl')"
   ]
  },
  {
   "cell_type": "code",
   "execution_count": 592,
   "metadata": {},
   "outputs": [
    {
     "name": "stderr",
     "output_type": "stream",
     "text": [
      "c:\\Users\\ASUS\\anaconda3\\Lib\\site-packages\\sklearn\\neural_network\\_multilayer_perceptron.py:691: ConvergenceWarning: Stochastic Optimizer: Maximum iterations (1000) reached and the optimization hasn't converged yet.\n",
      "  warnings.warn(\n"
     ]
    },
    {
     "data": {
      "text/html": [
       "<style>#sk-container-id-25 {color: black;}#sk-container-id-25 pre{padding: 0;}#sk-container-id-25 div.sk-toggleable {background-color: white;}#sk-container-id-25 label.sk-toggleable__label {cursor: pointer;display: block;width: 100%;margin-bottom: 0;padding: 0.3em;box-sizing: border-box;text-align: center;}#sk-container-id-25 label.sk-toggleable__label-arrow:before {content: \"▸\";float: left;margin-right: 0.25em;color: #696969;}#sk-container-id-25 label.sk-toggleable__label-arrow:hover:before {color: black;}#sk-container-id-25 div.sk-estimator:hover label.sk-toggleable__label-arrow:before {color: black;}#sk-container-id-25 div.sk-toggleable__content {max-height: 0;max-width: 0;overflow: hidden;text-align: left;background-color: #f0f8ff;}#sk-container-id-25 div.sk-toggleable__content pre {margin: 0.2em;color: black;border-radius: 0.25em;background-color: #f0f8ff;}#sk-container-id-25 input.sk-toggleable__control:checked~div.sk-toggleable__content {max-height: 200px;max-width: 100%;overflow: auto;}#sk-container-id-25 input.sk-toggleable__control:checked~label.sk-toggleable__label-arrow:before {content: \"▾\";}#sk-container-id-25 div.sk-estimator input.sk-toggleable__control:checked~label.sk-toggleable__label {background-color: #d4ebff;}#sk-container-id-25 div.sk-label input.sk-toggleable__control:checked~label.sk-toggleable__label {background-color: #d4ebff;}#sk-container-id-25 input.sk-hidden--visually {border: 0;clip: rect(1px 1px 1px 1px);clip: rect(1px, 1px, 1px, 1px);height: 1px;margin: -1px;overflow: hidden;padding: 0;position: absolute;width: 1px;}#sk-container-id-25 div.sk-estimator {font-family: monospace;background-color: #f0f8ff;border: 1px dotted black;border-radius: 0.25em;box-sizing: border-box;margin-bottom: 0.5em;}#sk-container-id-25 div.sk-estimator:hover {background-color: #d4ebff;}#sk-container-id-25 div.sk-parallel-item::after {content: \"\";width: 100%;border-bottom: 1px solid gray;flex-grow: 1;}#sk-container-id-25 div.sk-label:hover label.sk-toggleable__label {background-color: #d4ebff;}#sk-container-id-25 div.sk-serial::before {content: \"\";position: absolute;border-left: 1px solid gray;box-sizing: border-box;top: 0;bottom: 0;left: 50%;z-index: 0;}#sk-container-id-25 div.sk-serial {display: flex;flex-direction: column;align-items: center;background-color: white;padding-right: 0.2em;padding-left: 0.2em;position: relative;}#sk-container-id-25 div.sk-item {position: relative;z-index: 1;}#sk-container-id-25 div.sk-parallel {display: flex;align-items: stretch;justify-content: center;background-color: white;position: relative;}#sk-container-id-25 div.sk-item::before, #sk-container-id-25 div.sk-parallel-item::before {content: \"\";position: absolute;border-left: 1px solid gray;box-sizing: border-box;top: 0;bottom: 0;left: 50%;z-index: -1;}#sk-container-id-25 div.sk-parallel-item {display: flex;flex-direction: column;z-index: 1;position: relative;background-color: white;}#sk-container-id-25 div.sk-parallel-item:first-child::after {align-self: flex-end;width: 50%;}#sk-container-id-25 div.sk-parallel-item:last-child::after {align-self: flex-start;width: 50%;}#sk-container-id-25 div.sk-parallel-item:only-child::after {width: 0;}#sk-container-id-25 div.sk-dashed-wrapped {border: 1px dashed gray;margin: 0 0.4em 0.5em 0.4em;box-sizing: border-box;padding-bottom: 0.4em;background-color: white;}#sk-container-id-25 div.sk-label label {font-family: monospace;font-weight: bold;display: inline-block;line-height: 1.2em;}#sk-container-id-25 div.sk-label-container {text-align: center;}#sk-container-id-25 div.sk-container {/* jupyter's `normalize.less` sets `[hidden] { display: none; }` but bootstrap.min.css set `[hidden] { display: none !important; }` so we also need the `!important` here to be able to override the default hidden behavior on the sphinx rendered scikit-learn.org. See: https://github.com/scikit-learn/scikit-learn/issues/21755 */display: inline-block !important;position: relative;}#sk-container-id-25 div.sk-text-repr-fallback {display: none;}</style><div id=\"sk-container-id-25\" class=\"sk-top-container\"><div class=\"sk-text-repr-fallback\"><pre>VotingRegressor(estimators=[(&#x27;lr&#x27;,\n",
       "                             LinearRegression(fit_intercept=False,\n",
       "                                              positive=True)),\n",
       "                            (&#x27;dt&#x27;, DecisionTreeRegressor(max_depth=20)),\n",
       "                            (&#x27;knn&#x27;,\n",
       "                             KNeighborsRegressor(metric=&#x27;manhattan&#x27;,\n",
       "                                                 n_neighbors=3,\n",
       "                                                 weights=&#x27;distance&#x27;)),\n",
       "                            (&#x27;rf&#x27;,\n",
       "                             RandomForestRegressor(max_depth=10,\n",
       "                                                   n_estimators=200)),\n",
       "                            (&#x27;Lasso&#x27;, Lasso(alpha=200)),\n",
       "                            (&#x27;mlp&#x27;,\n",
       "                             MLPRegressor(alpha=0.05,\n",
       "                                          hidden_layer_sizes=(50, 100, 50),\n",
       "                                          learning_rate=&#x27;adaptive&#x27;,\n",
       "                                          max_iter=1000)),\n",
       "                            (&#x27;ridge&#x27;, Ridge(alpha=10)),\n",
       "                            (&#x27;svr&#x27;, SVR(C=100, kernel=&#x27;linear&#x27;))])</pre><b>In a Jupyter environment, please rerun this cell to show the HTML representation or trust the notebook. <br />On GitHub, the HTML representation is unable to render, please try loading this page with nbviewer.org.</b></div><div class=\"sk-container\" hidden><div class=\"sk-item sk-dashed-wrapped\"><div class=\"sk-label-container\"><div class=\"sk-label sk-toggleable\"><input class=\"sk-toggleable__control sk-hidden--visually\" id=\"sk-estimator-id-209\" type=\"checkbox\" ><label for=\"sk-estimator-id-209\" class=\"sk-toggleable__label sk-toggleable__label-arrow\">VotingRegressor</label><div class=\"sk-toggleable__content\"><pre>VotingRegressor(estimators=[(&#x27;lr&#x27;,\n",
       "                             LinearRegression(fit_intercept=False,\n",
       "                                              positive=True)),\n",
       "                            (&#x27;dt&#x27;, DecisionTreeRegressor(max_depth=20)),\n",
       "                            (&#x27;knn&#x27;,\n",
       "                             KNeighborsRegressor(metric=&#x27;manhattan&#x27;,\n",
       "                                                 n_neighbors=3,\n",
       "                                                 weights=&#x27;distance&#x27;)),\n",
       "                            (&#x27;rf&#x27;,\n",
       "                             RandomForestRegressor(max_depth=10,\n",
       "                                                   n_estimators=200)),\n",
       "                            (&#x27;Lasso&#x27;, Lasso(alpha=200)),\n",
       "                            (&#x27;mlp&#x27;,\n",
       "                             MLPRegressor(alpha=0.05,\n",
       "                                          hidden_layer_sizes=(50, 100, 50),\n",
       "                                          learning_rate=&#x27;adaptive&#x27;,\n",
       "                                          max_iter=1000)),\n",
       "                            (&#x27;ridge&#x27;, Ridge(alpha=10)),\n",
       "                            (&#x27;svr&#x27;, SVR(C=100, kernel=&#x27;linear&#x27;))])</pre></div></div></div><div class=\"sk-parallel\"><div class=\"sk-parallel-item\"><div class=\"sk-item\"><div class=\"sk-label-container\"><div class=\"sk-label sk-toggleable\"><label>lr</label></div></div><div class=\"sk-serial\"><div class=\"sk-item\"><div class=\"sk-estimator sk-toggleable\"><input class=\"sk-toggleable__control sk-hidden--visually\" id=\"sk-estimator-id-210\" type=\"checkbox\" ><label for=\"sk-estimator-id-210\" class=\"sk-toggleable__label sk-toggleable__label-arrow\">LinearRegression</label><div class=\"sk-toggleable__content\"><pre>LinearRegression(fit_intercept=False, positive=True)</pre></div></div></div></div></div></div><div class=\"sk-parallel-item\"><div class=\"sk-item\"><div class=\"sk-label-container\"><div class=\"sk-label sk-toggleable\"><label>dt</label></div></div><div class=\"sk-serial\"><div class=\"sk-item\"><div class=\"sk-estimator sk-toggleable\"><input class=\"sk-toggleable__control sk-hidden--visually\" id=\"sk-estimator-id-211\" type=\"checkbox\" ><label for=\"sk-estimator-id-211\" class=\"sk-toggleable__label sk-toggleable__label-arrow\">DecisionTreeRegressor</label><div class=\"sk-toggleable__content\"><pre>DecisionTreeRegressor(max_depth=20)</pre></div></div></div></div></div></div><div class=\"sk-parallel-item\"><div class=\"sk-item\"><div class=\"sk-label-container\"><div class=\"sk-label sk-toggleable\"><label>knn</label></div></div><div class=\"sk-serial\"><div class=\"sk-item\"><div class=\"sk-estimator sk-toggleable\"><input class=\"sk-toggleable__control sk-hidden--visually\" id=\"sk-estimator-id-212\" type=\"checkbox\" ><label for=\"sk-estimator-id-212\" class=\"sk-toggleable__label sk-toggleable__label-arrow\">KNeighborsRegressor</label><div class=\"sk-toggleable__content\"><pre>KNeighborsRegressor(metric=&#x27;manhattan&#x27;, n_neighbors=3, weights=&#x27;distance&#x27;)</pre></div></div></div></div></div></div><div class=\"sk-parallel-item\"><div class=\"sk-item\"><div class=\"sk-label-container\"><div class=\"sk-label sk-toggleable\"><label>rf</label></div></div><div class=\"sk-serial\"><div class=\"sk-item\"><div class=\"sk-estimator sk-toggleable\"><input class=\"sk-toggleable__control sk-hidden--visually\" id=\"sk-estimator-id-213\" type=\"checkbox\" ><label for=\"sk-estimator-id-213\" class=\"sk-toggleable__label sk-toggleable__label-arrow\">RandomForestRegressor</label><div class=\"sk-toggleable__content\"><pre>RandomForestRegressor(max_depth=10, n_estimators=200)</pre></div></div></div></div></div></div><div class=\"sk-parallel-item\"><div class=\"sk-item\"><div class=\"sk-label-container\"><div class=\"sk-label sk-toggleable\"><label>Lasso</label></div></div><div class=\"sk-serial\"><div class=\"sk-item\"><div class=\"sk-estimator sk-toggleable\"><input class=\"sk-toggleable__control sk-hidden--visually\" id=\"sk-estimator-id-214\" type=\"checkbox\" ><label for=\"sk-estimator-id-214\" class=\"sk-toggleable__label sk-toggleable__label-arrow\">Lasso</label><div class=\"sk-toggleable__content\"><pre>Lasso(alpha=200)</pre></div></div></div></div></div></div><div class=\"sk-parallel-item\"><div class=\"sk-item\"><div class=\"sk-label-container\"><div class=\"sk-label sk-toggleable\"><label>mlp</label></div></div><div class=\"sk-serial\"><div class=\"sk-item\"><div class=\"sk-estimator sk-toggleable\"><input class=\"sk-toggleable__control sk-hidden--visually\" id=\"sk-estimator-id-215\" type=\"checkbox\" ><label for=\"sk-estimator-id-215\" class=\"sk-toggleable__label sk-toggleable__label-arrow\">MLPRegressor</label><div class=\"sk-toggleable__content\"><pre>MLPRegressor(alpha=0.05, hidden_layer_sizes=(50, 100, 50),\n",
       "             learning_rate=&#x27;adaptive&#x27;, max_iter=1000)</pre></div></div></div></div></div></div><div class=\"sk-parallel-item\"><div class=\"sk-item\"><div class=\"sk-label-container\"><div class=\"sk-label sk-toggleable\"><label>ridge</label></div></div><div class=\"sk-serial\"><div class=\"sk-item\"><div class=\"sk-estimator sk-toggleable\"><input class=\"sk-toggleable__control sk-hidden--visually\" id=\"sk-estimator-id-216\" type=\"checkbox\" ><label for=\"sk-estimator-id-216\" class=\"sk-toggleable__label sk-toggleable__label-arrow\">Ridge</label><div class=\"sk-toggleable__content\"><pre>Ridge(alpha=10)</pre></div></div></div></div></div></div><div class=\"sk-parallel-item\"><div class=\"sk-item\"><div class=\"sk-label-container\"><div class=\"sk-label sk-toggleable\"><label>svr</label></div></div><div class=\"sk-serial\"><div class=\"sk-item\"><div class=\"sk-estimator sk-toggleable\"><input class=\"sk-toggleable__control sk-hidden--visually\" id=\"sk-estimator-id-217\" type=\"checkbox\" ><label for=\"sk-estimator-id-217\" class=\"sk-toggleable__label sk-toggleable__label-arrow\">SVR</label><div class=\"sk-toggleable__content\"><pre>SVR(C=100, kernel=&#x27;linear&#x27;)</pre></div></div></div></div></div></div></div></div></div></div>"
      ],
      "text/plain": [
       "VotingRegressor(estimators=[('lr',\n",
       "                             LinearRegression(fit_intercept=False,\n",
       "                                              positive=True)),\n",
       "                            ('dt', DecisionTreeRegressor(max_depth=20)),\n",
       "                            ('knn',\n",
       "                             KNeighborsRegressor(metric='manhattan',\n",
       "                                                 n_neighbors=3,\n",
       "                                                 weights='distance')),\n",
       "                            ('rf',\n",
       "                             RandomForestRegressor(max_depth=10,\n",
       "                                                   n_estimators=200)),\n",
       "                            ('Lasso', Lasso(alpha=200)),\n",
       "                            ('mlp',\n",
       "                             MLPRegressor(alpha=0.05,\n",
       "                                          hidden_layer_sizes=(50, 100, 50),\n",
       "                                          learning_rate='adaptive',\n",
       "                                          max_iter=1000)),\n",
       "                            ('ridge', Ridge(alpha=10)),\n",
       "                            ('svr', SVR(C=100, kernel='linear'))])"
      ]
     },
     "execution_count": 592,
     "metadata": {},
     "output_type": "execute_result"
    }
   ],
   "source": [
    "voting_clf = VotingRegressor(\n",
    "    estimators=[('lr', model_Linear), ('dt', model_DecisionTree), ('knn', model_KNN),\n",
    "                ('rf', model_RandomForest), ('Lasso', model_Lasso), ('mlp', model_MLP),\n",
    "                ('ridge',model_Ridge ), ('svr', model_SVR)\n",
    "                ])\n",
    "voting_clf.fit(X_train, y_train)"
   ]
  },
  {
   "cell_type": "code",
   "execution_count": 593,
   "metadata": {},
   "outputs": [
    {
     "name": "stdout",
     "output_type": "stream",
     "text": [
      "R-squared: 0.8901767057952467\n"
     ]
    }
   ],
   "source": [
    "y_pred = voting_clf.predict(X_test)\n",
    "r2 = r2_score(y_test, y_pred)\n",
    "print(f'R-squared: {r2}')"
   ]
  },
  {
   "cell_type": "code",
   "execution_count": 594,
   "metadata": {},
   "outputs": [],
   "source": [
    "comparison_table['Model Name'].append('VotingRegressor')\n",
    "comparison_table['Data Type'].append('Normal Data')\n",
    "comparison_table['R-squared'].append(r2)"
   ]
  },
  {
   "cell_type": "code",
   "execution_count": 595,
   "metadata": {},
   "outputs": [
    {
     "name": "stderr",
     "output_type": "stream",
     "text": [
      "c:\\Users\\ASUS\\anaconda3\\Lib\\site-packages\\sklearn\\neural_network\\_multilayer_perceptron.py:691: ConvergenceWarning: Stochastic Optimizer: Maximum iterations (1000) reached and the optimization hasn't converged yet.\n",
      "  warnings.warn(\n"
     ]
    },
    {
     "data": {
      "text/html": [
       "<style>#sk-container-id-26 {color: black;}#sk-container-id-26 pre{padding: 0;}#sk-container-id-26 div.sk-toggleable {background-color: white;}#sk-container-id-26 label.sk-toggleable__label {cursor: pointer;display: block;width: 100%;margin-bottom: 0;padding: 0.3em;box-sizing: border-box;text-align: center;}#sk-container-id-26 label.sk-toggleable__label-arrow:before {content: \"▸\";float: left;margin-right: 0.25em;color: #696969;}#sk-container-id-26 label.sk-toggleable__label-arrow:hover:before {color: black;}#sk-container-id-26 div.sk-estimator:hover label.sk-toggleable__label-arrow:before {color: black;}#sk-container-id-26 div.sk-toggleable__content {max-height: 0;max-width: 0;overflow: hidden;text-align: left;background-color: #f0f8ff;}#sk-container-id-26 div.sk-toggleable__content pre {margin: 0.2em;color: black;border-radius: 0.25em;background-color: #f0f8ff;}#sk-container-id-26 input.sk-toggleable__control:checked~div.sk-toggleable__content {max-height: 200px;max-width: 100%;overflow: auto;}#sk-container-id-26 input.sk-toggleable__control:checked~label.sk-toggleable__label-arrow:before {content: \"▾\";}#sk-container-id-26 div.sk-estimator input.sk-toggleable__control:checked~label.sk-toggleable__label {background-color: #d4ebff;}#sk-container-id-26 div.sk-label input.sk-toggleable__control:checked~label.sk-toggleable__label {background-color: #d4ebff;}#sk-container-id-26 input.sk-hidden--visually {border: 0;clip: rect(1px 1px 1px 1px);clip: rect(1px, 1px, 1px, 1px);height: 1px;margin: -1px;overflow: hidden;padding: 0;position: absolute;width: 1px;}#sk-container-id-26 div.sk-estimator {font-family: monospace;background-color: #f0f8ff;border: 1px dotted black;border-radius: 0.25em;box-sizing: border-box;margin-bottom: 0.5em;}#sk-container-id-26 div.sk-estimator:hover {background-color: #d4ebff;}#sk-container-id-26 div.sk-parallel-item::after {content: \"\";width: 100%;border-bottom: 1px solid gray;flex-grow: 1;}#sk-container-id-26 div.sk-label:hover label.sk-toggleable__label {background-color: #d4ebff;}#sk-container-id-26 div.sk-serial::before {content: \"\";position: absolute;border-left: 1px solid gray;box-sizing: border-box;top: 0;bottom: 0;left: 50%;z-index: 0;}#sk-container-id-26 div.sk-serial {display: flex;flex-direction: column;align-items: center;background-color: white;padding-right: 0.2em;padding-left: 0.2em;position: relative;}#sk-container-id-26 div.sk-item {position: relative;z-index: 1;}#sk-container-id-26 div.sk-parallel {display: flex;align-items: stretch;justify-content: center;background-color: white;position: relative;}#sk-container-id-26 div.sk-item::before, #sk-container-id-26 div.sk-parallel-item::before {content: \"\";position: absolute;border-left: 1px solid gray;box-sizing: border-box;top: 0;bottom: 0;left: 50%;z-index: -1;}#sk-container-id-26 div.sk-parallel-item {display: flex;flex-direction: column;z-index: 1;position: relative;background-color: white;}#sk-container-id-26 div.sk-parallel-item:first-child::after {align-self: flex-end;width: 50%;}#sk-container-id-26 div.sk-parallel-item:last-child::after {align-self: flex-start;width: 50%;}#sk-container-id-26 div.sk-parallel-item:only-child::after {width: 0;}#sk-container-id-26 div.sk-dashed-wrapped {border: 1px dashed gray;margin: 0 0.4em 0.5em 0.4em;box-sizing: border-box;padding-bottom: 0.4em;background-color: white;}#sk-container-id-26 div.sk-label label {font-family: monospace;font-weight: bold;display: inline-block;line-height: 1.2em;}#sk-container-id-26 div.sk-label-container {text-align: center;}#sk-container-id-26 div.sk-container {/* jupyter's `normalize.less` sets `[hidden] { display: none; }` but bootstrap.min.css set `[hidden] { display: none !important; }` so we also need the `!important` here to be able to override the default hidden behavior on the sphinx rendered scikit-learn.org. See: https://github.com/scikit-learn/scikit-learn/issues/21755 */display: inline-block !important;position: relative;}#sk-container-id-26 div.sk-text-repr-fallback {display: none;}</style><div id=\"sk-container-id-26\" class=\"sk-top-container\"><div class=\"sk-text-repr-fallback\"><pre>VotingRegressor(estimators=[(&#x27;lr&#x27;, LinearRegression()),\n",
       "                            (&#x27;dt&#x27;, DecisionTreeRegressor(max_depth=20)),\n",
       "                            (&#x27;knn&#x27;,\n",
       "                             KNeighborsRegressor(metric=&#x27;manhattan&#x27;,\n",
       "                                                 n_neighbors=3,\n",
       "                                                 weights=&#x27;distance&#x27;)),\n",
       "                            (&#x27;rf&#x27;,\n",
       "                             RandomForestRegressor(max_depth=10,\n",
       "                                                   n_estimators=200)),\n",
       "                            (&#x27;Lasso&#x27;, Lasso(alpha=200)),\n",
       "                            (&#x27;mlp&#x27;,\n",
       "                             MLPRegressor(alpha=0.05,\n",
       "                                          hidden_layer_sizes=(50, 100, 50),\n",
       "                                          learning_rate=&#x27;adaptive&#x27;,\n",
       "                                          max_iter=1000)),\n",
       "                            (&#x27;ridge&#x27;, Ridge(alpha=10)),\n",
       "                            (&#x27;svr&#x27;, SVR(C=100, kernel=&#x27;linear&#x27;))])</pre><b>In a Jupyter environment, please rerun this cell to show the HTML representation or trust the notebook. <br />On GitHub, the HTML representation is unable to render, please try loading this page with nbviewer.org.</b></div><div class=\"sk-container\" hidden><div class=\"sk-item sk-dashed-wrapped\"><div class=\"sk-label-container\"><div class=\"sk-label sk-toggleable\"><input class=\"sk-toggleable__control sk-hidden--visually\" id=\"sk-estimator-id-218\" type=\"checkbox\" ><label for=\"sk-estimator-id-218\" class=\"sk-toggleable__label sk-toggleable__label-arrow\">VotingRegressor</label><div class=\"sk-toggleable__content\"><pre>VotingRegressor(estimators=[(&#x27;lr&#x27;, LinearRegression()),\n",
       "                            (&#x27;dt&#x27;, DecisionTreeRegressor(max_depth=20)),\n",
       "                            (&#x27;knn&#x27;,\n",
       "                             KNeighborsRegressor(metric=&#x27;manhattan&#x27;,\n",
       "                                                 n_neighbors=3,\n",
       "                                                 weights=&#x27;distance&#x27;)),\n",
       "                            (&#x27;rf&#x27;,\n",
       "                             RandomForestRegressor(max_depth=10,\n",
       "                                                   n_estimators=200)),\n",
       "                            (&#x27;Lasso&#x27;, Lasso(alpha=200)),\n",
       "                            (&#x27;mlp&#x27;,\n",
       "                             MLPRegressor(alpha=0.05,\n",
       "                                          hidden_layer_sizes=(50, 100, 50),\n",
       "                                          learning_rate=&#x27;adaptive&#x27;,\n",
       "                                          max_iter=1000)),\n",
       "                            (&#x27;ridge&#x27;, Ridge(alpha=10)),\n",
       "                            (&#x27;svr&#x27;, SVR(C=100, kernel=&#x27;linear&#x27;))])</pre></div></div></div><div class=\"sk-parallel\"><div class=\"sk-parallel-item\"><div class=\"sk-item\"><div class=\"sk-label-container\"><div class=\"sk-label sk-toggleable\"><label>lr</label></div></div><div class=\"sk-serial\"><div class=\"sk-item\"><div class=\"sk-estimator sk-toggleable\"><input class=\"sk-toggleable__control sk-hidden--visually\" id=\"sk-estimator-id-219\" type=\"checkbox\" ><label for=\"sk-estimator-id-219\" class=\"sk-toggleable__label sk-toggleable__label-arrow\">LinearRegression</label><div class=\"sk-toggleable__content\"><pre>LinearRegression()</pre></div></div></div></div></div></div><div class=\"sk-parallel-item\"><div class=\"sk-item\"><div class=\"sk-label-container\"><div class=\"sk-label sk-toggleable\"><label>dt</label></div></div><div class=\"sk-serial\"><div class=\"sk-item\"><div class=\"sk-estimator sk-toggleable\"><input class=\"sk-toggleable__control sk-hidden--visually\" id=\"sk-estimator-id-220\" type=\"checkbox\" ><label for=\"sk-estimator-id-220\" class=\"sk-toggleable__label sk-toggleable__label-arrow\">DecisionTreeRegressor</label><div class=\"sk-toggleable__content\"><pre>DecisionTreeRegressor(max_depth=20)</pre></div></div></div></div></div></div><div class=\"sk-parallel-item\"><div class=\"sk-item\"><div class=\"sk-label-container\"><div class=\"sk-label sk-toggleable\"><label>knn</label></div></div><div class=\"sk-serial\"><div class=\"sk-item\"><div class=\"sk-estimator sk-toggleable\"><input class=\"sk-toggleable__control sk-hidden--visually\" id=\"sk-estimator-id-221\" type=\"checkbox\" ><label for=\"sk-estimator-id-221\" class=\"sk-toggleable__label sk-toggleable__label-arrow\">KNeighborsRegressor</label><div class=\"sk-toggleable__content\"><pre>KNeighborsRegressor(metric=&#x27;manhattan&#x27;, n_neighbors=3, weights=&#x27;distance&#x27;)</pre></div></div></div></div></div></div><div class=\"sk-parallel-item\"><div class=\"sk-item\"><div class=\"sk-label-container\"><div class=\"sk-label sk-toggleable\"><label>rf</label></div></div><div class=\"sk-serial\"><div class=\"sk-item\"><div class=\"sk-estimator sk-toggleable\"><input class=\"sk-toggleable__control sk-hidden--visually\" id=\"sk-estimator-id-222\" type=\"checkbox\" ><label for=\"sk-estimator-id-222\" class=\"sk-toggleable__label sk-toggleable__label-arrow\">RandomForestRegressor</label><div class=\"sk-toggleable__content\"><pre>RandomForestRegressor(max_depth=10, n_estimators=200)</pre></div></div></div></div></div></div><div class=\"sk-parallel-item\"><div class=\"sk-item\"><div class=\"sk-label-container\"><div class=\"sk-label sk-toggleable\"><label>Lasso</label></div></div><div class=\"sk-serial\"><div class=\"sk-item\"><div class=\"sk-estimator sk-toggleable\"><input class=\"sk-toggleable__control sk-hidden--visually\" id=\"sk-estimator-id-223\" type=\"checkbox\" ><label for=\"sk-estimator-id-223\" class=\"sk-toggleable__label sk-toggleable__label-arrow\">Lasso</label><div class=\"sk-toggleable__content\"><pre>Lasso(alpha=200)</pre></div></div></div></div></div></div><div class=\"sk-parallel-item\"><div class=\"sk-item\"><div class=\"sk-label-container\"><div class=\"sk-label sk-toggleable\"><label>mlp</label></div></div><div class=\"sk-serial\"><div class=\"sk-item\"><div class=\"sk-estimator sk-toggleable\"><input class=\"sk-toggleable__control sk-hidden--visually\" id=\"sk-estimator-id-224\" type=\"checkbox\" ><label for=\"sk-estimator-id-224\" class=\"sk-toggleable__label sk-toggleable__label-arrow\">MLPRegressor</label><div class=\"sk-toggleable__content\"><pre>MLPRegressor(alpha=0.05, hidden_layer_sizes=(50, 100, 50),\n",
       "             learning_rate=&#x27;adaptive&#x27;, max_iter=1000)</pre></div></div></div></div></div></div><div class=\"sk-parallel-item\"><div class=\"sk-item\"><div class=\"sk-label-container\"><div class=\"sk-label sk-toggleable\"><label>ridge</label></div></div><div class=\"sk-serial\"><div class=\"sk-item\"><div class=\"sk-estimator sk-toggleable\"><input class=\"sk-toggleable__control sk-hidden--visually\" id=\"sk-estimator-id-225\" type=\"checkbox\" ><label for=\"sk-estimator-id-225\" class=\"sk-toggleable__label sk-toggleable__label-arrow\">Ridge</label><div class=\"sk-toggleable__content\"><pre>Ridge(alpha=10)</pre></div></div></div></div></div></div><div class=\"sk-parallel-item\"><div class=\"sk-item\"><div class=\"sk-label-container\"><div class=\"sk-label sk-toggleable\"><label>svr</label></div></div><div class=\"sk-serial\"><div class=\"sk-item\"><div class=\"sk-estimator sk-toggleable\"><input class=\"sk-toggleable__control sk-hidden--visually\" id=\"sk-estimator-id-226\" type=\"checkbox\" ><label for=\"sk-estimator-id-226\" class=\"sk-toggleable__label sk-toggleable__label-arrow\">SVR</label><div class=\"sk-toggleable__content\"><pre>SVR(C=100, kernel=&#x27;linear&#x27;)</pre></div></div></div></div></div></div></div></div></div></div>"
      ],
      "text/plain": [
       "VotingRegressor(estimators=[('lr', LinearRegression()),\n",
       "                            ('dt', DecisionTreeRegressor(max_depth=20)),\n",
       "                            ('knn',\n",
       "                             KNeighborsRegressor(metric='manhattan',\n",
       "                                                 n_neighbors=3,\n",
       "                                                 weights='distance')),\n",
       "                            ('rf',\n",
       "                             RandomForestRegressor(max_depth=10,\n",
       "                                                   n_estimators=200)),\n",
       "                            ('Lasso', Lasso(alpha=200)),\n",
       "                            ('mlp',\n",
       "                             MLPRegressor(alpha=0.05,\n",
       "                                          hidden_layer_sizes=(50, 100, 50),\n",
       "                                          learning_rate='adaptive',\n",
       "                                          max_iter=1000)),\n",
       "                            ('ridge', Ridge(alpha=10)),\n",
       "                            ('svr', SVR(C=100, kernel='linear'))])"
      ]
     },
     "execution_count": 595,
     "metadata": {},
     "output_type": "execute_result"
    }
   ],
   "source": [
    "voting_clf = VotingRegressor(\n",
    "    estimators=[('lr', model_Linear_select_percentile), ('dt', model_DecisionTree_select_percentile), ('knn', model_KNN_select_percentile),\n",
    "                ('rf', model_RandomForest_select_percentile), ('Lasso', model_Lasso_select_percentile), ('mlp', model_MLP_select_percentile),\n",
    "                ('ridge',model_Ridge_select_percentile ), ('svr', model_SVR_select_percentile)\n",
    "                ])\n",
    "voting_clf.fit(X_train_selected_select_percentile, y_train)"
   ]
  },
  {
   "cell_type": "code",
   "execution_count": 596,
   "metadata": {},
   "outputs": [
    {
     "name": "stdout",
     "output_type": "stream",
     "text": [
      "R-squared: 0.8827698905737544\n"
     ]
    }
   ],
   "source": [
    "y_pred = voting_clf.predict(X_test_selected_select_percentile)\n",
    "r2 = r2_score(y_test, y_pred)\n",
    "print(f'R-squared: {r2}')\n"
   ]
  },
  {
   "cell_type": "code",
   "execution_count": 597,
   "metadata": {},
   "outputs": [],
   "source": [
    "comparison_table['Model Name'].append('VotingRegressor')\n",
    "comparison_table['Data Type'].append('selected features by LinearRegression')\n",
    "comparison_table['R-squared'].append(r2)\n"
   ]
  },
  {
   "cell_type": "code",
   "execution_count": 598,
   "metadata": {},
   "outputs": [
    {
     "name": "stderr",
     "output_type": "stream",
     "text": [
      "c:\\Users\\ASUS\\anaconda3\\Lib\\site-packages\\sklearn\\neural_network\\_multilayer_perceptron.py:691: ConvergenceWarning: Stochastic Optimizer: Maximum iterations (1000) reached and the optimization hasn't converged yet.\n",
      "  warnings.warn(\n"
     ]
    },
    {
     "data": {
      "text/html": [
       "<style>#sk-container-id-27 {color: black;}#sk-container-id-27 pre{padding: 0;}#sk-container-id-27 div.sk-toggleable {background-color: white;}#sk-container-id-27 label.sk-toggleable__label {cursor: pointer;display: block;width: 100%;margin-bottom: 0;padding: 0.3em;box-sizing: border-box;text-align: center;}#sk-container-id-27 label.sk-toggleable__label-arrow:before {content: \"▸\";float: left;margin-right: 0.25em;color: #696969;}#sk-container-id-27 label.sk-toggleable__label-arrow:hover:before {color: black;}#sk-container-id-27 div.sk-estimator:hover label.sk-toggleable__label-arrow:before {color: black;}#sk-container-id-27 div.sk-toggleable__content {max-height: 0;max-width: 0;overflow: hidden;text-align: left;background-color: #f0f8ff;}#sk-container-id-27 div.sk-toggleable__content pre {margin: 0.2em;color: black;border-radius: 0.25em;background-color: #f0f8ff;}#sk-container-id-27 input.sk-toggleable__control:checked~div.sk-toggleable__content {max-height: 200px;max-width: 100%;overflow: auto;}#sk-container-id-27 input.sk-toggleable__control:checked~label.sk-toggleable__label-arrow:before {content: \"▾\";}#sk-container-id-27 div.sk-estimator input.sk-toggleable__control:checked~label.sk-toggleable__label {background-color: #d4ebff;}#sk-container-id-27 div.sk-label input.sk-toggleable__control:checked~label.sk-toggleable__label {background-color: #d4ebff;}#sk-container-id-27 input.sk-hidden--visually {border: 0;clip: rect(1px 1px 1px 1px);clip: rect(1px, 1px, 1px, 1px);height: 1px;margin: -1px;overflow: hidden;padding: 0;position: absolute;width: 1px;}#sk-container-id-27 div.sk-estimator {font-family: monospace;background-color: #f0f8ff;border: 1px dotted black;border-radius: 0.25em;box-sizing: border-box;margin-bottom: 0.5em;}#sk-container-id-27 div.sk-estimator:hover {background-color: #d4ebff;}#sk-container-id-27 div.sk-parallel-item::after {content: \"\";width: 100%;border-bottom: 1px solid gray;flex-grow: 1;}#sk-container-id-27 div.sk-label:hover label.sk-toggleable__label {background-color: #d4ebff;}#sk-container-id-27 div.sk-serial::before {content: \"\";position: absolute;border-left: 1px solid gray;box-sizing: border-box;top: 0;bottom: 0;left: 50%;z-index: 0;}#sk-container-id-27 div.sk-serial {display: flex;flex-direction: column;align-items: center;background-color: white;padding-right: 0.2em;padding-left: 0.2em;position: relative;}#sk-container-id-27 div.sk-item {position: relative;z-index: 1;}#sk-container-id-27 div.sk-parallel {display: flex;align-items: stretch;justify-content: center;background-color: white;position: relative;}#sk-container-id-27 div.sk-item::before, #sk-container-id-27 div.sk-parallel-item::before {content: \"\";position: absolute;border-left: 1px solid gray;box-sizing: border-box;top: 0;bottom: 0;left: 50%;z-index: -1;}#sk-container-id-27 div.sk-parallel-item {display: flex;flex-direction: column;z-index: 1;position: relative;background-color: white;}#sk-container-id-27 div.sk-parallel-item:first-child::after {align-self: flex-end;width: 50%;}#sk-container-id-27 div.sk-parallel-item:last-child::after {align-self: flex-start;width: 50%;}#sk-container-id-27 div.sk-parallel-item:only-child::after {width: 0;}#sk-container-id-27 div.sk-dashed-wrapped {border: 1px dashed gray;margin: 0 0.4em 0.5em 0.4em;box-sizing: border-box;padding-bottom: 0.4em;background-color: white;}#sk-container-id-27 div.sk-label label {font-family: monospace;font-weight: bold;display: inline-block;line-height: 1.2em;}#sk-container-id-27 div.sk-label-container {text-align: center;}#sk-container-id-27 div.sk-container {/* jupyter's `normalize.less` sets `[hidden] { display: none; }` but bootstrap.min.css set `[hidden] { display: none !important; }` so we also need the `!important` here to be able to override the default hidden behavior on the sphinx rendered scikit-learn.org. See: https://github.com/scikit-learn/scikit-learn/issues/21755 */display: inline-block !important;position: relative;}#sk-container-id-27 div.sk-text-repr-fallback {display: none;}</style><div id=\"sk-container-id-27\" class=\"sk-top-container\"><div class=\"sk-text-repr-fallback\"><pre>VotingRegressor(estimators=[(&#x27;lr&#x27;, LinearRegression()),\n",
       "                            (&#x27;dt&#x27;, DecisionTreeRegressor(max_depth=20)),\n",
       "                            (&#x27;knn&#x27;,\n",
       "                             KNeighborsRegressor(metric=&#x27;manhattan&#x27;,\n",
       "                                                 n_neighbors=3,\n",
       "                                                 weights=&#x27;distance&#x27;)),\n",
       "                            (&#x27;rf&#x27;,\n",
       "                             RandomForestRegressor(max_depth=10,\n",
       "                                                   n_estimators=200)),\n",
       "                            (&#x27;Lasso&#x27;, Lasso(alpha=200)),\n",
       "                            (&#x27;mlp&#x27;,\n",
       "                             MLPRegressor(alpha=0.05,\n",
       "                                          hidden_layer_sizes=(50, 100, 50),\n",
       "                                          learning_rate=&#x27;adaptive&#x27;,\n",
       "                                          max_iter=1000)),\n",
       "                            (&#x27;ridge&#x27;, Ridge(alpha=10)),\n",
       "                            (&#x27;svr&#x27;, SVR(C=100, kernel=&#x27;linear&#x27;))])</pre><b>In a Jupyter environment, please rerun this cell to show the HTML representation or trust the notebook. <br />On GitHub, the HTML representation is unable to render, please try loading this page with nbviewer.org.</b></div><div class=\"sk-container\" hidden><div class=\"sk-item sk-dashed-wrapped\"><div class=\"sk-label-container\"><div class=\"sk-label sk-toggleable\"><input class=\"sk-toggleable__control sk-hidden--visually\" id=\"sk-estimator-id-227\" type=\"checkbox\" ><label for=\"sk-estimator-id-227\" class=\"sk-toggleable__label sk-toggleable__label-arrow\">VotingRegressor</label><div class=\"sk-toggleable__content\"><pre>VotingRegressor(estimators=[(&#x27;lr&#x27;, LinearRegression()),\n",
       "                            (&#x27;dt&#x27;, DecisionTreeRegressor(max_depth=20)),\n",
       "                            (&#x27;knn&#x27;,\n",
       "                             KNeighborsRegressor(metric=&#x27;manhattan&#x27;,\n",
       "                                                 n_neighbors=3,\n",
       "                                                 weights=&#x27;distance&#x27;)),\n",
       "                            (&#x27;rf&#x27;,\n",
       "                             RandomForestRegressor(max_depth=10,\n",
       "                                                   n_estimators=200)),\n",
       "                            (&#x27;Lasso&#x27;, Lasso(alpha=200)),\n",
       "                            (&#x27;mlp&#x27;,\n",
       "                             MLPRegressor(alpha=0.05,\n",
       "                                          hidden_layer_sizes=(50, 100, 50),\n",
       "                                          learning_rate=&#x27;adaptive&#x27;,\n",
       "                                          max_iter=1000)),\n",
       "                            (&#x27;ridge&#x27;, Ridge(alpha=10)),\n",
       "                            (&#x27;svr&#x27;, SVR(C=100, kernel=&#x27;linear&#x27;))])</pre></div></div></div><div class=\"sk-parallel\"><div class=\"sk-parallel-item\"><div class=\"sk-item\"><div class=\"sk-label-container\"><div class=\"sk-label sk-toggleable\"><label>lr</label></div></div><div class=\"sk-serial\"><div class=\"sk-item\"><div class=\"sk-estimator sk-toggleable\"><input class=\"sk-toggleable__control sk-hidden--visually\" id=\"sk-estimator-id-228\" type=\"checkbox\" ><label for=\"sk-estimator-id-228\" class=\"sk-toggleable__label sk-toggleable__label-arrow\">LinearRegression</label><div class=\"sk-toggleable__content\"><pre>LinearRegression()</pre></div></div></div></div></div></div><div class=\"sk-parallel-item\"><div class=\"sk-item\"><div class=\"sk-label-container\"><div class=\"sk-label sk-toggleable\"><label>dt</label></div></div><div class=\"sk-serial\"><div class=\"sk-item\"><div class=\"sk-estimator sk-toggleable\"><input class=\"sk-toggleable__control sk-hidden--visually\" id=\"sk-estimator-id-229\" type=\"checkbox\" ><label for=\"sk-estimator-id-229\" class=\"sk-toggleable__label sk-toggleable__label-arrow\">DecisionTreeRegressor</label><div class=\"sk-toggleable__content\"><pre>DecisionTreeRegressor(max_depth=20)</pre></div></div></div></div></div></div><div class=\"sk-parallel-item\"><div class=\"sk-item\"><div class=\"sk-label-container\"><div class=\"sk-label sk-toggleable\"><label>knn</label></div></div><div class=\"sk-serial\"><div class=\"sk-item\"><div class=\"sk-estimator sk-toggleable\"><input class=\"sk-toggleable__control sk-hidden--visually\" id=\"sk-estimator-id-230\" type=\"checkbox\" ><label for=\"sk-estimator-id-230\" class=\"sk-toggleable__label sk-toggleable__label-arrow\">KNeighborsRegressor</label><div class=\"sk-toggleable__content\"><pre>KNeighborsRegressor(metric=&#x27;manhattan&#x27;, n_neighbors=3, weights=&#x27;distance&#x27;)</pre></div></div></div></div></div></div><div class=\"sk-parallel-item\"><div class=\"sk-item\"><div class=\"sk-label-container\"><div class=\"sk-label sk-toggleable\"><label>rf</label></div></div><div class=\"sk-serial\"><div class=\"sk-item\"><div class=\"sk-estimator sk-toggleable\"><input class=\"sk-toggleable__control sk-hidden--visually\" id=\"sk-estimator-id-231\" type=\"checkbox\" ><label for=\"sk-estimator-id-231\" class=\"sk-toggleable__label sk-toggleable__label-arrow\">RandomForestRegressor</label><div class=\"sk-toggleable__content\"><pre>RandomForestRegressor(max_depth=10, n_estimators=200)</pre></div></div></div></div></div></div><div class=\"sk-parallel-item\"><div class=\"sk-item\"><div class=\"sk-label-container\"><div class=\"sk-label sk-toggleable\"><label>Lasso</label></div></div><div class=\"sk-serial\"><div class=\"sk-item\"><div class=\"sk-estimator sk-toggleable\"><input class=\"sk-toggleable__control sk-hidden--visually\" id=\"sk-estimator-id-232\" type=\"checkbox\" ><label for=\"sk-estimator-id-232\" class=\"sk-toggleable__label sk-toggleable__label-arrow\">Lasso</label><div class=\"sk-toggleable__content\"><pre>Lasso(alpha=200)</pre></div></div></div></div></div></div><div class=\"sk-parallel-item\"><div class=\"sk-item\"><div class=\"sk-label-container\"><div class=\"sk-label sk-toggleable\"><label>mlp</label></div></div><div class=\"sk-serial\"><div class=\"sk-item\"><div class=\"sk-estimator sk-toggleable\"><input class=\"sk-toggleable__control sk-hidden--visually\" id=\"sk-estimator-id-233\" type=\"checkbox\" ><label for=\"sk-estimator-id-233\" class=\"sk-toggleable__label sk-toggleable__label-arrow\">MLPRegressor</label><div class=\"sk-toggleable__content\"><pre>MLPRegressor(alpha=0.05, hidden_layer_sizes=(50, 100, 50),\n",
       "             learning_rate=&#x27;adaptive&#x27;, max_iter=1000)</pre></div></div></div></div></div></div><div class=\"sk-parallel-item\"><div class=\"sk-item\"><div class=\"sk-label-container\"><div class=\"sk-label sk-toggleable\"><label>ridge</label></div></div><div class=\"sk-serial\"><div class=\"sk-item\"><div class=\"sk-estimator sk-toggleable\"><input class=\"sk-toggleable__control sk-hidden--visually\" id=\"sk-estimator-id-234\" type=\"checkbox\" ><label for=\"sk-estimator-id-234\" class=\"sk-toggleable__label sk-toggleable__label-arrow\">Ridge</label><div class=\"sk-toggleable__content\"><pre>Ridge(alpha=10)</pre></div></div></div></div></div></div><div class=\"sk-parallel-item\"><div class=\"sk-item\"><div class=\"sk-label-container\"><div class=\"sk-label sk-toggleable\"><label>svr</label></div></div><div class=\"sk-serial\"><div class=\"sk-item\"><div class=\"sk-estimator sk-toggleable\"><input class=\"sk-toggleable__control sk-hidden--visually\" id=\"sk-estimator-id-235\" type=\"checkbox\" ><label for=\"sk-estimator-id-235\" class=\"sk-toggleable__label sk-toggleable__label-arrow\">SVR</label><div class=\"sk-toggleable__content\"><pre>SVR(C=100, kernel=&#x27;linear&#x27;)</pre></div></div></div></div></div></div></div></div></div></div>"
      ],
      "text/plain": [
       "VotingRegressor(estimators=[('lr', LinearRegression()),\n",
       "                            ('dt', DecisionTreeRegressor(max_depth=20)),\n",
       "                            ('knn',\n",
       "                             KNeighborsRegressor(metric='manhattan',\n",
       "                                                 n_neighbors=3,\n",
       "                                                 weights='distance')),\n",
       "                            ('rf',\n",
       "                             RandomForestRegressor(max_depth=10,\n",
       "                                                   n_estimators=200)),\n",
       "                            ('Lasso', Lasso(alpha=200)),\n",
       "                            ('mlp',\n",
       "                             MLPRegressor(alpha=0.05,\n",
       "                                          hidden_layer_sizes=(50, 100, 50),\n",
       "                                          learning_rate='adaptive',\n",
       "                                          max_iter=1000)),\n",
       "                            ('ridge', Ridge(alpha=10)),\n",
       "                            ('svr', SVR(C=100, kernel='linear'))])"
      ]
     },
     "execution_count": 598,
     "metadata": {},
     "output_type": "execute_result"
    }
   ],
   "source": [
    "voting_clf = VotingRegressor(\n",
    "    estimators=[('lr', model_Linear_selected_LinearRegression), ('dt', model_DecisionTree_selected_LinearRegression), ('knn', model_KNN_selected_LinearRegression),\n",
    "                ('rf', model_RandomForest_selected_LinearRegression), ('Lasso', model_Lasso_selected_LinearRegression), ('mlp', model_MLP_selected_LinearRegression),\n",
    "                ('ridge',model_Ridge_selected_LinearRegression ), ('svr', model_SVR_selected_LinearRegression)\n",
    "                ])\n",
    "voting_clf.fit(X_train_selected_LinearRegression, y_train)"
   ]
  },
  {
   "cell_type": "code",
   "execution_count": 599,
   "metadata": {},
   "outputs": [
    {
     "name": "stdout",
     "output_type": "stream",
     "text": [
      "R-squared: 0.8178147212769277\n"
     ]
    }
   ],
   "source": [
    "y_pred = voting_clf.predict(X_test_selected_LinearRegression)\n",
    "r2 = r2_score(y_test, y_pred)\n",
    "print(f'R-squared: {r2}')"
   ]
  },
  {
   "cell_type": "code",
   "execution_count": 600,
   "metadata": {},
   "outputs": [],
   "source": [
    "comparison_table['Model Name'].append('VotingRegressor')\n",
    "comparison_table['Data Type'].append('selected features by permutation')\n",
    "comparison_table['R-squared'].append(r2)"
   ]
  },
  {
   "cell_type": "code",
   "execution_count": 601,
   "metadata": {},
   "outputs": [
    {
     "name": "stderr",
     "output_type": "stream",
     "text": [
      "c:\\Users\\ASUS\\anaconda3\\Lib\\site-packages\\sklearn\\neural_network\\_multilayer_perceptron.py:691: ConvergenceWarning: Stochastic Optimizer: Maximum iterations (1000) reached and the optimization hasn't converged yet.\n",
      "  warnings.warn(\n"
     ]
    },
    {
     "data": {
      "text/html": [
       "<style>#sk-container-id-28 {color: black;}#sk-container-id-28 pre{padding: 0;}#sk-container-id-28 div.sk-toggleable {background-color: white;}#sk-container-id-28 label.sk-toggleable__label {cursor: pointer;display: block;width: 100%;margin-bottom: 0;padding: 0.3em;box-sizing: border-box;text-align: center;}#sk-container-id-28 label.sk-toggleable__label-arrow:before {content: \"▸\";float: left;margin-right: 0.25em;color: #696969;}#sk-container-id-28 label.sk-toggleable__label-arrow:hover:before {color: black;}#sk-container-id-28 div.sk-estimator:hover label.sk-toggleable__label-arrow:before {color: black;}#sk-container-id-28 div.sk-toggleable__content {max-height: 0;max-width: 0;overflow: hidden;text-align: left;background-color: #f0f8ff;}#sk-container-id-28 div.sk-toggleable__content pre {margin: 0.2em;color: black;border-radius: 0.25em;background-color: #f0f8ff;}#sk-container-id-28 input.sk-toggleable__control:checked~div.sk-toggleable__content {max-height: 200px;max-width: 100%;overflow: auto;}#sk-container-id-28 input.sk-toggleable__control:checked~label.sk-toggleable__label-arrow:before {content: \"▾\";}#sk-container-id-28 div.sk-estimator input.sk-toggleable__control:checked~label.sk-toggleable__label {background-color: #d4ebff;}#sk-container-id-28 div.sk-label input.sk-toggleable__control:checked~label.sk-toggleable__label {background-color: #d4ebff;}#sk-container-id-28 input.sk-hidden--visually {border: 0;clip: rect(1px 1px 1px 1px);clip: rect(1px, 1px, 1px, 1px);height: 1px;margin: -1px;overflow: hidden;padding: 0;position: absolute;width: 1px;}#sk-container-id-28 div.sk-estimator {font-family: monospace;background-color: #f0f8ff;border: 1px dotted black;border-radius: 0.25em;box-sizing: border-box;margin-bottom: 0.5em;}#sk-container-id-28 div.sk-estimator:hover {background-color: #d4ebff;}#sk-container-id-28 div.sk-parallel-item::after {content: \"\";width: 100%;border-bottom: 1px solid gray;flex-grow: 1;}#sk-container-id-28 div.sk-label:hover label.sk-toggleable__label {background-color: #d4ebff;}#sk-container-id-28 div.sk-serial::before {content: \"\";position: absolute;border-left: 1px solid gray;box-sizing: border-box;top: 0;bottom: 0;left: 50%;z-index: 0;}#sk-container-id-28 div.sk-serial {display: flex;flex-direction: column;align-items: center;background-color: white;padding-right: 0.2em;padding-left: 0.2em;position: relative;}#sk-container-id-28 div.sk-item {position: relative;z-index: 1;}#sk-container-id-28 div.sk-parallel {display: flex;align-items: stretch;justify-content: center;background-color: white;position: relative;}#sk-container-id-28 div.sk-item::before, #sk-container-id-28 div.sk-parallel-item::before {content: \"\";position: absolute;border-left: 1px solid gray;box-sizing: border-box;top: 0;bottom: 0;left: 50%;z-index: -1;}#sk-container-id-28 div.sk-parallel-item {display: flex;flex-direction: column;z-index: 1;position: relative;background-color: white;}#sk-container-id-28 div.sk-parallel-item:first-child::after {align-self: flex-end;width: 50%;}#sk-container-id-28 div.sk-parallel-item:last-child::after {align-self: flex-start;width: 50%;}#sk-container-id-28 div.sk-parallel-item:only-child::after {width: 0;}#sk-container-id-28 div.sk-dashed-wrapped {border: 1px dashed gray;margin: 0 0.4em 0.5em 0.4em;box-sizing: border-box;padding-bottom: 0.4em;background-color: white;}#sk-container-id-28 div.sk-label label {font-family: monospace;font-weight: bold;display: inline-block;line-height: 1.2em;}#sk-container-id-28 div.sk-label-container {text-align: center;}#sk-container-id-28 div.sk-container {/* jupyter's `normalize.less` sets `[hidden] { display: none; }` but bootstrap.min.css set `[hidden] { display: none !important; }` so we also need the `!important` here to be able to override the default hidden behavior on the sphinx rendered scikit-learn.org. See: https://github.com/scikit-learn/scikit-learn/issues/21755 */display: inline-block !important;position: relative;}#sk-container-id-28 div.sk-text-repr-fallback {display: none;}</style><div id=\"sk-container-id-28\" class=\"sk-top-container\"><div class=\"sk-text-repr-fallback\"><pre>VotingRegressor(estimators=[(&#x27;lr&#x27;, LinearRegression()),\n",
       "                            (&#x27;dt&#x27;, DecisionTreeRegressor(max_depth=20)),\n",
       "                            (&#x27;knn&#x27;,\n",
       "                             KNeighborsRegressor(metric=&#x27;manhattan&#x27;,\n",
       "                                                 n_neighbors=3,\n",
       "                                                 weights=&#x27;distance&#x27;)),\n",
       "                            (&#x27;rf&#x27;,\n",
       "                             RandomForestRegressor(max_depth=10,\n",
       "                                                   n_estimators=200)),\n",
       "                            (&#x27;Lasso&#x27;, Lasso(alpha=200)),\n",
       "                            (&#x27;mlp&#x27;,\n",
       "                             MLPRegressor(alpha=0.05,\n",
       "                                          hidden_layer_sizes=(50, 100, 50),\n",
       "                                          learning_rate=&#x27;adaptive&#x27;,\n",
       "                                          max_iter=1000)),\n",
       "                            (&#x27;ridge&#x27;, Ridge(alpha=10)),\n",
       "                            (&#x27;svr&#x27;, SVR(C=100, kernel=&#x27;linear&#x27;))])</pre><b>In a Jupyter environment, please rerun this cell to show the HTML representation or trust the notebook. <br />On GitHub, the HTML representation is unable to render, please try loading this page with nbviewer.org.</b></div><div class=\"sk-container\" hidden><div class=\"sk-item sk-dashed-wrapped\"><div class=\"sk-label-container\"><div class=\"sk-label sk-toggleable\"><input class=\"sk-toggleable__control sk-hidden--visually\" id=\"sk-estimator-id-236\" type=\"checkbox\" ><label for=\"sk-estimator-id-236\" class=\"sk-toggleable__label sk-toggleable__label-arrow\">VotingRegressor</label><div class=\"sk-toggleable__content\"><pre>VotingRegressor(estimators=[(&#x27;lr&#x27;, LinearRegression()),\n",
       "                            (&#x27;dt&#x27;, DecisionTreeRegressor(max_depth=20)),\n",
       "                            (&#x27;knn&#x27;,\n",
       "                             KNeighborsRegressor(metric=&#x27;manhattan&#x27;,\n",
       "                                                 n_neighbors=3,\n",
       "                                                 weights=&#x27;distance&#x27;)),\n",
       "                            (&#x27;rf&#x27;,\n",
       "                             RandomForestRegressor(max_depth=10,\n",
       "                                                   n_estimators=200)),\n",
       "                            (&#x27;Lasso&#x27;, Lasso(alpha=200)),\n",
       "                            (&#x27;mlp&#x27;,\n",
       "                             MLPRegressor(alpha=0.05,\n",
       "                                          hidden_layer_sizes=(50, 100, 50),\n",
       "                                          learning_rate=&#x27;adaptive&#x27;,\n",
       "                                          max_iter=1000)),\n",
       "                            (&#x27;ridge&#x27;, Ridge(alpha=10)),\n",
       "                            (&#x27;svr&#x27;, SVR(C=100, kernel=&#x27;linear&#x27;))])</pre></div></div></div><div class=\"sk-parallel\"><div class=\"sk-parallel-item\"><div class=\"sk-item\"><div class=\"sk-label-container\"><div class=\"sk-label sk-toggleable\"><label>lr</label></div></div><div class=\"sk-serial\"><div class=\"sk-item\"><div class=\"sk-estimator sk-toggleable\"><input class=\"sk-toggleable__control sk-hidden--visually\" id=\"sk-estimator-id-237\" type=\"checkbox\" ><label for=\"sk-estimator-id-237\" class=\"sk-toggleable__label sk-toggleable__label-arrow\">LinearRegression</label><div class=\"sk-toggleable__content\"><pre>LinearRegression()</pre></div></div></div></div></div></div><div class=\"sk-parallel-item\"><div class=\"sk-item\"><div class=\"sk-label-container\"><div class=\"sk-label sk-toggleable\"><label>dt</label></div></div><div class=\"sk-serial\"><div class=\"sk-item\"><div class=\"sk-estimator sk-toggleable\"><input class=\"sk-toggleable__control sk-hidden--visually\" id=\"sk-estimator-id-238\" type=\"checkbox\" ><label for=\"sk-estimator-id-238\" class=\"sk-toggleable__label sk-toggleable__label-arrow\">DecisionTreeRegressor</label><div class=\"sk-toggleable__content\"><pre>DecisionTreeRegressor(max_depth=20)</pre></div></div></div></div></div></div><div class=\"sk-parallel-item\"><div class=\"sk-item\"><div class=\"sk-label-container\"><div class=\"sk-label sk-toggleable\"><label>knn</label></div></div><div class=\"sk-serial\"><div class=\"sk-item\"><div class=\"sk-estimator sk-toggleable\"><input class=\"sk-toggleable__control sk-hidden--visually\" id=\"sk-estimator-id-239\" type=\"checkbox\" ><label for=\"sk-estimator-id-239\" class=\"sk-toggleable__label sk-toggleable__label-arrow\">KNeighborsRegressor</label><div class=\"sk-toggleable__content\"><pre>KNeighborsRegressor(metric=&#x27;manhattan&#x27;, n_neighbors=3, weights=&#x27;distance&#x27;)</pre></div></div></div></div></div></div><div class=\"sk-parallel-item\"><div class=\"sk-item\"><div class=\"sk-label-container\"><div class=\"sk-label sk-toggleable\"><label>rf</label></div></div><div class=\"sk-serial\"><div class=\"sk-item\"><div class=\"sk-estimator sk-toggleable\"><input class=\"sk-toggleable__control sk-hidden--visually\" id=\"sk-estimator-id-240\" type=\"checkbox\" ><label for=\"sk-estimator-id-240\" class=\"sk-toggleable__label sk-toggleable__label-arrow\">RandomForestRegressor</label><div class=\"sk-toggleable__content\"><pre>RandomForestRegressor(max_depth=10, n_estimators=200)</pre></div></div></div></div></div></div><div class=\"sk-parallel-item\"><div class=\"sk-item\"><div class=\"sk-label-container\"><div class=\"sk-label sk-toggleable\"><label>Lasso</label></div></div><div class=\"sk-serial\"><div class=\"sk-item\"><div class=\"sk-estimator sk-toggleable\"><input class=\"sk-toggleable__control sk-hidden--visually\" id=\"sk-estimator-id-241\" type=\"checkbox\" ><label for=\"sk-estimator-id-241\" class=\"sk-toggleable__label sk-toggleable__label-arrow\">Lasso</label><div class=\"sk-toggleable__content\"><pre>Lasso(alpha=200)</pre></div></div></div></div></div></div><div class=\"sk-parallel-item\"><div class=\"sk-item\"><div class=\"sk-label-container\"><div class=\"sk-label sk-toggleable\"><label>mlp</label></div></div><div class=\"sk-serial\"><div class=\"sk-item\"><div class=\"sk-estimator sk-toggleable\"><input class=\"sk-toggleable__control sk-hidden--visually\" id=\"sk-estimator-id-242\" type=\"checkbox\" ><label for=\"sk-estimator-id-242\" class=\"sk-toggleable__label sk-toggleable__label-arrow\">MLPRegressor</label><div class=\"sk-toggleable__content\"><pre>MLPRegressor(alpha=0.05, hidden_layer_sizes=(50, 100, 50),\n",
       "             learning_rate=&#x27;adaptive&#x27;, max_iter=1000)</pre></div></div></div></div></div></div><div class=\"sk-parallel-item\"><div class=\"sk-item\"><div class=\"sk-label-container\"><div class=\"sk-label sk-toggleable\"><label>ridge</label></div></div><div class=\"sk-serial\"><div class=\"sk-item\"><div class=\"sk-estimator sk-toggleable\"><input class=\"sk-toggleable__control sk-hidden--visually\" id=\"sk-estimator-id-243\" type=\"checkbox\" ><label for=\"sk-estimator-id-243\" class=\"sk-toggleable__label sk-toggleable__label-arrow\">Ridge</label><div class=\"sk-toggleable__content\"><pre>Ridge(alpha=10)</pre></div></div></div></div></div></div><div class=\"sk-parallel-item\"><div class=\"sk-item\"><div class=\"sk-label-container\"><div class=\"sk-label sk-toggleable\"><label>svr</label></div></div><div class=\"sk-serial\"><div class=\"sk-item\"><div class=\"sk-estimator sk-toggleable\"><input class=\"sk-toggleable__control sk-hidden--visually\" id=\"sk-estimator-id-244\" type=\"checkbox\" ><label for=\"sk-estimator-id-244\" class=\"sk-toggleable__label sk-toggleable__label-arrow\">SVR</label><div class=\"sk-toggleable__content\"><pre>SVR(C=100, kernel=&#x27;linear&#x27;)</pre></div></div></div></div></div></div></div></div></div></div>"
      ],
      "text/plain": [
       "VotingRegressor(estimators=[('lr', LinearRegression()),\n",
       "                            ('dt', DecisionTreeRegressor(max_depth=20)),\n",
       "                            ('knn',\n",
       "                             KNeighborsRegressor(metric='manhattan',\n",
       "                                                 n_neighbors=3,\n",
       "                                                 weights='distance')),\n",
       "                            ('rf',\n",
       "                             RandomForestRegressor(max_depth=10,\n",
       "                                                   n_estimators=200)),\n",
       "                            ('Lasso', Lasso(alpha=200)),\n",
       "                            ('mlp',\n",
       "                             MLPRegressor(alpha=0.05,\n",
       "                                          hidden_layer_sizes=(50, 100, 50),\n",
       "                                          learning_rate='adaptive',\n",
       "                                          max_iter=1000)),\n",
       "                            ('ridge', Ridge(alpha=10)),\n",
       "                            ('svr', SVR(C=100, kernel='linear'))])"
      ]
     },
     "execution_count": 601,
     "metadata": {},
     "output_type": "execute_result"
    }
   ],
   "source": [
    "voting_clf = VotingRegressor(\n",
    "    estimators=[('lr', model_Linear_selected_permutation), ('dt', model_DecisionTree_selected_permutation), ('knn', model_KNN_selected_permutation),\n",
    "                ('rf', model_RandomForest_selected_permutation), ('Lasso', model_Lasso_selected_permutation), ('mlp', model_MLP_selected_permutation),\n",
    "                ('ridge',model_Ridge_selected_permutation ), ('svr', model_SVR_selected_permutation)\n",
    "                ])\n",
    "voting_clf.fit(X_train_selected_permutation, y_train)"
   ]
  },
  {
   "cell_type": "code",
   "execution_count": 602,
   "metadata": {},
   "outputs": [
    {
     "name": "stdout",
     "output_type": "stream",
     "text": [
      "R-squared: 0.8778033081717463\n"
     ]
    }
   ],
   "source": [
    "y_pred = voting_clf.predict(X_test_selected_permutation)\n",
    "r2 = r2_score(y_test, y_pred)\n",
    "print(f'R-squared: {r2}')"
   ]
  },
  {
   "cell_type": "code",
   "execution_count": 603,
   "metadata": {},
   "outputs": [],
   "source": [
    "comparison_table['Model Name'].append('VotingRegressor')\n",
    "comparison_table['Data Type'].append('selected features by percentile')\n",
    "comparison_table['R-squared'].append(r2)"
   ]
  },
  {
   "cell_type": "code",
   "execution_count": 604,
   "metadata": {},
   "outputs": [
    {
     "data": {
      "text/html": [
       "<style>#sk-container-id-29 {color: black;}#sk-container-id-29 pre{padding: 0;}#sk-container-id-29 div.sk-toggleable {background-color: white;}#sk-container-id-29 label.sk-toggleable__label {cursor: pointer;display: block;width: 100%;margin-bottom: 0;padding: 0.3em;box-sizing: border-box;text-align: center;}#sk-container-id-29 label.sk-toggleable__label-arrow:before {content: \"▸\";float: left;margin-right: 0.25em;color: #696969;}#sk-container-id-29 label.sk-toggleable__label-arrow:hover:before {color: black;}#sk-container-id-29 div.sk-estimator:hover label.sk-toggleable__label-arrow:before {color: black;}#sk-container-id-29 div.sk-toggleable__content {max-height: 0;max-width: 0;overflow: hidden;text-align: left;background-color: #f0f8ff;}#sk-container-id-29 div.sk-toggleable__content pre {margin: 0.2em;color: black;border-radius: 0.25em;background-color: #f0f8ff;}#sk-container-id-29 input.sk-toggleable__control:checked~div.sk-toggleable__content {max-height: 200px;max-width: 100%;overflow: auto;}#sk-container-id-29 input.sk-toggleable__control:checked~label.sk-toggleable__label-arrow:before {content: \"▾\";}#sk-container-id-29 div.sk-estimator input.sk-toggleable__control:checked~label.sk-toggleable__label {background-color: #d4ebff;}#sk-container-id-29 div.sk-label input.sk-toggleable__control:checked~label.sk-toggleable__label {background-color: #d4ebff;}#sk-container-id-29 input.sk-hidden--visually {border: 0;clip: rect(1px 1px 1px 1px);clip: rect(1px, 1px, 1px, 1px);height: 1px;margin: -1px;overflow: hidden;padding: 0;position: absolute;width: 1px;}#sk-container-id-29 div.sk-estimator {font-family: monospace;background-color: #f0f8ff;border: 1px dotted black;border-radius: 0.25em;box-sizing: border-box;margin-bottom: 0.5em;}#sk-container-id-29 div.sk-estimator:hover {background-color: #d4ebff;}#sk-container-id-29 div.sk-parallel-item::after {content: \"\";width: 100%;border-bottom: 1px solid gray;flex-grow: 1;}#sk-container-id-29 div.sk-label:hover label.sk-toggleable__label {background-color: #d4ebff;}#sk-container-id-29 div.sk-serial::before {content: \"\";position: absolute;border-left: 1px solid gray;box-sizing: border-box;top: 0;bottom: 0;left: 50%;z-index: 0;}#sk-container-id-29 div.sk-serial {display: flex;flex-direction: column;align-items: center;background-color: white;padding-right: 0.2em;padding-left: 0.2em;position: relative;}#sk-container-id-29 div.sk-item {position: relative;z-index: 1;}#sk-container-id-29 div.sk-parallel {display: flex;align-items: stretch;justify-content: center;background-color: white;position: relative;}#sk-container-id-29 div.sk-item::before, #sk-container-id-29 div.sk-parallel-item::before {content: \"\";position: absolute;border-left: 1px solid gray;box-sizing: border-box;top: 0;bottom: 0;left: 50%;z-index: -1;}#sk-container-id-29 div.sk-parallel-item {display: flex;flex-direction: column;z-index: 1;position: relative;background-color: white;}#sk-container-id-29 div.sk-parallel-item:first-child::after {align-self: flex-end;width: 50%;}#sk-container-id-29 div.sk-parallel-item:last-child::after {align-self: flex-start;width: 50%;}#sk-container-id-29 div.sk-parallel-item:only-child::after {width: 0;}#sk-container-id-29 div.sk-dashed-wrapped {border: 1px dashed gray;margin: 0 0.4em 0.5em 0.4em;box-sizing: border-box;padding-bottom: 0.4em;background-color: white;}#sk-container-id-29 div.sk-label label {font-family: monospace;font-weight: bold;display: inline-block;line-height: 1.2em;}#sk-container-id-29 div.sk-label-container {text-align: center;}#sk-container-id-29 div.sk-container {/* jupyter's `normalize.less` sets `[hidden] { display: none; }` but bootstrap.min.css set `[hidden] { display: none !important; }` so we also need the `!important` here to be able to override the default hidden behavior on the sphinx rendered scikit-learn.org. See: https://github.com/scikit-learn/scikit-learn/issues/21755 */display: inline-block !important;position: relative;}#sk-container-id-29 div.sk-text-repr-fallback {display: none;}</style><div id=\"sk-container-id-29\" class=\"sk-top-container\"><div class=\"sk-text-repr-fallback\"><pre>VotingRegressor(estimators=[(&#x27;lr&#x27;, LinearRegression()),\n",
       "                            (&#x27;dt&#x27;, DecisionTreeRegressor(max_depth=20)),\n",
       "                            (&#x27;knn&#x27;,\n",
       "                             KNeighborsRegressor(metric=&#x27;manhattan&#x27;,\n",
       "                                                 n_neighbors=3,\n",
       "                                                 weights=&#x27;distance&#x27;)),\n",
       "                            (&#x27;rf&#x27;,\n",
       "                             RandomForestRegressor(max_depth=10,\n",
       "                                                   n_estimators=200)),\n",
       "                            (&#x27;Lasso&#x27;, Lasso(alpha=200)),\n",
       "                            (&#x27;mlp&#x27;,\n",
       "                             MLPRegressor(alpha=0.05,\n",
       "                                          hidden_layer_sizes=(50, 100, 50),\n",
       "                                          learning_rate=&#x27;adaptive&#x27;,\n",
       "                                          max_iter=10000)),\n",
       "                            (&#x27;ridge&#x27;, Ridge(alpha=10)),\n",
       "                            (&#x27;svr&#x27;, SVR(C=100, kernel=&#x27;linear&#x27;))])</pre><b>In a Jupyter environment, please rerun this cell to show the HTML representation or trust the notebook. <br />On GitHub, the HTML representation is unable to render, please try loading this page with nbviewer.org.</b></div><div class=\"sk-container\" hidden><div class=\"sk-item sk-dashed-wrapped\"><div class=\"sk-label-container\"><div class=\"sk-label sk-toggleable\"><input class=\"sk-toggleable__control sk-hidden--visually\" id=\"sk-estimator-id-245\" type=\"checkbox\" ><label for=\"sk-estimator-id-245\" class=\"sk-toggleable__label sk-toggleable__label-arrow\">VotingRegressor</label><div class=\"sk-toggleable__content\"><pre>VotingRegressor(estimators=[(&#x27;lr&#x27;, LinearRegression()),\n",
       "                            (&#x27;dt&#x27;, DecisionTreeRegressor(max_depth=20)),\n",
       "                            (&#x27;knn&#x27;,\n",
       "                             KNeighborsRegressor(metric=&#x27;manhattan&#x27;,\n",
       "                                                 n_neighbors=3,\n",
       "                                                 weights=&#x27;distance&#x27;)),\n",
       "                            (&#x27;rf&#x27;,\n",
       "                             RandomForestRegressor(max_depth=10,\n",
       "                                                   n_estimators=200)),\n",
       "                            (&#x27;Lasso&#x27;, Lasso(alpha=200)),\n",
       "                            (&#x27;mlp&#x27;,\n",
       "                             MLPRegressor(alpha=0.05,\n",
       "                                          hidden_layer_sizes=(50, 100, 50),\n",
       "                                          learning_rate=&#x27;adaptive&#x27;,\n",
       "                                          max_iter=10000)),\n",
       "                            (&#x27;ridge&#x27;, Ridge(alpha=10)),\n",
       "                            (&#x27;svr&#x27;, SVR(C=100, kernel=&#x27;linear&#x27;))])</pre></div></div></div><div class=\"sk-parallel\"><div class=\"sk-parallel-item\"><div class=\"sk-item\"><div class=\"sk-label-container\"><div class=\"sk-label sk-toggleable\"><label>lr</label></div></div><div class=\"sk-serial\"><div class=\"sk-item\"><div class=\"sk-estimator sk-toggleable\"><input class=\"sk-toggleable__control sk-hidden--visually\" id=\"sk-estimator-id-246\" type=\"checkbox\" ><label for=\"sk-estimator-id-246\" class=\"sk-toggleable__label sk-toggleable__label-arrow\">LinearRegression</label><div class=\"sk-toggleable__content\"><pre>LinearRegression()</pre></div></div></div></div></div></div><div class=\"sk-parallel-item\"><div class=\"sk-item\"><div class=\"sk-label-container\"><div class=\"sk-label sk-toggleable\"><label>dt</label></div></div><div class=\"sk-serial\"><div class=\"sk-item\"><div class=\"sk-estimator sk-toggleable\"><input class=\"sk-toggleable__control sk-hidden--visually\" id=\"sk-estimator-id-247\" type=\"checkbox\" ><label for=\"sk-estimator-id-247\" class=\"sk-toggleable__label sk-toggleable__label-arrow\">DecisionTreeRegressor</label><div class=\"sk-toggleable__content\"><pre>DecisionTreeRegressor(max_depth=20)</pre></div></div></div></div></div></div><div class=\"sk-parallel-item\"><div class=\"sk-item\"><div class=\"sk-label-container\"><div class=\"sk-label sk-toggleable\"><label>knn</label></div></div><div class=\"sk-serial\"><div class=\"sk-item\"><div class=\"sk-estimator sk-toggleable\"><input class=\"sk-toggleable__control sk-hidden--visually\" id=\"sk-estimator-id-248\" type=\"checkbox\" ><label for=\"sk-estimator-id-248\" class=\"sk-toggleable__label sk-toggleable__label-arrow\">KNeighborsRegressor</label><div class=\"sk-toggleable__content\"><pre>KNeighborsRegressor(metric=&#x27;manhattan&#x27;, n_neighbors=3, weights=&#x27;distance&#x27;)</pre></div></div></div></div></div></div><div class=\"sk-parallel-item\"><div class=\"sk-item\"><div class=\"sk-label-container\"><div class=\"sk-label sk-toggleable\"><label>rf</label></div></div><div class=\"sk-serial\"><div class=\"sk-item\"><div class=\"sk-estimator sk-toggleable\"><input class=\"sk-toggleable__control sk-hidden--visually\" id=\"sk-estimator-id-249\" type=\"checkbox\" ><label for=\"sk-estimator-id-249\" class=\"sk-toggleable__label sk-toggleable__label-arrow\">RandomForestRegressor</label><div class=\"sk-toggleable__content\"><pre>RandomForestRegressor(max_depth=10, n_estimators=200)</pre></div></div></div></div></div></div><div class=\"sk-parallel-item\"><div class=\"sk-item\"><div class=\"sk-label-container\"><div class=\"sk-label sk-toggleable\"><label>Lasso</label></div></div><div class=\"sk-serial\"><div class=\"sk-item\"><div class=\"sk-estimator sk-toggleable\"><input class=\"sk-toggleable__control sk-hidden--visually\" id=\"sk-estimator-id-250\" type=\"checkbox\" ><label for=\"sk-estimator-id-250\" class=\"sk-toggleable__label sk-toggleable__label-arrow\">Lasso</label><div class=\"sk-toggleable__content\"><pre>Lasso(alpha=200)</pre></div></div></div></div></div></div><div class=\"sk-parallel-item\"><div class=\"sk-item\"><div class=\"sk-label-container\"><div class=\"sk-label sk-toggleable\"><label>mlp</label></div></div><div class=\"sk-serial\"><div class=\"sk-item\"><div class=\"sk-estimator sk-toggleable\"><input class=\"sk-toggleable__control sk-hidden--visually\" id=\"sk-estimator-id-251\" type=\"checkbox\" ><label for=\"sk-estimator-id-251\" class=\"sk-toggleable__label sk-toggleable__label-arrow\">MLPRegressor</label><div class=\"sk-toggleable__content\"><pre>MLPRegressor(alpha=0.05, hidden_layer_sizes=(50, 100, 50),\n",
       "             learning_rate=&#x27;adaptive&#x27;, max_iter=10000)</pre></div></div></div></div></div></div><div class=\"sk-parallel-item\"><div class=\"sk-item\"><div class=\"sk-label-container\"><div class=\"sk-label sk-toggleable\"><label>ridge</label></div></div><div class=\"sk-serial\"><div class=\"sk-item\"><div class=\"sk-estimator sk-toggleable\"><input class=\"sk-toggleable__control sk-hidden--visually\" id=\"sk-estimator-id-252\" type=\"checkbox\" ><label for=\"sk-estimator-id-252\" class=\"sk-toggleable__label sk-toggleable__label-arrow\">Ridge</label><div class=\"sk-toggleable__content\"><pre>Ridge(alpha=10)</pre></div></div></div></div></div></div><div class=\"sk-parallel-item\"><div class=\"sk-item\"><div class=\"sk-label-container\"><div class=\"sk-label sk-toggleable\"><label>svr</label></div></div><div class=\"sk-serial\"><div class=\"sk-item\"><div class=\"sk-estimator sk-toggleable\"><input class=\"sk-toggleable__control sk-hidden--visually\" id=\"sk-estimator-id-253\" type=\"checkbox\" ><label for=\"sk-estimator-id-253\" class=\"sk-toggleable__label sk-toggleable__label-arrow\">SVR</label><div class=\"sk-toggleable__content\"><pre>SVR(C=100, kernel=&#x27;linear&#x27;)</pre></div></div></div></div></div></div></div></div></div></div>"
      ],
      "text/plain": [
       "VotingRegressor(estimators=[('lr', LinearRegression()),\n",
       "                            ('dt', DecisionTreeRegressor(max_depth=20)),\n",
       "                            ('knn',\n",
       "                             KNeighborsRegressor(metric='manhattan',\n",
       "                                                 n_neighbors=3,\n",
       "                                                 weights='distance')),\n",
       "                            ('rf',\n",
       "                             RandomForestRegressor(max_depth=10,\n",
       "                                                   n_estimators=200)),\n",
       "                            ('Lasso', Lasso(alpha=200)),\n",
       "                            ('mlp',\n",
       "                             MLPRegressor(alpha=0.05,\n",
       "                                          hidden_layer_sizes=(50, 100, 50),\n",
       "                                          learning_rate='adaptive',\n",
       "                                          max_iter=10000)),\n",
       "                            ('ridge', Ridge(alpha=10)),\n",
       "                            ('svr', SVR(C=100, kernel='linear'))])"
      ]
     },
     "execution_count": 604,
     "metadata": {},
     "output_type": "execute_result"
    }
   ],
   "source": [
    "voting_clf = VotingRegressor(\n",
    "    estimators=[('lr', model_Linear_selected_shap), ('dt', model_DecisionTree_selected_shap), ('knn', model_KNN_selected_shap),\n",
    "                ('rf', model_RandomForest_selected_shap), ('Lasso', model_Lasso_selected_shap), ('mlp', model_MLP_selected_shap),\n",
    "                ('ridge',model_Ridge_selected_shap ), ('svr', model_SVR_selected_shap)\n",
    "                ])\n",
    "voting_clf.fit(X_train_selected_shap, y_train)"
   ]
  },
  {
   "cell_type": "code",
   "execution_count": 605,
   "metadata": {},
   "outputs": [
    {
     "name": "stdout",
     "output_type": "stream",
     "text": [
      "R-squared: 0.8750973720308926\n"
     ]
    }
   ],
   "source": [
    "y_pred = voting_clf.predict(X_test_selected_shap)\n",
    "r2 = r2_score(y_test, y_pred)\n",
    "print(f'R-squared: {r2}')"
   ]
  },
  {
   "cell_type": "code",
   "execution_count": 606,
   "metadata": {},
   "outputs": [],
   "source": [
    "comparison_table['Model Name'].append('VotingRegressor')\n",
    "comparison_table['Data Type'].append('selected features by shap')\n",
    "comparison_table['R-squared'].append(r2)"
   ]
  },
  {
   "cell_type": "code",
   "execution_count": 607,
   "metadata": {},
   "outputs": [
    {
     "data": {
      "text/html": [
       "<style>#sk-container-id-30 {color: black;}#sk-container-id-30 pre{padding: 0;}#sk-container-id-30 div.sk-toggleable {background-color: white;}#sk-container-id-30 label.sk-toggleable__label {cursor: pointer;display: block;width: 100%;margin-bottom: 0;padding: 0.3em;box-sizing: border-box;text-align: center;}#sk-container-id-30 label.sk-toggleable__label-arrow:before {content: \"▸\";float: left;margin-right: 0.25em;color: #696969;}#sk-container-id-30 label.sk-toggleable__label-arrow:hover:before {color: black;}#sk-container-id-30 div.sk-estimator:hover label.sk-toggleable__label-arrow:before {color: black;}#sk-container-id-30 div.sk-toggleable__content {max-height: 0;max-width: 0;overflow: hidden;text-align: left;background-color: #f0f8ff;}#sk-container-id-30 div.sk-toggleable__content pre {margin: 0.2em;color: black;border-radius: 0.25em;background-color: #f0f8ff;}#sk-container-id-30 input.sk-toggleable__control:checked~div.sk-toggleable__content {max-height: 200px;max-width: 100%;overflow: auto;}#sk-container-id-30 input.sk-toggleable__control:checked~label.sk-toggleable__label-arrow:before {content: \"▾\";}#sk-container-id-30 div.sk-estimator input.sk-toggleable__control:checked~label.sk-toggleable__label {background-color: #d4ebff;}#sk-container-id-30 div.sk-label input.sk-toggleable__control:checked~label.sk-toggleable__label {background-color: #d4ebff;}#sk-container-id-30 input.sk-hidden--visually {border: 0;clip: rect(1px 1px 1px 1px);clip: rect(1px, 1px, 1px, 1px);height: 1px;margin: -1px;overflow: hidden;padding: 0;position: absolute;width: 1px;}#sk-container-id-30 div.sk-estimator {font-family: monospace;background-color: #f0f8ff;border: 1px dotted black;border-radius: 0.25em;box-sizing: border-box;margin-bottom: 0.5em;}#sk-container-id-30 div.sk-estimator:hover {background-color: #d4ebff;}#sk-container-id-30 div.sk-parallel-item::after {content: \"\";width: 100%;border-bottom: 1px solid gray;flex-grow: 1;}#sk-container-id-30 div.sk-label:hover label.sk-toggleable__label {background-color: #d4ebff;}#sk-container-id-30 div.sk-serial::before {content: \"\";position: absolute;border-left: 1px solid gray;box-sizing: border-box;top: 0;bottom: 0;left: 50%;z-index: 0;}#sk-container-id-30 div.sk-serial {display: flex;flex-direction: column;align-items: center;background-color: white;padding-right: 0.2em;padding-left: 0.2em;position: relative;}#sk-container-id-30 div.sk-item {position: relative;z-index: 1;}#sk-container-id-30 div.sk-parallel {display: flex;align-items: stretch;justify-content: center;background-color: white;position: relative;}#sk-container-id-30 div.sk-item::before, #sk-container-id-30 div.sk-parallel-item::before {content: \"\";position: absolute;border-left: 1px solid gray;box-sizing: border-box;top: 0;bottom: 0;left: 50%;z-index: -1;}#sk-container-id-30 div.sk-parallel-item {display: flex;flex-direction: column;z-index: 1;position: relative;background-color: white;}#sk-container-id-30 div.sk-parallel-item:first-child::after {align-self: flex-end;width: 50%;}#sk-container-id-30 div.sk-parallel-item:last-child::after {align-self: flex-start;width: 50%;}#sk-container-id-30 div.sk-parallel-item:only-child::after {width: 0;}#sk-container-id-30 div.sk-dashed-wrapped {border: 1px dashed gray;margin: 0 0.4em 0.5em 0.4em;box-sizing: border-box;padding-bottom: 0.4em;background-color: white;}#sk-container-id-30 div.sk-label label {font-family: monospace;font-weight: bold;display: inline-block;line-height: 1.2em;}#sk-container-id-30 div.sk-label-container {text-align: center;}#sk-container-id-30 div.sk-container {/* jupyter's `normalize.less` sets `[hidden] { display: none; }` but bootstrap.min.css set `[hidden] { display: none !important; }` so we also need the `!important` here to be able to override the default hidden behavior on the sphinx rendered scikit-learn.org. See: https://github.com/scikit-learn/scikit-learn/issues/21755 */display: inline-block !important;position: relative;}#sk-container-id-30 div.sk-text-repr-fallback {display: none;}</style><div id=\"sk-container-id-30\" class=\"sk-top-container\"><div class=\"sk-text-repr-fallback\"><pre>VotingRegressor(estimators=[(&#x27;lr&#x27;, LinearRegression()),\n",
       "                            (&#x27;dt&#x27;, DecisionTreeRegressor(max_depth=20)),\n",
       "                            (&#x27;knn&#x27;,\n",
       "                             KNeighborsRegressor(metric=&#x27;manhattan&#x27;,\n",
       "                                                 n_neighbors=3,\n",
       "                                                 weights=&#x27;distance&#x27;)),\n",
       "                            (&#x27;rf&#x27;,\n",
       "                             RandomForestRegressor(max_depth=10,\n",
       "                                                   n_estimators=200)),\n",
       "                            (&#x27;Lasso&#x27;, Lasso(alpha=200)),\n",
       "                            (&#x27;mlp&#x27;,\n",
       "                             MLPRegressor(alpha=0.05,\n",
       "                                          hidden_layer_sizes=(50, 100, 50),\n",
       "                                          learning_rate=&#x27;adaptive&#x27;,\n",
       "                                          max_iter=10000)),\n",
       "                            (&#x27;ridge&#x27;, Ridge(alpha=10)),\n",
       "                            (&#x27;svr&#x27;, SVR(C=100, kernel=&#x27;linear&#x27;))])</pre><b>In a Jupyter environment, please rerun this cell to show the HTML representation or trust the notebook. <br />On GitHub, the HTML representation is unable to render, please try loading this page with nbviewer.org.</b></div><div class=\"sk-container\" hidden><div class=\"sk-item sk-dashed-wrapped\"><div class=\"sk-label-container\"><div class=\"sk-label sk-toggleable\"><input class=\"sk-toggleable__control sk-hidden--visually\" id=\"sk-estimator-id-254\" type=\"checkbox\" ><label for=\"sk-estimator-id-254\" class=\"sk-toggleable__label sk-toggleable__label-arrow\">VotingRegressor</label><div class=\"sk-toggleable__content\"><pre>VotingRegressor(estimators=[(&#x27;lr&#x27;, LinearRegression()),\n",
       "                            (&#x27;dt&#x27;, DecisionTreeRegressor(max_depth=20)),\n",
       "                            (&#x27;knn&#x27;,\n",
       "                             KNeighborsRegressor(metric=&#x27;manhattan&#x27;,\n",
       "                                                 n_neighbors=3,\n",
       "                                                 weights=&#x27;distance&#x27;)),\n",
       "                            (&#x27;rf&#x27;,\n",
       "                             RandomForestRegressor(max_depth=10,\n",
       "                                                   n_estimators=200)),\n",
       "                            (&#x27;Lasso&#x27;, Lasso(alpha=200)),\n",
       "                            (&#x27;mlp&#x27;,\n",
       "                             MLPRegressor(alpha=0.05,\n",
       "                                          hidden_layer_sizes=(50, 100, 50),\n",
       "                                          learning_rate=&#x27;adaptive&#x27;,\n",
       "                                          max_iter=10000)),\n",
       "                            (&#x27;ridge&#x27;, Ridge(alpha=10)),\n",
       "                            (&#x27;svr&#x27;, SVR(C=100, kernel=&#x27;linear&#x27;))])</pre></div></div></div><div class=\"sk-parallel\"><div class=\"sk-parallel-item\"><div class=\"sk-item\"><div class=\"sk-label-container\"><div class=\"sk-label sk-toggleable\"><label>lr</label></div></div><div class=\"sk-serial\"><div class=\"sk-item\"><div class=\"sk-estimator sk-toggleable\"><input class=\"sk-toggleable__control sk-hidden--visually\" id=\"sk-estimator-id-255\" type=\"checkbox\" ><label for=\"sk-estimator-id-255\" class=\"sk-toggleable__label sk-toggleable__label-arrow\">LinearRegression</label><div class=\"sk-toggleable__content\"><pre>LinearRegression()</pre></div></div></div></div></div></div><div class=\"sk-parallel-item\"><div class=\"sk-item\"><div class=\"sk-label-container\"><div class=\"sk-label sk-toggleable\"><label>dt</label></div></div><div class=\"sk-serial\"><div class=\"sk-item\"><div class=\"sk-estimator sk-toggleable\"><input class=\"sk-toggleable__control sk-hidden--visually\" id=\"sk-estimator-id-256\" type=\"checkbox\" ><label for=\"sk-estimator-id-256\" class=\"sk-toggleable__label sk-toggleable__label-arrow\">DecisionTreeRegressor</label><div class=\"sk-toggleable__content\"><pre>DecisionTreeRegressor(max_depth=20)</pre></div></div></div></div></div></div><div class=\"sk-parallel-item\"><div class=\"sk-item\"><div class=\"sk-label-container\"><div class=\"sk-label sk-toggleable\"><label>knn</label></div></div><div class=\"sk-serial\"><div class=\"sk-item\"><div class=\"sk-estimator sk-toggleable\"><input class=\"sk-toggleable__control sk-hidden--visually\" id=\"sk-estimator-id-257\" type=\"checkbox\" ><label for=\"sk-estimator-id-257\" class=\"sk-toggleable__label sk-toggleable__label-arrow\">KNeighborsRegressor</label><div class=\"sk-toggleable__content\"><pre>KNeighborsRegressor(metric=&#x27;manhattan&#x27;, n_neighbors=3, weights=&#x27;distance&#x27;)</pre></div></div></div></div></div></div><div class=\"sk-parallel-item\"><div class=\"sk-item\"><div class=\"sk-label-container\"><div class=\"sk-label sk-toggleable\"><label>rf</label></div></div><div class=\"sk-serial\"><div class=\"sk-item\"><div class=\"sk-estimator sk-toggleable\"><input class=\"sk-toggleable__control sk-hidden--visually\" id=\"sk-estimator-id-258\" type=\"checkbox\" ><label for=\"sk-estimator-id-258\" class=\"sk-toggleable__label sk-toggleable__label-arrow\">RandomForestRegressor</label><div class=\"sk-toggleable__content\"><pre>RandomForestRegressor(max_depth=10, n_estimators=200)</pre></div></div></div></div></div></div><div class=\"sk-parallel-item\"><div class=\"sk-item\"><div class=\"sk-label-container\"><div class=\"sk-label sk-toggleable\"><label>Lasso</label></div></div><div class=\"sk-serial\"><div class=\"sk-item\"><div class=\"sk-estimator sk-toggleable\"><input class=\"sk-toggleable__control sk-hidden--visually\" id=\"sk-estimator-id-259\" type=\"checkbox\" ><label for=\"sk-estimator-id-259\" class=\"sk-toggleable__label sk-toggleable__label-arrow\">Lasso</label><div class=\"sk-toggleable__content\"><pre>Lasso(alpha=200)</pre></div></div></div></div></div></div><div class=\"sk-parallel-item\"><div class=\"sk-item\"><div class=\"sk-label-container\"><div class=\"sk-label sk-toggleable\"><label>mlp</label></div></div><div class=\"sk-serial\"><div class=\"sk-item\"><div class=\"sk-estimator sk-toggleable\"><input class=\"sk-toggleable__control sk-hidden--visually\" id=\"sk-estimator-id-260\" type=\"checkbox\" ><label for=\"sk-estimator-id-260\" class=\"sk-toggleable__label sk-toggleable__label-arrow\">MLPRegressor</label><div class=\"sk-toggleable__content\"><pre>MLPRegressor(alpha=0.05, hidden_layer_sizes=(50, 100, 50),\n",
       "             learning_rate=&#x27;adaptive&#x27;, max_iter=10000)</pre></div></div></div></div></div></div><div class=\"sk-parallel-item\"><div class=\"sk-item\"><div class=\"sk-label-container\"><div class=\"sk-label sk-toggleable\"><label>ridge</label></div></div><div class=\"sk-serial\"><div class=\"sk-item\"><div class=\"sk-estimator sk-toggleable\"><input class=\"sk-toggleable__control sk-hidden--visually\" id=\"sk-estimator-id-261\" type=\"checkbox\" ><label for=\"sk-estimator-id-261\" class=\"sk-toggleable__label sk-toggleable__label-arrow\">Ridge</label><div class=\"sk-toggleable__content\"><pre>Ridge(alpha=10)</pre></div></div></div></div></div></div><div class=\"sk-parallel-item\"><div class=\"sk-item\"><div class=\"sk-label-container\"><div class=\"sk-label sk-toggleable\"><label>svr</label></div></div><div class=\"sk-serial\"><div class=\"sk-item\"><div class=\"sk-estimator sk-toggleable\"><input class=\"sk-toggleable__control sk-hidden--visually\" id=\"sk-estimator-id-262\" type=\"checkbox\" ><label for=\"sk-estimator-id-262\" class=\"sk-toggleable__label sk-toggleable__label-arrow\">SVR</label><div class=\"sk-toggleable__content\"><pre>SVR(C=100, kernel=&#x27;linear&#x27;)</pre></div></div></div></div></div></div></div></div></div></div>"
      ],
      "text/plain": [
       "VotingRegressor(estimators=[('lr', LinearRegression()),\n",
       "                            ('dt', DecisionTreeRegressor(max_depth=20)),\n",
       "                            ('knn',\n",
       "                             KNeighborsRegressor(metric='manhattan',\n",
       "                                                 n_neighbors=3,\n",
       "                                                 weights='distance')),\n",
       "                            ('rf',\n",
       "                             RandomForestRegressor(max_depth=10,\n",
       "                                                   n_estimators=200)),\n",
       "                            ('Lasso', Lasso(alpha=200)),\n",
       "                            ('mlp',\n",
       "                             MLPRegressor(alpha=0.05,\n",
       "                                          hidden_layer_sizes=(50, 100, 50),\n",
       "                                          learning_rate='adaptive',\n",
       "                                          max_iter=10000)),\n",
       "                            ('ridge', Ridge(alpha=10)),\n",
       "                            ('svr', SVR(C=100, kernel='linear'))])"
      ]
     },
     "execution_count": 607,
     "metadata": {},
     "output_type": "execute_result"
    }
   ],
   "source": [
    "voting_clf = VotingRegressor(\n",
    "    estimators=[('lr', model_Linear_selected_tree_based), ('dt', model_DecisionTree_selected_tree_based), ('knn', model_KNN_selected_tree_based),\n",
    "                ('rf', model_RandomForest_selected_tree_based), ('Lasso', model_Lasso_selected_tree_based), ('mlp', model_MLP_selected_tree_based),\n",
    "                ('ridge',model_Ridge_selected_tree_based ), ('svr', model_SVR_selected_tree_based)\n",
    "                ])\n",
    "voting_clf.fit(X_train_selected_tree_based, y_train)"
   ]
  },
  {
   "cell_type": "code",
   "execution_count": 608,
   "metadata": {},
   "outputs": [
    {
     "name": "stdout",
     "output_type": "stream",
     "text": [
      "R-squared: 0.8740550775293674\n"
     ]
    }
   ],
   "source": [
    "y_pred = voting_clf.predict(X_test_selected_tree_based)\n",
    "r2 = r2_score(y_test, y_pred)\n",
    "print(f'R-squared: {r2}')"
   ]
  },
  {
   "cell_type": "code",
   "execution_count": 609,
   "metadata": {},
   "outputs": [],
   "source": [
    "comparison_table['Model Name'].append('VotingRegressor')\n",
    "comparison_table['Data Type'].append('selected features by random forest')\n",
    "comparison_table['R-squared'].append(r2)"
   ]
  },
  {
   "cell_type": "code",
   "execution_count": 610,
   "metadata": {},
   "outputs": [
    {
     "data": {
      "text/html": [
       "<div>\n",
       "<style scoped>\n",
       "    .dataframe tbody tr th:only-of-type {\n",
       "        vertical-align: middle;\n",
       "    }\n",
       "\n",
       "    .dataframe tbody tr th {\n",
       "        vertical-align: top;\n",
       "    }\n",
       "\n",
       "    .dataframe thead th {\n",
       "        text-align: right;\n",
       "    }\n",
       "</style>\n",
       "<table border=\"1\" class=\"dataframe\">\n",
       "  <thead>\n",
       "    <tr style=\"text-align: right;\">\n",
       "      <th></th>\n",
       "      <th>Model Name</th>\n",
       "      <th>Data Type</th>\n",
       "      <th>R-squared</th>\n",
       "    </tr>\n",
       "  </thead>\n",
       "  <tbody>\n",
       "    <tr>\n",
       "      <th>0</th>\n",
       "      <td>LinearRegression</td>\n",
       "      <td>Normal Data</td>\n",
       "      <td>0.864062</td>\n",
       "    </tr>\n",
       "    <tr>\n",
       "      <th>1</th>\n",
       "      <td>LinearRegression</td>\n",
       "      <td>selected features by LinearRegression</td>\n",
       "      <td>0.788678</td>\n",
       "    </tr>\n",
       "    <tr>\n",
       "      <th>2</th>\n",
       "      <td>LinearRegression</td>\n",
       "      <td>selected features by permutation</td>\n",
       "      <td>0.834004</td>\n",
       "    </tr>\n",
       "    <tr>\n",
       "      <th>3</th>\n",
       "      <td>LinearRegression</td>\n",
       "      <td>selected features by percentile</td>\n",
       "      <td>0.856091</td>\n",
       "    </tr>\n",
       "    <tr>\n",
       "      <th>4</th>\n",
       "      <td>LinearRegression</td>\n",
       "      <td>selected features by shap</td>\n",
       "      <td>0.833037</td>\n",
       "    </tr>\n",
       "    <tr>\n",
       "      <th>5</th>\n",
       "      <td>LinearRegression</td>\n",
       "      <td>selected features by random forest</td>\n",
       "      <td>0.834563</td>\n",
       "    </tr>\n",
       "    <tr>\n",
       "      <th>6</th>\n",
       "      <td>DecisionTreeRegressor</td>\n",
       "      <td>Normal Data</td>\n",
       "      <td>0.775830</td>\n",
       "    </tr>\n",
       "    <tr>\n",
       "      <th>7</th>\n",
       "      <td>DecisionTreeRegressor</td>\n",
       "      <td>selected features by LinearRegression</td>\n",
       "      <td>0.753250</td>\n",
       "    </tr>\n",
       "    <tr>\n",
       "      <th>8</th>\n",
       "      <td>DecisionTreeRegressor</td>\n",
       "      <td>selected features by permutation</td>\n",
       "      <td>0.792484</td>\n",
       "    </tr>\n",
       "    <tr>\n",
       "      <th>9</th>\n",
       "      <td>DecisionTreeRegressor</td>\n",
       "      <td>selected features by percentile</td>\n",
       "      <td>0.764627</td>\n",
       "    </tr>\n",
       "    <tr>\n",
       "      <th>10</th>\n",
       "      <td>DecisionTreeRegressor</td>\n",
       "      <td>selected features by shap</td>\n",
       "      <td>0.783540</td>\n",
       "    </tr>\n",
       "    <tr>\n",
       "      <th>11</th>\n",
       "      <td>DecisionTreeRegressor</td>\n",
       "      <td>selected features by random forest</td>\n",
       "      <td>0.785894</td>\n",
       "    </tr>\n",
       "    <tr>\n",
       "      <th>12</th>\n",
       "      <td>RandomForestRegressor</td>\n",
       "      <td>Normal Data</td>\n",
       "      <td>0.892965</td>\n",
       "    </tr>\n",
       "    <tr>\n",
       "      <th>13</th>\n",
       "      <td>RandomForestRegressor</td>\n",
       "      <td>selected features by LinearRegression</td>\n",
       "      <td>0.842482</td>\n",
       "    </tr>\n",
       "    <tr>\n",
       "      <th>14</th>\n",
       "      <td>RandomForestRegressor</td>\n",
       "      <td>selected features by permutation</td>\n",
       "      <td>0.895341</td>\n",
       "    </tr>\n",
       "    <tr>\n",
       "      <th>15</th>\n",
       "      <td>RandomForestRegressor</td>\n",
       "      <td>selected features by percentile</td>\n",
       "      <td>0.887628</td>\n",
       "    </tr>\n",
       "    <tr>\n",
       "      <th>16</th>\n",
       "      <td>RandomForestRegressor</td>\n",
       "      <td>selected features by shap</td>\n",
       "      <td>0.896036</td>\n",
       "    </tr>\n",
       "    <tr>\n",
       "      <th>17</th>\n",
       "      <td>RandomForestRegressor</td>\n",
       "      <td>selected features by random forest</td>\n",
       "      <td>0.890193</td>\n",
       "    </tr>\n",
       "    <tr>\n",
       "      <th>18</th>\n",
       "      <td>SVR</td>\n",
       "      <td>Normal Data</td>\n",
       "      <td>0.839514</td>\n",
       "    </tr>\n",
       "    <tr>\n",
       "      <th>19</th>\n",
       "      <td>SVR</td>\n",
       "      <td>selected features by LinearRegression</td>\n",
       "      <td>0.694807</td>\n",
       "    </tr>\n",
       "    <tr>\n",
       "      <th>20</th>\n",
       "      <td>SVR</td>\n",
       "      <td>selected features by permutation</td>\n",
       "      <td>0.788238</td>\n",
       "    </tr>\n",
       "    <tr>\n",
       "      <th>21</th>\n",
       "      <td>SVR</td>\n",
       "      <td>selected features by percentile</td>\n",
       "      <td>0.816286</td>\n",
       "    </tr>\n",
       "    <tr>\n",
       "      <th>22</th>\n",
       "      <td>SVR</td>\n",
       "      <td>selected features by shap</td>\n",
       "      <td>0.783564</td>\n",
       "    </tr>\n",
       "    <tr>\n",
       "      <th>23</th>\n",
       "      <td>SVR</td>\n",
       "      <td>selected features by random forest</td>\n",
       "      <td>0.789938</td>\n",
       "    </tr>\n",
       "    <tr>\n",
       "      <th>24</th>\n",
       "      <td>MLPRegressor</td>\n",
       "      <td>Normal Data</td>\n",
       "      <td>0.878876</td>\n",
       "    </tr>\n",
       "    <tr>\n",
       "      <th>25</th>\n",
       "      <td>MLPRegressor</td>\n",
       "      <td>selected features by LinearRegression</td>\n",
       "      <td>0.808825</td>\n",
       "    </tr>\n",
       "    <tr>\n",
       "      <th>26</th>\n",
       "      <td>MLPRegressor</td>\n",
       "      <td>selected features by permutation</td>\n",
       "      <td>0.860101</td>\n",
       "    </tr>\n",
       "    <tr>\n",
       "      <th>27</th>\n",
       "      <td>MLPRegressor</td>\n",
       "      <td>selected features by percentile</td>\n",
       "      <td>0.871049</td>\n",
       "    </tr>\n",
       "    <tr>\n",
       "      <th>28</th>\n",
       "      <td>MLPRegressor</td>\n",
       "      <td>selected features by shap</td>\n",
       "      <td>0.875664</td>\n",
       "    </tr>\n",
       "    <tr>\n",
       "      <th>29</th>\n",
       "      <td>MLPRegressor</td>\n",
       "      <td>selected features by random forest</td>\n",
       "      <td>0.861715</td>\n",
       "    </tr>\n",
       "    <tr>\n",
       "      <th>30</th>\n",
       "      <td>KNeighborsRegressor</td>\n",
       "      <td>Normal Data</td>\n",
       "      <td>0.852578</td>\n",
       "    </tr>\n",
       "    <tr>\n",
       "      <th>31</th>\n",
       "      <td>KNeighborsRegressor</td>\n",
       "      <td>selected features by LinearRegression</td>\n",
       "      <td>0.814456</td>\n",
       "    </tr>\n",
       "    <tr>\n",
       "      <th>32</th>\n",
       "      <td>KNeighborsRegressor</td>\n",
       "      <td>selected features by permutation</td>\n",
       "      <td>0.886055</td>\n",
       "    </tr>\n",
       "    <tr>\n",
       "      <th>33</th>\n",
       "      <td>KNeighborsRegressor</td>\n",
       "      <td>selected features by percentile</td>\n",
       "      <td>0.877556</td>\n",
       "    </tr>\n",
       "    <tr>\n",
       "      <th>34</th>\n",
       "      <td>KNeighborsRegressor</td>\n",
       "      <td>selected features by shap</td>\n",
       "      <td>0.890137</td>\n",
       "    </tr>\n",
       "    <tr>\n",
       "      <th>35</th>\n",
       "      <td>KNeighborsRegressor</td>\n",
       "      <td>selected features by random forest</td>\n",
       "      <td>0.886001</td>\n",
       "    </tr>\n",
       "    <tr>\n",
       "      <th>36</th>\n",
       "      <td>Ridge</td>\n",
       "      <td>Normal Data</td>\n",
       "      <td>0.874517</td>\n",
       "    </tr>\n",
       "    <tr>\n",
       "      <th>37</th>\n",
       "      <td>Ridge</td>\n",
       "      <td>selected features by LinearRegression</td>\n",
       "      <td>0.787377</td>\n",
       "    </tr>\n",
       "    <tr>\n",
       "      <th>38</th>\n",
       "      <td>Ridge</td>\n",
       "      <td>selected features by permutation</td>\n",
       "      <td>0.832923</td>\n",
       "    </tr>\n",
       "    <tr>\n",
       "      <th>39</th>\n",
       "      <td>Ridge</td>\n",
       "      <td>selected features by percentile</td>\n",
       "      <td>0.855005</td>\n",
       "    </tr>\n",
       "    <tr>\n",
       "      <th>40</th>\n",
       "      <td>Ridge</td>\n",
       "      <td>selected features by shap</td>\n",
       "      <td>0.832720</td>\n",
       "    </tr>\n",
       "    <tr>\n",
       "      <th>41</th>\n",
       "      <td>Ridge</td>\n",
       "      <td>selected features by random forest</td>\n",
       "      <td>0.833433</td>\n",
       "    </tr>\n",
       "    <tr>\n",
       "      <th>42</th>\n",
       "      <td>Lasso</td>\n",
       "      <td>Normal Data</td>\n",
       "      <td>0.876051</td>\n",
       "    </tr>\n",
       "    <tr>\n",
       "      <th>43</th>\n",
       "      <td>Lasso</td>\n",
       "      <td>selected features by LinearRegression</td>\n",
       "      <td>0.784334</td>\n",
       "    </tr>\n",
       "    <tr>\n",
       "      <th>44</th>\n",
       "      <td>Lasso</td>\n",
       "      <td>selected features by permutation</td>\n",
       "      <td>0.832481</td>\n",
       "    </tr>\n",
       "    <tr>\n",
       "      <th>45</th>\n",
       "      <td>Lasso</td>\n",
       "      <td>selected features by percentile</td>\n",
       "      <td>0.854416</td>\n",
       "    </tr>\n",
       "    <tr>\n",
       "      <th>46</th>\n",
       "      <td>Lasso</td>\n",
       "      <td>selected features by shap</td>\n",
       "      <td>0.832190</td>\n",
       "    </tr>\n",
       "    <tr>\n",
       "      <th>47</th>\n",
       "      <td>Lasso</td>\n",
       "      <td>selected features by random forest</td>\n",
       "      <td>0.833158</td>\n",
       "    </tr>\n",
       "    <tr>\n",
       "      <th>48</th>\n",
       "      <td>VotingRegressor</td>\n",
       "      <td>Normal Data</td>\n",
       "      <td>0.890177</td>\n",
       "    </tr>\n",
       "    <tr>\n",
       "      <th>49</th>\n",
       "      <td>VotingRegressor</td>\n",
       "      <td>selected features by LinearRegression</td>\n",
       "      <td>0.882770</td>\n",
       "    </tr>\n",
       "    <tr>\n",
       "      <th>50</th>\n",
       "      <td>VotingRegressor</td>\n",
       "      <td>selected features by permutation</td>\n",
       "      <td>0.817815</td>\n",
       "    </tr>\n",
       "    <tr>\n",
       "      <th>51</th>\n",
       "      <td>VotingRegressor</td>\n",
       "      <td>selected features by percentile</td>\n",
       "      <td>0.877803</td>\n",
       "    </tr>\n",
       "    <tr>\n",
       "      <th>52</th>\n",
       "      <td>VotingRegressor</td>\n",
       "      <td>selected features by shap</td>\n",
       "      <td>0.875097</td>\n",
       "    </tr>\n",
       "    <tr>\n",
       "      <th>53</th>\n",
       "      <td>VotingRegressor</td>\n",
       "      <td>selected features by random forest</td>\n",
       "      <td>0.874055</td>\n",
       "    </tr>\n",
       "  </tbody>\n",
       "</table>\n",
       "</div>"
      ],
      "text/plain": [
       "               Model Name                              Data Type  R-squared\n",
       "0        LinearRegression                            Normal Data   0.864062\n",
       "1        LinearRegression  selected features by LinearRegression   0.788678\n",
       "2        LinearRegression       selected features by permutation   0.834004\n",
       "3        LinearRegression        selected features by percentile   0.856091\n",
       "4        LinearRegression              selected features by shap   0.833037\n",
       "5        LinearRegression     selected features by random forest   0.834563\n",
       "6   DecisionTreeRegressor                            Normal Data   0.775830\n",
       "7   DecisionTreeRegressor  selected features by LinearRegression   0.753250\n",
       "8   DecisionTreeRegressor       selected features by permutation   0.792484\n",
       "9   DecisionTreeRegressor        selected features by percentile   0.764627\n",
       "10  DecisionTreeRegressor              selected features by shap   0.783540\n",
       "11  DecisionTreeRegressor     selected features by random forest   0.785894\n",
       "12  RandomForestRegressor                            Normal Data   0.892965\n",
       "13  RandomForestRegressor  selected features by LinearRegression   0.842482\n",
       "14  RandomForestRegressor       selected features by permutation   0.895341\n",
       "15  RandomForestRegressor        selected features by percentile   0.887628\n",
       "16  RandomForestRegressor              selected features by shap   0.896036\n",
       "17  RandomForestRegressor     selected features by random forest   0.890193\n",
       "18                    SVR                            Normal Data   0.839514\n",
       "19                    SVR  selected features by LinearRegression   0.694807\n",
       "20                    SVR       selected features by permutation   0.788238\n",
       "21                    SVR        selected features by percentile   0.816286\n",
       "22                    SVR              selected features by shap   0.783564\n",
       "23                    SVR     selected features by random forest   0.789938\n",
       "24           MLPRegressor                            Normal Data   0.878876\n",
       "25           MLPRegressor  selected features by LinearRegression   0.808825\n",
       "26           MLPRegressor       selected features by permutation   0.860101\n",
       "27           MLPRegressor        selected features by percentile   0.871049\n",
       "28           MLPRegressor              selected features by shap   0.875664\n",
       "29           MLPRegressor     selected features by random forest   0.861715\n",
       "30    KNeighborsRegressor                            Normal Data   0.852578\n",
       "31    KNeighborsRegressor  selected features by LinearRegression   0.814456\n",
       "32    KNeighborsRegressor       selected features by permutation   0.886055\n",
       "33    KNeighborsRegressor        selected features by percentile   0.877556\n",
       "34    KNeighborsRegressor              selected features by shap   0.890137\n",
       "35    KNeighborsRegressor     selected features by random forest   0.886001\n",
       "36                  Ridge                            Normal Data   0.874517\n",
       "37                  Ridge  selected features by LinearRegression   0.787377\n",
       "38                  Ridge       selected features by permutation   0.832923\n",
       "39                  Ridge        selected features by percentile   0.855005\n",
       "40                  Ridge              selected features by shap   0.832720\n",
       "41                  Ridge     selected features by random forest   0.833433\n",
       "42                  Lasso                            Normal Data   0.876051\n",
       "43                  Lasso  selected features by LinearRegression   0.784334\n",
       "44                  Lasso       selected features by permutation   0.832481\n",
       "45                  Lasso        selected features by percentile   0.854416\n",
       "46                  Lasso              selected features by shap   0.832190\n",
       "47                  Lasso     selected features by random forest   0.833158\n",
       "48        VotingRegressor                            Normal Data   0.890177\n",
       "49        VotingRegressor  selected features by LinearRegression   0.882770\n",
       "50        VotingRegressor       selected features by permutation   0.817815\n",
       "51        VotingRegressor        selected features by percentile   0.877803\n",
       "52        VotingRegressor              selected features by shap   0.875097\n",
       "53        VotingRegressor     selected features by random forest   0.874055"
      ]
     },
     "execution_count": 610,
     "metadata": {},
     "output_type": "execute_result"
    }
   ],
   "source": [
    "df = pd.DataFrame(comparison_table)"
   ]
  },
  {
   "cell_type": "code",
   "execution_count": 611,
   "metadata": {},
   "outputs": [
    {
     "data": {
      "text/html": [
       "<div>\n",
       "<style scoped>\n",
       "    .dataframe tbody tr th:only-of-type {\n",
       "        vertical-align: middle;\n",
       "    }\n",
       "\n",
       "    .dataframe tbody tr th {\n",
       "        vertical-align: top;\n",
       "    }\n",
       "\n",
       "    .dataframe thead th {\n",
       "        text-align: right;\n",
       "    }\n",
       "</style>\n",
       "<table border=\"1\" class=\"dataframe\">\n",
       "  <thead>\n",
       "    <tr style=\"text-align: right;\">\n",
       "      <th></th>\n",
       "      <th>Model Name</th>\n",
       "      <th>Data Type</th>\n",
       "      <th>R-squared</th>\n",
       "    </tr>\n",
       "  </thead>\n",
       "  <tbody>\n",
       "    <tr>\n",
       "      <th>0</th>\n",
       "      <td>LinearRegression</td>\n",
       "      <td>Normal Data</td>\n",
       "      <td>0.864062</td>\n",
       "    </tr>\n",
       "    <tr>\n",
       "      <th>6</th>\n",
       "      <td>DecisionTreeRegressor</td>\n",
       "      <td>Normal Data</td>\n",
       "      <td>0.775830</td>\n",
       "    </tr>\n",
       "    <tr>\n",
       "      <th>12</th>\n",
       "      <td>RandomForestRegressor</td>\n",
       "      <td>Normal Data</td>\n",
       "      <td>0.892965</td>\n",
       "    </tr>\n",
       "    <tr>\n",
       "      <th>18</th>\n",
       "      <td>SVR</td>\n",
       "      <td>Normal Data</td>\n",
       "      <td>0.839514</td>\n",
       "    </tr>\n",
       "    <tr>\n",
       "      <th>24</th>\n",
       "      <td>MLPRegressor</td>\n",
       "      <td>Normal Data</td>\n",
       "      <td>0.878876</td>\n",
       "    </tr>\n",
       "    <tr>\n",
       "      <th>30</th>\n",
       "      <td>KNeighborsRegressor</td>\n",
       "      <td>Normal Data</td>\n",
       "      <td>0.852578</td>\n",
       "    </tr>\n",
       "    <tr>\n",
       "      <th>36</th>\n",
       "      <td>Ridge</td>\n",
       "      <td>Normal Data</td>\n",
       "      <td>0.874517</td>\n",
       "    </tr>\n",
       "    <tr>\n",
       "      <th>42</th>\n",
       "      <td>Lasso</td>\n",
       "      <td>Normal Data</td>\n",
       "      <td>0.876051</td>\n",
       "    </tr>\n",
       "    <tr>\n",
       "      <th>48</th>\n",
       "      <td>VotingRegressor</td>\n",
       "      <td>Normal Data</td>\n",
       "      <td>0.890177</td>\n",
       "    </tr>\n",
       "  </tbody>\n",
       "</table>\n",
       "</div>"
      ],
      "text/plain": [
       "               Model Name    Data Type  R-squared\n",
       "0        LinearRegression  Normal Data   0.864062\n",
       "6   DecisionTreeRegressor  Normal Data   0.775830\n",
       "12  RandomForestRegressor  Normal Data   0.892965\n",
       "18                    SVR  Normal Data   0.839514\n",
       "24           MLPRegressor  Normal Data   0.878876\n",
       "30    KNeighborsRegressor  Normal Data   0.852578\n",
       "36                  Ridge  Normal Data   0.874517\n",
       "42                  Lasso  Normal Data   0.876051\n",
       "48        VotingRegressor  Normal Data   0.890177"
      ]
     },
     "execution_count": 611,
     "metadata": {},
     "output_type": "execute_result"
    }
   ],
   "source": [
    "df[df['Data Type']=='Normal Data']"
   ]
  },
  {
   "cell_type": "code",
   "execution_count": 636,
   "metadata": {},
   "outputs": [
    {
     "name": "stdout",
     "output_type": "stream",
     "text": [
      "R-squared: 0.8895989144763621\n"
     ]
    },
    {
     "name": "stderr",
     "output_type": "stream",
     "text": [
      "c:\\Users\\ASUS\\anaconda3\\Lib\\site-packages\\sklearn\\neural_network\\_multilayer_perceptron.py:691: ConvergenceWarning: Stochastic Optimizer: Maximum iterations (1000) reached and the optimization hasn't converged yet.\n",
      "  warnings.warn(\n"
     ]
    }
   ],
   "source": [
    "voting_clf = VotingRegressor(\n",
    "    estimators=[('lr', model_Linear), ('knn', model_KNN),\n",
    "                ('rf', model_RandomForest), ('Lasso', model_Lasso), ('mlp', model_MLP),\n",
    "                ('ridge',model_Ridge )\n",
    "                ])\n",
    "voting_clf.fit(X_train, y_train)\n",
    "y_pred = voting_clf.predict(X_test)\n",
    "r2 = r2_score(y_test, y_pred)\n",
    "print(f'R-squared: {r2}')"
   ]
  },
  {
   "cell_type": "code",
   "execution_count": 637,
   "metadata": {},
   "outputs": [],
   "source": [
    "comparison_table['Model Name'].append('VotingRegressor(lr-knn-lasso-rf-mlp-ridge)')\n",
    "comparison_table['Data Type'].append('Normal Data')\n",
    "comparison_table['R-squared'].append(r2)"
   ]
  },
  {
   "cell_type": "code",
   "execution_count": 612,
   "metadata": {},
   "outputs": [
    {
     "data": {
      "text/html": [
       "<div>\n",
       "<style scoped>\n",
       "    .dataframe tbody tr th:only-of-type {\n",
       "        vertical-align: middle;\n",
       "    }\n",
       "\n",
       "    .dataframe tbody tr th {\n",
       "        vertical-align: top;\n",
       "    }\n",
       "\n",
       "    .dataframe thead th {\n",
       "        text-align: right;\n",
       "    }\n",
       "</style>\n",
       "<table border=\"1\" class=\"dataframe\">\n",
       "  <thead>\n",
       "    <tr style=\"text-align: right;\">\n",
       "      <th></th>\n",
       "      <th>Model Name</th>\n",
       "      <th>Data Type</th>\n",
       "      <th>R-squared</th>\n",
       "    </tr>\n",
       "  </thead>\n",
       "  <tbody>\n",
       "    <tr>\n",
       "      <th>1</th>\n",
       "      <td>LinearRegression</td>\n",
       "      <td>selected features by LinearRegression</td>\n",
       "      <td>0.788678</td>\n",
       "    </tr>\n",
       "    <tr>\n",
       "      <th>7</th>\n",
       "      <td>DecisionTreeRegressor</td>\n",
       "      <td>selected features by LinearRegression</td>\n",
       "      <td>0.753250</td>\n",
       "    </tr>\n",
       "    <tr>\n",
       "      <th>13</th>\n",
       "      <td>RandomForestRegressor</td>\n",
       "      <td>selected features by LinearRegression</td>\n",
       "      <td>0.842482</td>\n",
       "    </tr>\n",
       "    <tr>\n",
       "      <th>19</th>\n",
       "      <td>SVR</td>\n",
       "      <td>selected features by LinearRegression</td>\n",
       "      <td>0.694807</td>\n",
       "    </tr>\n",
       "    <tr>\n",
       "      <th>25</th>\n",
       "      <td>MLPRegressor</td>\n",
       "      <td>selected features by LinearRegression</td>\n",
       "      <td>0.808825</td>\n",
       "    </tr>\n",
       "    <tr>\n",
       "      <th>31</th>\n",
       "      <td>KNeighborsRegressor</td>\n",
       "      <td>selected features by LinearRegression</td>\n",
       "      <td>0.814456</td>\n",
       "    </tr>\n",
       "    <tr>\n",
       "      <th>37</th>\n",
       "      <td>Ridge</td>\n",
       "      <td>selected features by LinearRegression</td>\n",
       "      <td>0.787377</td>\n",
       "    </tr>\n",
       "    <tr>\n",
       "      <th>43</th>\n",
       "      <td>Lasso</td>\n",
       "      <td>selected features by LinearRegression</td>\n",
       "      <td>0.784334</td>\n",
       "    </tr>\n",
       "    <tr>\n",
       "      <th>49</th>\n",
       "      <td>VotingRegressor</td>\n",
       "      <td>selected features by LinearRegression</td>\n",
       "      <td>0.882770</td>\n",
       "    </tr>\n",
       "  </tbody>\n",
       "</table>\n",
       "</div>"
      ],
      "text/plain": [
       "               Model Name                              Data Type  R-squared\n",
       "1        LinearRegression  selected features by LinearRegression   0.788678\n",
       "7   DecisionTreeRegressor  selected features by LinearRegression   0.753250\n",
       "13  RandomForestRegressor  selected features by LinearRegression   0.842482\n",
       "19                    SVR  selected features by LinearRegression   0.694807\n",
       "25           MLPRegressor  selected features by LinearRegression   0.808825\n",
       "31    KNeighborsRegressor  selected features by LinearRegression   0.814456\n",
       "37                  Ridge  selected features by LinearRegression   0.787377\n",
       "43                  Lasso  selected features by LinearRegression   0.784334\n",
       "49        VotingRegressor  selected features by LinearRegression   0.882770"
      ]
     },
     "execution_count": 612,
     "metadata": {},
     "output_type": "execute_result"
    }
   ],
   "source": [
    "df[df['Data Type']=='selected features by LinearRegression']"
   ]
  },
  {
   "cell_type": "code",
   "execution_count": 638,
   "metadata": {},
   "outputs": [
    {
     "name": "stdout",
     "output_type": "stream",
     "text": [
      "R-squared: 0.8981307982211821\n"
     ]
    },
    {
     "name": "stderr",
     "output_type": "stream",
     "text": [
      "c:\\Users\\ASUS\\anaconda3\\Lib\\site-packages\\sklearn\\neural_network\\_multilayer_perceptron.py:691: ConvergenceWarning: Stochastic Optimizer: Maximum iterations (1000) reached and the optimization hasn't converged yet.\n",
      "  warnings.warn(\n"
     ]
    }
   ],
   "source": [
    "voting_clf = VotingRegressor(\n",
    "    estimators=[ ('knn', model_KNN_select_percentile),\n",
    "                ('rf', model_RandomForest_select_percentile),  ('mlp', model_MLP_select_percentile)\n",
    "                ])\n",
    "voting_clf.fit(X_train_selected_select_percentile, y_train)\n",
    "y_pred = voting_clf.predict(X_test_selected_select_percentile)\n",
    "r2 = r2_score(y_test, y_pred)\n",
    "print(f'R-squared: {r2}')"
   ]
  },
  {
   "cell_type": "code",
   "execution_count": 639,
   "metadata": {},
   "outputs": [],
   "source": [
    "comparison_table['Model Name'].append('VotingRegressor(knn-rf-mlp)')\n",
    "comparison_table['Data Type'].append('selected features by percentile')\n",
    "comparison_table['R-squared'].append(r2)"
   ]
  },
  {
   "cell_type": "code",
   "execution_count": 613,
   "metadata": {},
   "outputs": [
    {
     "data": {
      "text/html": [
       "<div>\n",
       "<style scoped>\n",
       "    .dataframe tbody tr th:only-of-type {\n",
       "        vertical-align: middle;\n",
       "    }\n",
       "\n",
       "    .dataframe tbody tr th {\n",
       "        vertical-align: top;\n",
       "    }\n",
       "\n",
       "    .dataframe thead th {\n",
       "        text-align: right;\n",
       "    }\n",
       "</style>\n",
       "<table border=\"1\" class=\"dataframe\">\n",
       "  <thead>\n",
       "    <tr style=\"text-align: right;\">\n",
       "      <th></th>\n",
       "      <th>Model Name</th>\n",
       "      <th>Data Type</th>\n",
       "      <th>R-squared</th>\n",
       "    </tr>\n",
       "  </thead>\n",
       "  <tbody>\n",
       "    <tr>\n",
       "      <th>2</th>\n",
       "      <td>LinearRegression</td>\n",
       "      <td>selected features by permutation</td>\n",
       "      <td>0.834004</td>\n",
       "    </tr>\n",
       "    <tr>\n",
       "      <th>8</th>\n",
       "      <td>DecisionTreeRegressor</td>\n",
       "      <td>selected features by permutation</td>\n",
       "      <td>0.792484</td>\n",
       "    </tr>\n",
       "    <tr>\n",
       "      <th>14</th>\n",
       "      <td>RandomForestRegressor</td>\n",
       "      <td>selected features by permutation</td>\n",
       "      <td>0.895341</td>\n",
       "    </tr>\n",
       "    <tr>\n",
       "      <th>20</th>\n",
       "      <td>SVR</td>\n",
       "      <td>selected features by permutation</td>\n",
       "      <td>0.788238</td>\n",
       "    </tr>\n",
       "    <tr>\n",
       "      <th>26</th>\n",
       "      <td>MLPRegressor</td>\n",
       "      <td>selected features by permutation</td>\n",
       "      <td>0.860101</td>\n",
       "    </tr>\n",
       "    <tr>\n",
       "      <th>32</th>\n",
       "      <td>KNeighborsRegressor</td>\n",
       "      <td>selected features by permutation</td>\n",
       "      <td>0.886055</td>\n",
       "    </tr>\n",
       "    <tr>\n",
       "      <th>38</th>\n",
       "      <td>Ridge</td>\n",
       "      <td>selected features by permutation</td>\n",
       "      <td>0.832923</td>\n",
       "    </tr>\n",
       "    <tr>\n",
       "      <th>44</th>\n",
       "      <td>Lasso</td>\n",
       "      <td>selected features by permutation</td>\n",
       "      <td>0.832481</td>\n",
       "    </tr>\n",
       "    <tr>\n",
       "      <th>50</th>\n",
       "      <td>VotingRegressor</td>\n",
       "      <td>selected features by permutation</td>\n",
       "      <td>0.817815</td>\n",
       "    </tr>\n",
       "  </tbody>\n",
       "</table>\n",
       "</div>"
      ],
      "text/plain": [
       "               Model Name                         Data Type  R-squared\n",
       "2        LinearRegression  selected features by permutation   0.834004\n",
       "8   DecisionTreeRegressor  selected features by permutation   0.792484\n",
       "14  RandomForestRegressor  selected features by permutation   0.895341\n",
       "20                    SVR  selected features by permutation   0.788238\n",
       "26           MLPRegressor  selected features by permutation   0.860101\n",
       "32    KNeighborsRegressor  selected features by permutation   0.886055\n",
       "38                  Ridge  selected features by permutation   0.832923\n",
       "44                  Lasso  selected features by permutation   0.832481\n",
       "50        VotingRegressor  selected features by permutation   0.817815"
      ]
     },
     "execution_count": 613,
     "metadata": {},
     "output_type": "execute_result"
    }
   ],
   "source": [
    "df[df['Data Type']=='selected features by permutation']"
   ]
  },
  {
   "cell_type": "code",
   "execution_count": 640,
   "metadata": {},
   "outputs": [
    {
     "name": "stdout",
     "output_type": "stream",
     "text": [
      "R-squared: 0.8443778930247915\n"
     ]
    },
    {
     "name": "stderr",
     "output_type": "stream",
     "text": [
      "c:\\Users\\ASUS\\anaconda3\\Lib\\site-packages\\sklearn\\neural_network\\_multilayer_perceptron.py:691: ConvergenceWarning: Stochastic Optimizer: Maximum iterations (1000) reached and the optimization hasn't converged yet.\n",
      "  warnings.warn(\n"
     ]
    }
   ],
   "source": [
    "voting_clf = VotingRegressor(\n",
    "    estimators=[ ('knn', model_KNN_selected_LinearRegression),\n",
    "                ('rf', model_RandomForest_selected_LinearRegression), ('mlp', model_MLP_selected_LinearRegression),\n",
    "                ])\n",
    "voting_clf.fit(X_train_selected_LinearRegression, y_train)\n",
    "y_pred = voting_clf.predict(X_test_selected_LinearRegression)\n",
    "r2 = r2_score(y_test, y_pred)\n",
    "print(f'R-squared: {r2}')"
   ]
  },
  {
   "cell_type": "code",
   "execution_count": 641,
   "metadata": {},
   "outputs": [],
   "source": [
    "comparison_table['Model Name'].append('VotingRegressor(knn-rf-mlp)')\n",
    "comparison_table['Data Type'].append('selected features by LinearRegression')\n",
    "comparison_table['R-squared'].append(r2)"
   ]
  },
  {
   "cell_type": "code",
   "execution_count": 614,
   "metadata": {},
   "outputs": [
    {
     "data": {
      "text/html": [
       "<div>\n",
       "<style scoped>\n",
       "    .dataframe tbody tr th:only-of-type {\n",
       "        vertical-align: middle;\n",
       "    }\n",
       "\n",
       "    .dataframe tbody tr th {\n",
       "        vertical-align: top;\n",
       "    }\n",
       "\n",
       "    .dataframe thead th {\n",
       "        text-align: right;\n",
       "    }\n",
       "</style>\n",
       "<table border=\"1\" class=\"dataframe\">\n",
       "  <thead>\n",
       "    <tr style=\"text-align: right;\">\n",
       "      <th></th>\n",
       "      <th>Model Name</th>\n",
       "      <th>Data Type</th>\n",
       "      <th>R-squared</th>\n",
       "    </tr>\n",
       "  </thead>\n",
       "  <tbody>\n",
       "    <tr>\n",
       "      <th>3</th>\n",
       "      <td>LinearRegression</td>\n",
       "      <td>selected features by percentile</td>\n",
       "      <td>0.856091</td>\n",
       "    </tr>\n",
       "    <tr>\n",
       "      <th>9</th>\n",
       "      <td>DecisionTreeRegressor</td>\n",
       "      <td>selected features by percentile</td>\n",
       "      <td>0.764627</td>\n",
       "    </tr>\n",
       "    <tr>\n",
       "      <th>15</th>\n",
       "      <td>RandomForestRegressor</td>\n",
       "      <td>selected features by percentile</td>\n",
       "      <td>0.887628</td>\n",
       "    </tr>\n",
       "    <tr>\n",
       "      <th>21</th>\n",
       "      <td>SVR</td>\n",
       "      <td>selected features by percentile</td>\n",
       "      <td>0.816286</td>\n",
       "    </tr>\n",
       "    <tr>\n",
       "      <th>27</th>\n",
       "      <td>MLPRegressor</td>\n",
       "      <td>selected features by percentile</td>\n",
       "      <td>0.871049</td>\n",
       "    </tr>\n",
       "    <tr>\n",
       "      <th>33</th>\n",
       "      <td>KNeighborsRegressor</td>\n",
       "      <td>selected features by percentile</td>\n",
       "      <td>0.877556</td>\n",
       "    </tr>\n",
       "    <tr>\n",
       "      <th>39</th>\n",
       "      <td>Ridge</td>\n",
       "      <td>selected features by percentile</td>\n",
       "      <td>0.855005</td>\n",
       "    </tr>\n",
       "    <tr>\n",
       "      <th>45</th>\n",
       "      <td>Lasso</td>\n",
       "      <td>selected features by percentile</td>\n",
       "      <td>0.854416</td>\n",
       "    </tr>\n",
       "    <tr>\n",
       "      <th>51</th>\n",
       "      <td>VotingRegressor</td>\n",
       "      <td>selected features by percentile</td>\n",
       "      <td>0.877803</td>\n",
       "    </tr>\n",
       "  </tbody>\n",
       "</table>\n",
       "</div>"
      ],
      "text/plain": [
       "               Model Name                        Data Type  R-squared\n",
       "3        LinearRegression  selected features by percentile   0.856091\n",
       "9   DecisionTreeRegressor  selected features by percentile   0.764627\n",
       "15  RandomForestRegressor  selected features by percentile   0.887628\n",
       "21                    SVR  selected features by percentile   0.816286\n",
       "27           MLPRegressor  selected features by percentile   0.871049\n",
       "33    KNeighborsRegressor  selected features by percentile   0.877556\n",
       "39                  Ridge  selected features by percentile   0.855005\n",
       "45                  Lasso  selected features by percentile   0.854416\n",
       "51        VotingRegressor  selected features by percentile   0.877803"
      ]
     },
     "execution_count": 614,
     "metadata": {},
     "output_type": "execute_result"
    }
   ],
   "source": [
    "df[df['Data Type']=='selected features by percentile']"
   ]
  },
  {
   "cell_type": "code",
   "execution_count": 642,
   "metadata": {},
   "outputs": [
    {
     "name": "stdout",
     "output_type": "stream",
     "text": [
      "R-squared: 0.8985247011181154\n"
     ]
    },
    {
     "name": "stderr",
     "output_type": "stream",
     "text": [
      "c:\\Users\\ASUS\\anaconda3\\Lib\\site-packages\\sklearn\\neural_network\\_multilayer_perceptron.py:691: ConvergenceWarning: Stochastic Optimizer: Maximum iterations (1000) reached and the optimization hasn't converged yet.\n",
      "  warnings.warn(\n"
     ]
    }
   ],
   "source": [
    "voting_clf = VotingRegressor(\n",
    "    estimators=[ ('knn', model_KNN_selected_permutation),\n",
    "                ('rf', model_RandomForest_selected_permutation), ('mlp', model_MLP_selected_permutation)\n",
    "                ])\n",
    "\n",
    "voting_clf.fit(X_train_selected_permutation, y_train)\n",
    "y_pred = voting_clf.predict(X_test_selected_permutation)\n",
    "r2 = r2_score(y_test, y_pred)\n",
    "print(f'R-squared: {r2}')"
   ]
  },
  {
   "cell_type": "code",
   "execution_count": 643,
   "metadata": {},
   "outputs": [],
   "source": [
    "comparison_table['Model Name'].append('VotingRegressor(knn-rf-mlp)')\n",
    "comparison_table['Data Type'].append('selected features by permutation')\n",
    "comparison_table['R-squared'].append(r2)"
   ]
  },
  {
   "cell_type": "code",
   "execution_count": 646,
   "metadata": {},
   "outputs": [
    {
     "data": {
      "text/html": [
       "<div>\n",
       "<style scoped>\n",
       "    .dataframe tbody tr th:only-of-type {\n",
       "        vertical-align: middle;\n",
       "    }\n",
       "\n",
       "    .dataframe tbody tr th {\n",
       "        vertical-align: top;\n",
       "    }\n",
       "\n",
       "    .dataframe thead th {\n",
       "        text-align: right;\n",
       "    }\n",
       "</style>\n",
       "<table border=\"1\" class=\"dataframe\">\n",
       "  <thead>\n",
       "    <tr style=\"text-align: right;\">\n",
       "      <th></th>\n",
       "      <th>Model Name</th>\n",
       "      <th>Data Type</th>\n",
       "      <th>R-squared</th>\n",
       "    </tr>\n",
       "  </thead>\n",
       "  <tbody>\n",
       "    <tr>\n",
       "      <th>4</th>\n",
       "      <td>LinearRegression</td>\n",
       "      <td>selected features by shap</td>\n",
       "      <td>0.833037</td>\n",
       "    </tr>\n",
       "    <tr>\n",
       "      <th>10</th>\n",
       "      <td>DecisionTreeRegressor</td>\n",
       "      <td>selected features by shap</td>\n",
       "      <td>0.783540</td>\n",
       "    </tr>\n",
       "    <tr>\n",
       "      <th>16</th>\n",
       "      <td>RandomForestRegressor</td>\n",
       "      <td>selected features by shap</td>\n",
       "      <td>0.896036</td>\n",
       "    </tr>\n",
       "    <tr>\n",
       "      <th>22</th>\n",
       "      <td>SVR</td>\n",
       "      <td>selected features by shap</td>\n",
       "      <td>0.783564</td>\n",
       "    </tr>\n",
       "    <tr>\n",
       "      <th>28</th>\n",
       "      <td>MLPRegressor</td>\n",
       "      <td>selected features by shap</td>\n",
       "      <td>0.875664</td>\n",
       "    </tr>\n",
       "    <tr>\n",
       "      <th>34</th>\n",
       "      <td>KNeighborsRegressor</td>\n",
       "      <td>selected features by shap</td>\n",
       "      <td>0.890137</td>\n",
       "    </tr>\n",
       "    <tr>\n",
       "      <th>40</th>\n",
       "      <td>Ridge</td>\n",
       "      <td>selected features by shap</td>\n",
       "      <td>0.832720</td>\n",
       "    </tr>\n",
       "    <tr>\n",
       "      <th>46</th>\n",
       "      <td>Lasso</td>\n",
       "      <td>selected features by shap</td>\n",
       "      <td>0.832190</td>\n",
       "    </tr>\n",
       "    <tr>\n",
       "      <th>52</th>\n",
       "      <td>VotingRegressor</td>\n",
       "      <td>selected features by shap</td>\n",
       "      <td>0.875097</td>\n",
       "    </tr>\n",
       "  </tbody>\n",
       "</table>\n",
       "</div>"
      ],
      "text/plain": [
       "               Model Name                  Data Type  R-squared\n",
       "4        LinearRegression  selected features by shap   0.833037\n",
       "10  DecisionTreeRegressor  selected features by shap   0.783540\n",
       "16  RandomForestRegressor  selected features by shap   0.896036\n",
       "22                    SVR  selected features by shap   0.783564\n",
       "28           MLPRegressor  selected features by shap   0.875664\n",
       "34    KNeighborsRegressor  selected features by shap   0.890137\n",
       "40                  Ridge  selected features by shap   0.832720\n",
       "46                  Lasso  selected features by shap   0.832190\n",
       "52        VotingRegressor  selected features by shap   0.875097"
      ]
     },
     "execution_count": 646,
     "metadata": {},
     "output_type": "execute_result"
    }
   ],
   "source": [
    "df[df['Data Type']=='selected features by shap']"
   ]
  },
  {
   "cell_type": "code",
   "execution_count": 649,
   "metadata": {},
   "outputs": [
    {
     "name": "stdout",
     "output_type": "stream",
     "text": [
      "R-squared: 0.9067318207134387\n"
     ]
    }
   ],
   "source": [
    "voting_clf = VotingRegressor(\n",
    "    estimators=[ ('knn', model_KNN_selected_shap),\n",
    "                ('rf', model_RandomForest_selected_shap),('mlp', model_MLP_selected_shap)\n",
    "                ])\n",
    "voting_clf.fit(X_train_selected_shap, y_train)\n",
    "y_pred = voting_clf.predict(X_test_selected_shap)\n",
    "r2 = r2_score(y_test, y_pred)\n",
    "print(f'R-squared: {r2}')"
   ]
  },
  {
   "cell_type": "code",
   "execution_count": 645,
   "metadata": {},
   "outputs": [],
   "source": [
    "comparison_table['Model Name'].append('VotingRegressor(knn-rf-mlp)')\n",
    "comparison_table['Data Type'].append('selected features by shap')\n",
    "comparison_table['R-squared'].append(r2)"
   ]
  },
  {
   "cell_type": "code",
   "execution_count": 647,
   "metadata": {},
   "outputs": [
    {
     "data": {
      "text/html": [
       "<div>\n",
       "<style scoped>\n",
       "    .dataframe tbody tr th:only-of-type {\n",
       "        vertical-align: middle;\n",
       "    }\n",
       "\n",
       "    .dataframe tbody tr th {\n",
       "        vertical-align: top;\n",
       "    }\n",
       "\n",
       "    .dataframe thead th {\n",
       "        text-align: right;\n",
       "    }\n",
       "</style>\n",
       "<table border=\"1\" class=\"dataframe\">\n",
       "  <thead>\n",
       "    <tr style=\"text-align: right;\">\n",
       "      <th></th>\n",
       "      <th>Model Name</th>\n",
       "      <th>Data Type</th>\n",
       "      <th>R-squared</th>\n",
       "    </tr>\n",
       "  </thead>\n",
       "  <tbody>\n",
       "    <tr>\n",
       "      <th>5</th>\n",
       "      <td>LinearRegression</td>\n",
       "      <td>selected features by random forest</td>\n",
       "      <td>0.834563</td>\n",
       "    </tr>\n",
       "    <tr>\n",
       "      <th>11</th>\n",
       "      <td>DecisionTreeRegressor</td>\n",
       "      <td>selected features by random forest</td>\n",
       "      <td>0.785894</td>\n",
       "    </tr>\n",
       "    <tr>\n",
       "      <th>17</th>\n",
       "      <td>RandomForestRegressor</td>\n",
       "      <td>selected features by random forest</td>\n",
       "      <td>0.890193</td>\n",
       "    </tr>\n",
       "    <tr>\n",
       "      <th>23</th>\n",
       "      <td>SVR</td>\n",
       "      <td>selected features by random forest</td>\n",
       "      <td>0.789938</td>\n",
       "    </tr>\n",
       "    <tr>\n",
       "      <th>29</th>\n",
       "      <td>MLPRegressor</td>\n",
       "      <td>selected features by random forest</td>\n",
       "      <td>0.861715</td>\n",
       "    </tr>\n",
       "    <tr>\n",
       "      <th>35</th>\n",
       "      <td>KNeighborsRegressor</td>\n",
       "      <td>selected features by random forest</td>\n",
       "      <td>0.886001</td>\n",
       "    </tr>\n",
       "    <tr>\n",
       "      <th>41</th>\n",
       "      <td>Ridge</td>\n",
       "      <td>selected features by random forest</td>\n",
       "      <td>0.833433</td>\n",
       "    </tr>\n",
       "    <tr>\n",
       "      <th>47</th>\n",
       "      <td>Lasso</td>\n",
       "      <td>selected features by random forest</td>\n",
       "      <td>0.833158</td>\n",
       "    </tr>\n",
       "    <tr>\n",
       "      <th>53</th>\n",
       "      <td>VotingRegressor</td>\n",
       "      <td>selected features by random forest</td>\n",
       "      <td>0.874055</td>\n",
       "    </tr>\n",
       "  </tbody>\n",
       "</table>\n",
       "</div>"
      ],
      "text/plain": [
       "               Model Name                           Data Type  R-squared\n",
       "5        LinearRegression  selected features by random forest   0.834563\n",
       "11  DecisionTreeRegressor  selected features by random forest   0.785894\n",
       "17  RandomForestRegressor  selected features by random forest   0.890193\n",
       "23                    SVR  selected features by random forest   0.789938\n",
       "29           MLPRegressor  selected features by random forest   0.861715\n",
       "35    KNeighborsRegressor  selected features by random forest   0.886001\n",
       "41                  Ridge  selected features by random forest   0.833433\n",
       "47                  Lasso  selected features by random forest   0.833158\n",
       "53        VotingRegressor  selected features by random forest   0.874055"
      ]
     },
     "execution_count": 647,
     "metadata": {},
     "output_type": "execute_result"
    }
   ],
   "source": [
    "df[df['Data Type']=='selected features by random forest'] "
   ]
  },
  {
   "cell_type": "code",
   "execution_count": 650,
   "metadata": {},
   "outputs": [
    {
     "name": "stdout",
     "output_type": "stream",
     "text": [
      "R-squared: 0.9113133356758893\n"
     ]
    }
   ],
   "source": [
    "voting_clf = VotingRegressor(\n",
    "    estimators=[ ('knn', model_KNN_selected_tree_based),\n",
    "                ('rf', model_RandomForest_selected_tree_based),('mlp', model_MLP_selected_tree_based)\n",
    "                ])\n",
    "voting_clf.fit(X_train_selected_tree_based, y_train)\n",
    "y_pred = voting_clf.predict(X_test_selected_tree_based)\n",
    "r2 = r2_score(y_test, y_pred)\n",
    "print(f'R-squared: {r2}')"
   ]
  },
  {
   "cell_type": "code",
   "execution_count": 651,
   "metadata": {},
   "outputs": [],
   "source": [
    "comparison_table['Model Name'].append('VotingRegressor(knn-rf-mlp)')\n",
    "comparison_table['Data Type'].append('selected features by tree_based')\n",
    "comparison_table['R-squared'].append(r2)"
   ]
  },
  {
   "cell_type": "code",
   "execution_count": 655,
   "metadata": {},
   "outputs": [],
   "source": [
    "df = pd.DataFrame(comparison_table)"
   ]
  },
  {
   "cell_type": "code",
   "execution_count": 657,
   "metadata": {},
   "outputs": [
    {
     "data": {
      "text/html": [
       "<div>\n",
       "<style scoped>\n",
       "    .dataframe tbody tr th:only-of-type {\n",
       "        vertical-align: middle;\n",
       "    }\n",
       "\n",
       "    .dataframe tbody tr th {\n",
       "        vertical-align: top;\n",
       "    }\n",
       "\n",
       "    .dataframe thead th {\n",
       "        text-align: right;\n",
       "    }\n",
       "</style>\n",
       "<table border=\"1\" class=\"dataframe\">\n",
       "  <thead>\n",
       "    <tr style=\"text-align: right;\">\n",
       "      <th></th>\n",
       "      <th>Model Name</th>\n",
       "      <th>Data Type</th>\n",
       "      <th>R-squared</th>\n",
       "    </tr>\n",
       "  </thead>\n",
       "  <tbody>\n",
       "    <tr>\n",
       "      <th>0</th>\n",
       "      <td>LinearRegression</td>\n",
       "      <td>Normal Data</td>\n",
       "      <td>0.864062</td>\n",
       "    </tr>\n",
       "    <tr>\n",
       "      <th>1</th>\n",
       "      <td>LinearRegression</td>\n",
       "      <td>selected features by LinearRegression</td>\n",
       "      <td>0.788678</td>\n",
       "    </tr>\n",
       "    <tr>\n",
       "      <th>2</th>\n",
       "      <td>LinearRegression</td>\n",
       "      <td>selected features by permutation</td>\n",
       "      <td>0.834004</td>\n",
       "    </tr>\n",
       "    <tr>\n",
       "      <th>3</th>\n",
       "      <td>LinearRegression</td>\n",
       "      <td>selected features by percentile</td>\n",
       "      <td>0.856091</td>\n",
       "    </tr>\n",
       "    <tr>\n",
       "      <th>4</th>\n",
       "      <td>LinearRegression</td>\n",
       "      <td>selected features by shap</td>\n",
       "      <td>0.833037</td>\n",
       "    </tr>\n",
       "    <tr>\n",
       "      <th>...</th>\n",
       "      <td>...</td>\n",
       "      <td>...</td>\n",
       "      <td>...</td>\n",
       "    </tr>\n",
       "    <tr>\n",
       "      <th>58</th>\n",
       "      <td>VotingRegressor(knn-rf-mlp)</td>\n",
       "      <td>selected features by percentile</td>\n",
       "      <td>0.898131</td>\n",
       "    </tr>\n",
       "    <tr>\n",
       "      <th>59</th>\n",
       "      <td>VotingRegressor(knn-rf-mlp)</td>\n",
       "      <td>selected features by LinearRegression</td>\n",
       "      <td>0.844378</td>\n",
       "    </tr>\n",
       "    <tr>\n",
       "      <th>60</th>\n",
       "      <td>VotingRegressor(knn-rf-mlp)</td>\n",
       "      <td>selected features by permutation</td>\n",
       "      <td>0.898525</td>\n",
       "    </tr>\n",
       "    <tr>\n",
       "      <th>61</th>\n",
       "      <td>VotingRegressor(knn-rf-mlp)</td>\n",
       "      <td>selected features by shap</td>\n",
       "      <td>0.907882</td>\n",
       "    </tr>\n",
       "    <tr>\n",
       "      <th>62</th>\n",
       "      <td>VotingRegressor(knn-rf-mlp)</td>\n",
       "      <td>selected features by tree_based</td>\n",
       "      <td>0.911313</td>\n",
       "    </tr>\n",
       "  </tbody>\n",
       "</table>\n",
       "<p>63 rows × 3 columns</p>\n",
       "</div>"
      ],
      "text/plain": [
       "                     Model Name                              Data Type  \\\n",
       "0              LinearRegression                            Normal Data   \n",
       "1              LinearRegression  selected features by LinearRegression   \n",
       "2              LinearRegression       selected features by permutation   \n",
       "3              LinearRegression        selected features by percentile   \n",
       "4              LinearRegression              selected features by shap   \n",
       "..                          ...                                    ...   \n",
       "58  VotingRegressor(knn-rf-mlp)        selected features by percentile   \n",
       "59  VotingRegressor(knn-rf-mlp)  selected features by LinearRegression   \n",
       "60  VotingRegressor(knn-rf-mlp)       selected features by permutation   \n",
       "61  VotingRegressor(knn-rf-mlp)              selected features by shap   \n",
       "62  VotingRegressor(knn-rf-mlp)        selected features by tree_based   \n",
       "\n",
       "    R-squared  \n",
       "0    0.864062  \n",
       "1    0.788678  \n",
       "2    0.834004  \n",
       "3    0.856091  \n",
       "4    0.833037  \n",
       "..        ...  \n",
       "58   0.898131  \n",
       "59   0.844378  \n",
       "60   0.898525  \n",
       "61   0.907882  \n",
       "62   0.911313  \n",
       "\n",
       "[63 rows x 3 columns]"
      ]
     },
     "execution_count": 657,
     "metadata": {},
     "output_type": "execute_result"
    }
   ],
   "source": [
    "df"
   ]
  },
  {
   "cell_type": "code",
   "execution_count": 653,
   "metadata": {},
   "outputs": [
    {
     "data": {
      "text/plain": [
       "['model/best_model_ever.keras']"
      ]
     },
     "execution_count": 653,
     "metadata": {},
     "output_type": "execute_result"
    }
   ],
   "source": [
    "joblib.dump(voting_clf,best_model_ever)"
   ]
  },
  {
   "cell_type": "code",
   "execution_count": 654,
   "metadata": {},
   "outputs": [],
   "source": [
    "loaded_model = joblib.load(best_model_ever)"
   ]
  },
  {
   "cell_type": "code",
   "execution_count": 656,
   "metadata": {},
   "outputs": [
    {
     "data": {
      "text/html": [
       "<style>#sk-container-id-32 {color: black;}#sk-container-id-32 pre{padding: 0;}#sk-container-id-32 div.sk-toggleable {background-color: white;}#sk-container-id-32 label.sk-toggleable__label {cursor: pointer;display: block;width: 100%;margin-bottom: 0;padding: 0.3em;box-sizing: border-box;text-align: center;}#sk-container-id-32 label.sk-toggleable__label-arrow:before {content: \"▸\";float: left;margin-right: 0.25em;color: #696969;}#sk-container-id-32 label.sk-toggleable__label-arrow:hover:before {color: black;}#sk-container-id-32 div.sk-estimator:hover label.sk-toggleable__label-arrow:before {color: black;}#sk-container-id-32 div.sk-toggleable__content {max-height: 0;max-width: 0;overflow: hidden;text-align: left;background-color: #f0f8ff;}#sk-container-id-32 div.sk-toggleable__content pre {margin: 0.2em;color: black;border-radius: 0.25em;background-color: #f0f8ff;}#sk-container-id-32 input.sk-toggleable__control:checked~div.sk-toggleable__content {max-height: 200px;max-width: 100%;overflow: auto;}#sk-container-id-32 input.sk-toggleable__control:checked~label.sk-toggleable__label-arrow:before {content: \"▾\";}#sk-container-id-32 div.sk-estimator input.sk-toggleable__control:checked~label.sk-toggleable__label {background-color: #d4ebff;}#sk-container-id-32 div.sk-label input.sk-toggleable__control:checked~label.sk-toggleable__label {background-color: #d4ebff;}#sk-container-id-32 input.sk-hidden--visually {border: 0;clip: rect(1px 1px 1px 1px);clip: rect(1px, 1px, 1px, 1px);height: 1px;margin: -1px;overflow: hidden;padding: 0;position: absolute;width: 1px;}#sk-container-id-32 div.sk-estimator {font-family: monospace;background-color: #f0f8ff;border: 1px dotted black;border-radius: 0.25em;box-sizing: border-box;margin-bottom: 0.5em;}#sk-container-id-32 div.sk-estimator:hover {background-color: #d4ebff;}#sk-container-id-32 div.sk-parallel-item::after {content: \"\";width: 100%;border-bottom: 1px solid gray;flex-grow: 1;}#sk-container-id-32 div.sk-label:hover label.sk-toggleable__label {background-color: #d4ebff;}#sk-container-id-32 div.sk-serial::before {content: \"\";position: absolute;border-left: 1px solid gray;box-sizing: border-box;top: 0;bottom: 0;left: 50%;z-index: 0;}#sk-container-id-32 div.sk-serial {display: flex;flex-direction: column;align-items: center;background-color: white;padding-right: 0.2em;padding-left: 0.2em;position: relative;}#sk-container-id-32 div.sk-item {position: relative;z-index: 1;}#sk-container-id-32 div.sk-parallel {display: flex;align-items: stretch;justify-content: center;background-color: white;position: relative;}#sk-container-id-32 div.sk-item::before, #sk-container-id-32 div.sk-parallel-item::before {content: \"\";position: absolute;border-left: 1px solid gray;box-sizing: border-box;top: 0;bottom: 0;left: 50%;z-index: -1;}#sk-container-id-32 div.sk-parallel-item {display: flex;flex-direction: column;z-index: 1;position: relative;background-color: white;}#sk-container-id-32 div.sk-parallel-item:first-child::after {align-self: flex-end;width: 50%;}#sk-container-id-32 div.sk-parallel-item:last-child::after {align-self: flex-start;width: 50%;}#sk-container-id-32 div.sk-parallel-item:only-child::after {width: 0;}#sk-container-id-32 div.sk-dashed-wrapped {border: 1px dashed gray;margin: 0 0.4em 0.5em 0.4em;box-sizing: border-box;padding-bottom: 0.4em;background-color: white;}#sk-container-id-32 div.sk-label label {font-family: monospace;font-weight: bold;display: inline-block;line-height: 1.2em;}#sk-container-id-32 div.sk-label-container {text-align: center;}#sk-container-id-32 div.sk-container {/* jupyter's `normalize.less` sets `[hidden] { display: none; }` but bootstrap.min.css set `[hidden] { display: none !important; }` so we also need the `!important` here to be able to override the default hidden behavior on the sphinx rendered scikit-learn.org. See: https://github.com/scikit-learn/scikit-learn/issues/21755 */display: inline-block !important;position: relative;}#sk-container-id-32 div.sk-text-repr-fallback {display: none;}</style><div id=\"sk-container-id-32\" class=\"sk-top-container\"><div class=\"sk-text-repr-fallback\"><pre>VotingRegressor(estimators=[(&#x27;knn&#x27;,\n",
       "                             KNeighborsRegressor(metric=&#x27;manhattan&#x27;,\n",
       "                                                 n_neighbors=3,\n",
       "                                                 weights=&#x27;distance&#x27;)),\n",
       "                            (&#x27;rf&#x27;,\n",
       "                             RandomForestRegressor(max_depth=10,\n",
       "                                                   n_estimators=200)),\n",
       "                            (&#x27;mlp&#x27;,\n",
       "                             MLPRegressor(alpha=0.05,\n",
       "                                          hidden_layer_sizes=(50, 100, 50),\n",
       "                                          learning_rate=&#x27;adaptive&#x27;,\n",
       "                                          max_iter=10000))])</pre><b>In a Jupyter environment, please rerun this cell to show the HTML representation or trust the notebook. <br />On GitHub, the HTML representation is unable to render, please try loading this page with nbviewer.org.</b></div><div class=\"sk-container\" hidden><div class=\"sk-item sk-dashed-wrapped\"><div class=\"sk-label-container\"><div class=\"sk-label sk-toggleable\"><input class=\"sk-toggleable__control sk-hidden--visually\" id=\"sk-estimator-id-272\" type=\"checkbox\" ><label for=\"sk-estimator-id-272\" class=\"sk-toggleable__label sk-toggleable__label-arrow\">VotingRegressor</label><div class=\"sk-toggleable__content\"><pre>VotingRegressor(estimators=[(&#x27;knn&#x27;,\n",
       "                             KNeighborsRegressor(metric=&#x27;manhattan&#x27;,\n",
       "                                                 n_neighbors=3,\n",
       "                                                 weights=&#x27;distance&#x27;)),\n",
       "                            (&#x27;rf&#x27;,\n",
       "                             RandomForestRegressor(max_depth=10,\n",
       "                                                   n_estimators=200)),\n",
       "                            (&#x27;mlp&#x27;,\n",
       "                             MLPRegressor(alpha=0.05,\n",
       "                                          hidden_layer_sizes=(50, 100, 50),\n",
       "                                          learning_rate=&#x27;adaptive&#x27;,\n",
       "                                          max_iter=10000))])</pre></div></div></div><div class=\"sk-parallel\"><div class=\"sk-parallel-item\"><div class=\"sk-item\"><div class=\"sk-label-container\"><div class=\"sk-label sk-toggleable\"><label>knn</label></div></div><div class=\"sk-serial\"><div class=\"sk-item\"><div class=\"sk-estimator sk-toggleable\"><input class=\"sk-toggleable__control sk-hidden--visually\" id=\"sk-estimator-id-273\" type=\"checkbox\" ><label for=\"sk-estimator-id-273\" class=\"sk-toggleable__label sk-toggleable__label-arrow\">KNeighborsRegressor</label><div class=\"sk-toggleable__content\"><pre>KNeighborsRegressor(metric=&#x27;manhattan&#x27;, n_neighbors=3, weights=&#x27;distance&#x27;)</pre></div></div></div></div></div></div><div class=\"sk-parallel-item\"><div class=\"sk-item\"><div class=\"sk-label-container\"><div class=\"sk-label sk-toggleable\"><label>rf</label></div></div><div class=\"sk-serial\"><div class=\"sk-item\"><div class=\"sk-estimator sk-toggleable\"><input class=\"sk-toggleable__control sk-hidden--visually\" id=\"sk-estimator-id-274\" type=\"checkbox\" ><label for=\"sk-estimator-id-274\" class=\"sk-toggleable__label sk-toggleable__label-arrow\">RandomForestRegressor</label><div class=\"sk-toggleable__content\"><pre>RandomForestRegressor(max_depth=10, n_estimators=200)</pre></div></div></div></div></div></div><div class=\"sk-parallel-item\"><div class=\"sk-item\"><div class=\"sk-label-container\"><div class=\"sk-label sk-toggleable\"><label>mlp</label></div></div><div class=\"sk-serial\"><div class=\"sk-item\"><div class=\"sk-estimator sk-toggleable\"><input class=\"sk-toggleable__control sk-hidden--visually\" id=\"sk-estimator-id-275\" type=\"checkbox\" ><label for=\"sk-estimator-id-275\" class=\"sk-toggleable__label sk-toggleable__label-arrow\">MLPRegressor</label><div class=\"sk-toggleable__content\"><pre>MLPRegressor(alpha=0.05, hidden_layer_sizes=(50, 100, 50),\n",
       "             learning_rate=&#x27;adaptive&#x27;, max_iter=10000)</pre></div></div></div></div></div></div></div></div></div></div>"
      ],
      "text/plain": [
       "VotingRegressor(estimators=[('knn',\n",
       "                             KNeighborsRegressor(metric='manhattan',\n",
       "                                                 n_neighbors=3,\n",
       "                                                 weights='distance')),\n",
       "                            ('rf',\n",
       "                             RandomForestRegressor(max_depth=10,\n",
       "                                                   n_estimators=200)),\n",
       "                            ('mlp',\n",
       "                             MLPRegressor(alpha=0.05,\n",
       "                                          hidden_layer_sizes=(50, 100, 50),\n",
       "                                          learning_rate='adaptive',\n",
       "                                          max_iter=10000))])"
      ]
     },
     "execution_count": 656,
     "metadata": {},
     "output_type": "execute_result"
    }
   ],
   "source": [
    "loaded_model.fit(X,y)"
   ]
  },
  {
   "cell_type": "code",
   "execution_count": null,
   "metadata": {},
   "outputs": [],
   "source": []
  }
 ],
 "metadata": {
  "kernelspec": {
   "display_name": "Python 3",
   "language": "python",
   "name": "python3"
  },
  "language_info": {
   "codemirror_mode": {
    "name": "ipython",
    "version": 3
   },
   "file_extension": ".py",
   "mimetype": "text/x-python",
   "name": "python",
   "nbconvert_exporter": "python",
   "pygments_lexer": "ipython3",
   "version": "3.11.5"
  }
 },
 "nbformat": 4,
 "nbformat_minor": 2
}
