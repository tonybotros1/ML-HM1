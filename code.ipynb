{
 "cells": [
  {
   "cell_type": "markdown",
   "metadata": {},
   "source": [
    "# Imports"
   ]
  },
  {
   "cell_type": "code",
   "execution_count": 11,
   "metadata": {},
   "outputs": [],
   "source": [
    "# تحميل المكتبات اللازمة\n",
    "import pandas as pd\n",
    "import numpy as np\n",
    "from sklearn.model_selection import train_test_split, GridSearchCV, cross_val_score\n",
    "from sklearn.preprocessing import StandardScaler, OneHotEncoder\n",
    "from sklearn.compose import ColumnTransformer\n",
    "from sklearn.pipeline import Pipeline\n",
    "from sklearn.ensemble import RandomForestRegressor\n",
    "from sklearn.impute import SimpleImputer\n",
    "import joblib\n",
    "from sklearn.metrics import r2_score\n",
    "\n"
   ]
  },
  {
   "cell_type": "markdown",
   "metadata": {},
   "source": [
    "تنبؤ العقارات (تنبؤ OutcomeVariable)\n",
    "\n",
    "فيما يلي وصف لكل عمود:\n",
    "\n",
    "# المعلومات العامة\n",
    "\n",
    "### OutcomeVariable: المقياس الأساسي الذي نهدف إلى التنبؤ به أو تحليله لكل عنصر في مجموعة البيانات.\n",
    "### BuildingCategory: رمز رقمي يصنف النوع الهيكلي العام للعنصر.\n",
    "### ZoningClassification: فئة الاستخدام المحددة للمنطقة التي يقع فيها العنصر.\n",
    "### StreetLineLength: طول واجهة العنصر على الشارع بوحدات خطية.\n",
    "### ParcelSize: المساحة الإجمالية للأرض المرتبطة بالعنصر، مقاسة بوحدات مربعة.\n",
    "### RoadAccessType: نوع الطريق الذي يوفر الوصول إلى موقع العنصر.\n",
    "### AlleyAccessType: نوع الوصول إلى الزقاق المتاح لموقع العنصر (إن وجد).\n",
    "### ParcelShape: الشكل الهندسي العام لقطعة الأرض.\n",
    "### TerrainFlatness: وصف لمستوى الأرض أو انحدارها.\n",
    "### UtilityAvailability: أنواع خدمات المرافق المتاحة في موقع العنصر.\n",
    "### ParcelSettings: تكوينات أو ميزات محددة لقطعة الأرض.\n",
    "### TerrainSlope: درجة ميل الأرض.\n",
    "### District: المناطق الجغرافية الفرعية أو المناطق داخل منطقة أكبر.\n",
    "### RoadProximity1: يشير إلى قرب العنصر من طريق رئيسي أو مسار نقل.\n",
    "### RoadProximity2: يشير إلى قرب العنصر من طريق رئيسي ثانٍ أو مسار، إن وجد.\n",
    "\n",
    "# خصائص العنصر\n",
    "\n",
    "### DwellingType: التصنيف المعماري المحدد للهيكل.\n",
    "### DwellingStyle: النمط المعماري للهيكل.\n",
    "### MaterialQuality: تصنيف الجودة العامة للمواد المستخدمة في بناء العنصر.\n",
    "### ConditionRating: تقييم عام لحالة العنصر الحالية من حيث الصيانة والإصلاح.\n",
    "### ConstructionYear: السنة التي بُني فيها العنصر أصلاً.\n",
    "### RenovationYear: السنة التي شهد فيها العنصر تجديدًا كبيرًا أو إضافة.\n",
    "### RoofType: نمط أو تصميم السقف.\n",
    "### RoofMaterial: المادة الأساسية المستخدمة في بناء السقف.\n",
    "### ExteriorCladding1: المادة الرئيسية التي تغطي الجزء الخارجي للعنصر.\n",
    "### ExteriorCladding2: مادة تغطية خارجية ثانوية، إن وجدت.\n",
    "### MasonryType: نوع العمل الزخرفي بالطوب المستخدم في الجزء الخارجي للعنصر.\n",
    "### MasonrySize: المساحة المغطاة بالطوب، مقاسة بوحدات مربعة.\n",
    "### ExteriorQuality: جودة المواد المستخدمة في تغطية الجزء الخارجي.\n",
    "### ExteriorCondition: الحالة الحالية للكسوة الخارجية.\n",
    "### FoundationType: نوع الأساس الذي يدعم هيكل العنصر.\n",
    "\n",
    "# الميزات الداخلية\n",
    "\n",
    "### BasementHeight: تصنيف ارتفاع القبو بالنسبة لمستوى الأرض.\n",
    "### BasementCondition: الحالة العامة لمساحة القبو.\n",
    "### BasementAccess: يصف ما إذا كان للقبو وصول مشاة أو عند مستوى الحديقة.\n",
    "### BasementFinish1: جودة التشطيب في المنطقة الرئيسية المنتهية من القبو.\n",
    "### BasementFinishedArea1: مساحة المنطقة الرئيسية المنتهية في القبو، مقاسة بوحدات مربعة.\n",
    "### BasementFinish2: جودة التشطيب في منطقة ثانية منتهية في القبو (إن وجدت).\n",
    "### BasementFinishedArea2: مساحة منطقة ثانية منتهية في القبو، مقاسة بوحدات مربعة.\n",
    "### BasementUnfinishedArea: مساحة الجزء غير المنتهي من القبو، مقاسة بوحدات مربعة.\n",
    "### TotalBasementArea: المساحة الإجمالية للقبو، بما في ذلك المناطق المنتهية وغير المنتهية، مقاسة بوحدات مربعة.\n",
    "### HeatingType: النظام المستخدم لتدفئة العنصر.\n",
    "### HeatingQuality: جودة وحالة نظام التدفئة.\n",
    "### AirConditioning: يشير إلى ما إذا كان العنصر يحتوي على تكييف مركزي.\n",
    "### ElectricalSystem: نوع النظام الكهربائي المثبت.\n",
    "### GroundFloorArea: مساحة الطابق الأرضي، مقاسة بوحدات مربعة.\n",
    "### UpperFloorArea: مساحة الطابق العلوي(الطوابق)، مقاسة بوحدات مربعة.\n",
    "### LowQualityArea: مساحة العنصر المنتهية بمعايير أقل، مقاسة بوحدات مربعة.\n",
    "### LivingArea: المساحة الإجمالية للمعيشة فوق مستوى الأرض، مقاسة بوحدات مربعة.\n",
    "### BasementFullBathrooms: عدد الحمامات الكاملة في القبو.\n",
    "### BasementHalfBathrooms: عدد الحمامات النصفية في القبو.\n",
    "### FullBathrooms: عدد الحمامات الكاملة فوق مستوى الأرض.\n",
    "### HalfBathrooms: عدد الحمامات النصفية فوق مستوى الأرض.\n",
    "### Bedrooms: عدد غرف النوم في العنصر.\n",
    "### Kitchens: عدد المطابخ في العنصر.\n",
    "### KitchenQuality: جودة تشطيبات وتركيبات المطبخ.\n",
    "### TotalRooms: العدد الإجمالي للغرف فوق مستوى الأرض، باستثناء الحمامات.\n",
    "### FunctionalityRating: تصنيف الوظائف العامة وتخطيط العنصر.\n",
    "### FireplaceCount: عدد المواقد في العنصر.\n",
    "### FireplaceQuality: جودة الموقد (المواقد).\n",
    "\n",
    "# الميزات الإضافية\n",
    "\n",
    "### GarageLocation: موقع المرآب بالنسبة للعنصر.\n",
    "### GarageConstructionYear: السنة التي بُني فيها المرآب.\n",
    "### GarageInterior: التشطيب الداخلي للمرآب.\n",
    "### GarageCapacity: عدد المركبات التي يمكن أن يستوعبها المرآب.\n",
    "### GarageSize: مساحة المرآب، مقاسة بوحدات مربعة.\n",
    "### GarageQuality: جودة بناء المرآب.\n",
    "### GarageCondition: الحالة الحالية للمرآب.\n",
    "### DrivewayType: يشير إلى ما إذا كان الممر مرصوفًا.\n",
    "### WoodDeckArea: مساحة سطح الخشب، مقاسة بوحدات مربعة.\n",
    "### OpenPorchArea: مساحة الشرفة المفتوحة، مقاسة بوحدات مربعة.\n",
    "### EnclosedPorchArea: مساحة الشرفة المغلقة، مقاسة بوحدات مربعة.\n",
    "### ThreeSeasonPorchArea: مساحة الشرفة التي تستخدم لثلاثة فصول، مقاسة بوحدات مربعة.\n",
    "### ScreenPorchArea: مساحة الشرفة المسورة، مقاسة بوحدات مربعة.\n",
    "### PoolSize: مساحة المسبح، مقاسة بوحدات مربعة.\n",
    "### PoolQuality: جودة المسبح.\n",
    "### FenceQuality: جودة السور.\n",
    "### AdditionalFeature: ميزة إضافية غير مغطاة في الفئات الأخرى.\n",
    "### AdditionalFeatureValue: القيمة المالية للميزة الإضافية.\n",
    "\n",
    "# معلومات البيع\n",
    "\n",
    "### SaleMonth: الشهر الذي تم فيه بيع العنصر.\n",
    "### SaleYear: السنة التي تم فيها بيع العنصر.\n",
    "### SaleType: طريقة أو نوع عملية البيع.\n",
    "### SaleCondition: حالة البيع."
   ]
  },
  {
   "cell_type": "code",
   "execution_count": 2,
   "metadata": {},
   "outputs": [],
   "source": [
    "train = pd.read_csv('train.csv')"
   ]
  },
  {
   "cell_type": "code",
   "execution_count": null,
   "metadata": {},
   "outputs": [],
   "source": [
    "train"
   ]
  },
  {
   "cell_type": "code",
   "execution_count": 6,
   "metadata": {},
   "outputs": [
    {
     "data": {
      "text/plain": [
       "Id                        0\n",
       "BuildingCategory          0\n",
       "ZoningClassification      0\n",
       "StreetLineLength        259\n",
       "ParcelSize                0\n",
       "                       ... \n",
       "SaleMonth                 0\n",
       "SaleYear                  0\n",
       "SaleType                  0\n",
       "SaleCondition             0\n",
       "OutcomeVariable           0\n",
       "Length: 81, dtype: int64"
      ]
     },
     "execution_count": 6,
     "metadata": {},
     "output_type": "execute_result"
    }
   ],
   "source": [
    "q=train.isnull().sum()\n",
    "q"
   ]
  },
  {
   "cell_type": "code",
   "execution_count": 7,
   "metadata": {},
   "outputs": [
    {
     "data": {
      "text/plain": [
       "StreetLineLength           259\n",
       "AlleyAccessType           1369\n",
       "MasonryType                872\n",
       "MasonrySize                  8\n",
       "BasementHeight              37\n",
       "BasementCondition           37\n",
       "BasementAccess              38\n",
       "BasementFinish1             37\n",
       "BasementFinish2             38\n",
       "ElectricalSystem             1\n",
       "FireplaceQuality           690\n",
       "GarageLocation              81\n",
       "GarageConstructionYear      81\n",
       "GarageInterior              81\n",
       "GarageQuality               81\n",
       "GarageCondition             81\n",
       "PoolQuality               1453\n",
       "FenceQuality              1179\n",
       "AdditionalFeature         1406\n",
       "dtype: int64"
      ]
     },
     "execution_count": 7,
     "metadata": {},
     "output_type": "execute_result"
    }
   ],
   "source": [
    "q[q!=0]"
   ]
  },
  {
   "cell_type": "code",
   "execution_count": 10,
   "metadata": {},
   "outputs": [
    {
     "name": "stdout",
     "output_type": "stream",
     "text": [
      "R2 Score: 0.8842280142170962\n",
      "Final pipeline steps: Pipeline(steps=[('preprocessor',\n",
      "                 ColumnTransformer(transformers=[('num',\n",
      "                                                  Pipeline(steps=[('imputer',\n",
      "                                                                   SimpleImputer(strategy='median')),\n",
      "                                                                  ('scaler',\n",
      "                                                                   StandardScaler())]),\n",
      "                                                  Index(['Id', 'BuildingCategory', 'StreetLineLength', 'ParcelSize',\n",
      "       'MaterialQuality', 'ConditionRating', 'ConstructionYear',\n",
      "       'RenovationYear', 'MasonrySize', 'BasementFinishedArea1',\n",
      "       'BasementFinish...\n",
      "       'BasementFinish1', 'BasementFinish2', 'HeatingType', 'HeatingQuality',\n",
      "       'AirConditioning', 'ElectricalSystem', 'KitchenQuality',\n",
      "       'FunctionalityRating', 'FireplaceQuality', 'GarageLocation',\n",
      "       'GarageInterior', 'GarageQuality', 'GarageCondition', 'DrivewayType',\n",
      "       'PoolQuality', 'FenceQuality', 'AdditionalFeature', 'SaleType',\n",
      "       'SaleCondition'],\n",
      "      dtype='object'))])),\n",
      "                ('regressor',\n",
      "                 RandomForestRegressor(max_depth=20, min_samples_split=5))])\n"
     ]
    }
   ],
   "source": [
    "# قراءة البيانات\n",
    "data = pd.read_csv('train.csv')\n",
    "\n",
    "# فصل البيانات إلى ميزات ومتغير الهدف\n",
    "X = data.drop('OutcomeVariable', axis=1)\n",
    "y = data['OutcomeVariable']\n",
    "\n",
    "# تحديد الميزات العددية والكيفية\n",
    "numeric_features = X.select_dtypes(include=['int64', 'float64']).columns\n",
    "categorical_features = X.select_dtypes(include=['object']).columns\n",
    "\n",
    "# إنشاء المحول للميزات العددية والكيفية مع معالجة القيم الفارغة\n",
    "numeric_transformer = Pipeline(steps=[\n",
    "    ('imputer', SimpleImputer(strategy='median')),\n",
    "    ('scaler', StandardScaler())])\n",
    "\n",
    "categorical_transformer = Pipeline(steps=[\n",
    "    ('imputer', SimpleImputer(strategy='constant', fill_value='None')),\n",
    "    ('onehot', OneHotEncoder(handle_unknown='ignore'))])\n",
    "\n",
    "preprocessor = ColumnTransformer(\n",
    "    transformers=[\n",
    "        ('num', numeric_transformer, numeric_features),\n",
    "        ('cat', categorical_transformer, categorical_features)\n",
    "    ])\n",
    "\n",
    "# إنشاء بايبلاين يتضمن المعالجة الأولية والنموذج\n",
    "pipeline = Pipeline(steps=[\n",
    "    ('preprocessor', preprocessor),\n",
    "    ('regressor', RandomForestRegressor())\n",
    "])\n",
    "\n",
    "# ضبط الهايبر باراميترز باستخدام GridSearchCV\n",
    "param_grid = {\n",
    "    'regressor__n_estimators': [100, 200],\n",
    "    'regressor__max_depth': [None, 10, 20],\n",
    "    'regressor__min_samples_split': [2, 5, 10]\n",
    "}\n",
    "\n",
    "grid_search = GridSearchCV(pipeline, param_grid, cv=5, n_jobs=-1, scoring='r2')\n",
    "\n"
   ]
  },
  {
   "cell_type": "code",
   "execution_count": null,
   "metadata": {},
   "outputs": [],
   "source": [
    "# grid_search.fit(X_train, y_train)\n",
    "\n",
    "# # التنبؤ على مجموعة الاختبار\n",
    "# y_pred = grid_search.predict(X_test)\n",
    "\n",
    "# # حساب R-score\n",
    "# r2 = r2_score(y_test, y_pred)\n",
    "# print(f'R2 Score: {r2}')\n",
    "\n",
    "# # حفظ النموذج المدرب\n",
    "# joblib.dump(grid_search.best_estimator_, 'best_model.pkl')\n",
    "\n",
    "# # وصف البايبلاين النهائي\n",
    "# final_pipeline = grid_search.best_estimator_\n",
    "# print(f\"Final pipeline steps: {final_pipeline}\")"
   ]
  }
 ],
 "metadata": {
  "kernelspec": {
   "display_name": "Python 3",
   "language": "python",
   "name": "python3"
  },
  "language_info": {
   "codemirror_mode": {
    "name": "ipython",
    "version": 3
   },
   "file_extension": ".py",
   "mimetype": "text/x-python",
   "name": "python",
   "nbconvert_exporter": "python",
   "pygments_lexer": "ipython3",
   "version": "3.11.5"
  }
 },
 "nbformat": 4,
 "nbformat_minor": 2
}
