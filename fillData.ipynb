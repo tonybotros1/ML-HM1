{
 "cells": [
  {
   "cell_type": "markdown",
   "metadata": {},
   "source": [
    "### General Information\n",
    "\n",
    "| **Label**             | **Description**                                                                                        |\n",
    "|-----------------------|--------------------------------------------------------------------------------------------------------|\n",
    "| OutcomeVariable       | The primary metric we aim to predict or analyze for each item in the dataset.                          |\n",
    "| BuildingCategory      | A numerical code categorizing the broad structural type of the item.                                   |\n",
    "| ZoningClassification  | The designated usage category for the area where the item is located.                                  |\n",
    "| StreetLineLength      | The length in linear units of the item's frontage on a street.                                         |\n",
    "| ParcelSize            | The total area of the land associated with the item, measured in square units.                         |\n",
    "| RoadAccessType        | The type of road providing access to the item's location.                                              |\n",
    "| AlleyAccessType       | The type of alley access available to the item's location (if any).                                    |\n",
    "| ParcelShape           | The general geometric shape of the land parcel.                                                        |\n",
    "| TerrainFlatness       | A description of the land's levelness or slope.                                                        |\n",
    "| UtilityAvailability   | The types of utility services available at the item's location.                                        |\n",
    "| ParcelSettings        | Specific configurations or features of the land parcel.                                                |\n",
    "| TerrainSlope          | The degree of inclination of the land.                                                                 |\n",
    "| District              | Geographic sub-regions or zones within a larger area.                                                  |\n",
    "| RoadProximity1        | Indicates the item's proximity to a major road or transportation route.                                |\n",
    "| RoadProximity2        | Indicates proximity to a second major road or route, if applicable.                                    |\n",
    "\n",
    "### Item Characteristics\n",
    "\n",
    "| **Label**             | **Description**                                                                                        |\n",
    "|-----------------------|--------------------------------------------------------------------------------------------------------|\n",
    "| DwellingType          | The specific architectural classification of the structure.                                            |\n",
    "| DwellingStyle         | The architectural style of the structure.                                                              |\n",
    "| MaterialQuality       | A rating of the overall quality of materials used in the item's construction.                          |\n",
    "| ConditionRating       | A general assessment of the item's current state of repair and upkeep.                                 |\n",
    "| ConstructionYear      | The year in which the item was originally built.                                                       |\n",
    "| RenovationYear        | The year of a significant remodel or addition to the item.                                             |\n",
    "| RoofType              | The style or design of the roof.                                                                       |\n",
    "| RoofMaterial          | The primary material used in the roof's construction.                                                  |\n",
    "| ExteriorCladding1     | The dominant material covering the exterior of the item.                                               |\n",
    "| ExteriorCladding2     | A secondary exterior covering material, if present.                                                   |\n",
    "| MasonryType           | The type of decorative masonry work used on the item's exterior.                                       |\n",
    "| MasonrySize           | The area covered by masonry work, measured in square units.                                            |\n",
    "| ExteriorQuality       | The quality of the materials used for the exterior cladding.                                           |\n",
    "| ExteriorCondition     | The current state of the exterior cladding.                                                            |\n",
    "| FoundationType        | The type of foundation supporting the item's structure.                                                |\n",
    "\n",
    "### Interior Features\n",
    "\n",
    "| **Label**                   | **Description**                                                                                        |\n",
    "|-----------------------------|--------------------------------------------------------------------------------------------------------|\n",
    "| BasementHeight              | A classification of the basement's height relative to ground level.                                    |\n",
    "| BasementCondition           | The general condition of the basement space.                                                           |\n",
    "| BasementAccess              | Describes whether the basement has walkout access or is at garden level.                               |\n",
    "| BasementFinish1             | The quality of finish in the main finished area of the basement.                                       |\n",
    "| BasementFinishedArea1       | The size of the main finished area in the basement, measured in square units.                          |\n",
    "| BasementFinish2             | The quality of finish in a second finished area of the basement (if applicable).                       |\n",
    "| BasementFinishedArea2       | The size of a second finished area in the basement, measured in square units.                          |\n",
    "| BasementUnfinishedArea      | The size of the unfinished portion of the basement, measured in square units.                          |\n",
    "| TotalBasementArea           | The total area of the basement space, including finished and unfinished areas, measured in square units.|\n",
    "| HeatingType                 | The system used for heating the item.                                                                  |\n",
    "| HeatingQuality              | The quality and condition of the heating system.                                                       |\n",
    "| AirConditioning             | Indicates whether the item has central air conditioning.                                               |\n",
    "| ElectricalSystem            | The type of electrical system installed.                                                               |\n",
    "| GroundFloorArea             | The area of the ground floor, measured in square units.                                                |\n",
    "| UpperFloorArea              | The area of the upper floor(s), measured in square units.                                              |\n",
    "| LowQualityArea              | Area of the item finished to a lower standard, measured in square units.                               |\n",
    "| LivingArea                  | The total living space above ground level, measured in square units.                                   |\n",
    "| BasementFullBathrooms       | The number of full bathrooms in the basement.                                                          |\n",
    "| BasementHalfBathrooms       | The number of half bathrooms in the basement.                                                          |\n",
    "| FullBathrooms               | The number of full bathrooms above ground level.                                                       |\n",
    "| HalfBathrooms               | The number of half bathrooms above ground level.                                                       |\n",
    "| Bedrooms                    | The number of bedrooms in the item.                                                                    |\n",
    "| Kitchens                    | The number of kitchens in the item.                                                                    |\n",
    "| KitchenQuality              | The quality of the kitchen's finishes and fixtures.                                                    |\n",
    "| TotalRooms                  | The total number of rooms above ground level, excluding bathrooms.                                     |\n",
    "| FunctionalityRating         | A rating of the item's overall functionality and layout.                                               |\n",
    "| FireplaceCount              | The number of fireplaces in the item.                                                                  |\n",
    "| FireplaceQuality            | The quality of the fireplace(s).                                                                       |\n",
    "\n",
    "### Additional Features\n",
    "\n",
    "| **Label**               | **Description**                                                                                        |\n",
    "|-------------------------|--------------------------------------------------------------------------------------------------------|\n",
    "| GarageLocation          | The location of the garage relative to the item.                                                       |\n",
    "| GarageConstructionYear  | The year the garage was built.                                                                         |\n",
    "| GarageInterior          | The interior finish of the garage.                                                                     |\n",
    "| GarageCapacity          | The number of vehicles the garage can accommodate.                                                     |\n",
    "| GarageSize              | The area of the garage, measured in square units.                                                      |\n",
    "| GarageQuality           | The quality of the garage's construction.                                                              |\n",
    "| GarageCondition         | The current condition of the garage.                                                                   |\n",
    "| DrivewayType            | Indicates whether the driveway is paved.                                                               |\n",
    "| WoodDeckArea            | The area of the wood deck, measured in square units.                                                   |\n",
    "| OpenPorchArea           | The area of the open porch, measured in square units.                                                  |\n",
    "| EnclosedPorchArea       | The area of the enclosed porch, measured in square units.                                              |\n",
    "| ThreeSeasonPorchArea    | The area of the three-season porch, measured in square units.                                          |\n",
    "| ScreenPorchArea         | The area of the screen porch, measured in square units.                                                |\n",
    "| PoolSize                | The area of the pool, measured in square units.                                                        |\n",
    "| PoolQuality             | The quality of the pool.                                                                               |\n",
    "| FenceQuality            | The quality of the fence.                                                                              |\n",
    "| AdditionalFeature       | A miscellaneous feature not covered in other categories.                                               |\n",
    "| AdditionalFeatureValue  | The monetary value of the additional feature.                                                          |\n",
    "\n",
    "### Sale Information\n",
    "\n",
    "| **Label**      | **Description**                                                                                        |\n",
    "|----------------|--------------------------------------------------------------------------------------------------------|\n",
    "| SaleMonth      | The month in which the item was sold.                                                                  |\n",
    "| SaleYear       | The year in which the item was sold.                                                                   |\n",
    "| SaleType       | The method or type of sale transaction.                                                                |\n",
    "| SaleCondition  | The condition of the sale.                                                                             |"
   ]
  },
  {
   "cell_type": "markdown",
   "metadata": {},
   "source": [
    "- **🏡 Zoning Classifications Explained**\n",
    "    - **RL (Residential Low Density):** This zone typically allows for single-family homes on larger lots, promoting a spacious and peaceful living environment. [source](https://monica.im/s/C7jUcgHpBW)\n",
    "    - **RM (Residential Medium Density):** This zone accommodates a mix of housing types, including single-family homes, duplexes, and townhouses, offering a balance between density and affordability. [source](https://monica.im/s/C7jUcgHpBW)\n",
    "    - **FV (Floodway):** This zone is designated for areas prone to flooding and restricts development to minimize potential damage. [source](https://monica.im/s/C7jUcgHpBW)"
   ]
  },
  {
   "cell_type": "code",
   "execution_count": 1,
   "metadata": {},
   "outputs": [],
   "source": [
    "import pandas as pd\n",
    "import matplotlib.pyplot as plt\n",
    "import sklearn"
   ]
  },
  {
   "cell_type": "code",
   "execution_count": 2,
   "metadata": {},
   "outputs": [],
   "source": [
    "df = pd.read_csv('train.csv')"
   ]
  },
  {
   "cell_type": "code",
   "execution_count": 3,
   "metadata": {},
   "outputs": [
    {
     "data": {
      "text/html": [
       "<div>\n",
       "<style scoped>\n",
       "    .dataframe tbody tr th:only-of-type {\n",
       "        vertical-align: middle;\n",
       "    }\n",
       "\n",
       "    .dataframe tbody tr th {\n",
       "        vertical-align: top;\n",
       "    }\n",
       "\n",
       "    .dataframe thead th {\n",
       "        text-align: right;\n",
       "    }\n",
       "</style>\n",
       "<table border=\"1\" class=\"dataframe\">\n",
       "  <thead>\n",
       "    <tr style=\"text-align: right;\">\n",
       "      <th></th>\n",
       "      <th>Id</th>\n",
       "      <th>BuildingCategory</th>\n",
       "      <th>StreetLineLength</th>\n",
       "      <th>ParcelSize</th>\n",
       "      <th>MaterialQuality</th>\n",
       "      <th>ConditionRating</th>\n",
       "      <th>ConstructionYear</th>\n",
       "      <th>RenovationYear</th>\n",
       "      <th>MasonrySize</th>\n",
       "      <th>BasementFinishedArea1</th>\n",
       "      <th>...</th>\n",
       "      <th>WoodDeckArea</th>\n",
       "      <th>OpenPorchArea</th>\n",
       "      <th>EnclosedPorchArea</th>\n",
       "      <th>ThreeSeasonPorchArea</th>\n",
       "      <th>ScreenPorchArea</th>\n",
       "      <th>PoolSize</th>\n",
       "      <th>AdditionalFeatureValue</th>\n",
       "      <th>SaleMonth</th>\n",
       "      <th>SaleYear</th>\n",
       "      <th>OutcomeVariable</th>\n",
       "    </tr>\n",
       "  </thead>\n",
       "  <tbody>\n",
       "    <tr>\n",
       "      <th>count</th>\n",
       "      <td>1460.000000</td>\n",
       "      <td>1460.000000</td>\n",
       "      <td>1201.000000</td>\n",
       "      <td>1460.000000</td>\n",
       "      <td>1460.000000</td>\n",
       "      <td>1460.000000</td>\n",
       "      <td>1460.000000</td>\n",
       "      <td>1460.000000</td>\n",
       "      <td>1452.000000</td>\n",
       "      <td>1460.000000</td>\n",
       "      <td>...</td>\n",
       "      <td>1460.000000</td>\n",
       "      <td>1460.000000</td>\n",
       "      <td>1460.000000</td>\n",
       "      <td>1460.000000</td>\n",
       "      <td>1460.000000</td>\n",
       "      <td>1460.000000</td>\n",
       "      <td>1460.000000</td>\n",
       "      <td>1460.000000</td>\n",
       "      <td>1460.000000</td>\n",
       "      <td>1460.000000</td>\n",
       "    </tr>\n",
       "    <tr>\n",
       "      <th>mean</th>\n",
       "      <td>730.500000</td>\n",
       "      <td>56.897260</td>\n",
       "      <td>70.049958</td>\n",
       "      <td>10516.828082</td>\n",
       "      <td>6.099315</td>\n",
       "      <td>5.575342</td>\n",
       "      <td>1971.267808</td>\n",
       "      <td>1984.865753</td>\n",
       "      <td>103.685262</td>\n",
       "      <td>443.639726</td>\n",
       "      <td>...</td>\n",
       "      <td>94.244521</td>\n",
       "      <td>46.660274</td>\n",
       "      <td>21.954110</td>\n",
       "      <td>3.409589</td>\n",
       "      <td>15.060959</td>\n",
       "      <td>2.758904</td>\n",
       "      <td>43.489041</td>\n",
       "      <td>6.321918</td>\n",
       "      <td>2007.815753</td>\n",
       "      <td>180921.195890</td>\n",
       "    </tr>\n",
       "    <tr>\n",
       "      <th>std</th>\n",
       "      <td>421.610009</td>\n",
       "      <td>42.300571</td>\n",
       "      <td>24.284752</td>\n",
       "      <td>9981.264932</td>\n",
       "      <td>1.382997</td>\n",
       "      <td>1.112799</td>\n",
       "      <td>30.202904</td>\n",
       "      <td>20.645407</td>\n",
       "      <td>181.066207</td>\n",
       "      <td>456.098091</td>\n",
       "      <td>...</td>\n",
       "      <td>125.338794</td>\n",
       "      <td>66.256028</td>\n",
       "      <td>61.119149</td>\n",
       "      <td>29.317331</td>\n",
       "      <td>55.757415</td>\n",
       "      <td>40.177307</td>\n",
       "      <td>496.123024</td>\n",
       "      <td>2.703626</td>\n",
       "      <td>1.328095</td>\n",
       "      <td>79442.502883</td>\n",
       "    </tr>\n",
       "    <tr>\n",
       "      <th>min</th>\n",
       "      <td>1.000000</td>\n",
       "      <td>20.000000</td>\n",
       "      <td>21.000000</td>\n",
       "      <td>1300.000000</td>\n",
       "      <td>1.000000</td>\n",
       "      <td>1.000000</td>\n",
       "      <td>1872.000000</td>\n",
       "      <td>1950.000000</td>\n",
       "      <td>0.000000</td>\n",
       "      <td>0.000000</td>\n",
       "      <td>...</td>\n",
       "      <td>0.000000</td>\n",
       "      <td>0.000000</td>\n",
       "      <td>0.000000</td>\n",
       "      <td>0.000000</td>\n",
       "      <td>0.000000</td>\n",
       "      <td>0.000000</td>\n",
       "      <td>0.000000</td>\n",
       "      <td>1.000000</td>\n",
       "      <td>2006.000000</td>\n",
       "      <td>34900.000000</td>\n",
       "    </tr>\n",
       "    <tr>\n",
       "      <th>25%</th>\n",
       "      <td>365.750000</td>\n",
       "      <td>20.000000</td>\n",
       "      <td>59.000000</td>\n",
       "      <td>7553.500000</td>\n",
       "      <td>5.000000</td>\n",
       "      <td>5.000000</td>\n",
       "      <td>1954.000000</td>\n",
       "      <td>1967.000000</td>\n",
       "      <td>0.000000</td>\n",
       "      <td>0.000000</td>\n",
       "      <td>...</td>\n",
       "      <td>0.000000</td>\n",
       "      <td>0.000000</td>\n",
       "      <td>0.000000</td>\n",
       "      <td>0.000000</td>\n",
       "      <td>0.000000</td>\n",
       "      <td>0.000000</td>\n",
       "      <td>0.000000</td>\n",
       "      <td>5.000000</td>\n",
       "      <td>2007.000000</td>\n",
       "      <td>129975.000000</td>\n",
       "    </tr>\n",
       "    <tr>\n",
       "      <th>50%</th>\n",
       "      <td>730.500000</td>\n",
       "      <td>50.000000</td>\n",
       "      <td>69.000000</td>\n",
       "      <td>9478.500000</td>\n",
       "      <td>6.000000</td>\n",
       "      <td>5.000000</td>\n",
       "      <td>1973.000000</td>\n",
       "      <td>1994.000000</td>\n",
       "      <td>0.000000</td>\n",
       "      <td>383.500000</td>\n",
       "      <td>...</td>\n",
       "      <td>0.000000</td>\n",
       "      <td>25.000000</td>\n",
       "      <td>0.000000</td>\n",
       "      <td>0.000000</td>\n",
       "      <td>0.000000</td>\n",
       "      <td>0.000000</td>\n",
       "      <td>0.000000</td>\n",
       "      <td>6.000000</td>\n",
       "      <td>2008.000000</td>\n",
       "      <td>163000.000000</td>\n",
       "    </tr>\n",
       "    <tr>\n",
       "      <th>75%</th>\n",
       "      <td>1095.250000</td>\n",
       "      <td>70.000000</td>\n",
       "      <td>80.000000</td>\n",
       "      <td>11601.500000</td>\n",
       "      <td>7.000000</td>\n",
       "      <td>6.000000</td>\n",
       "      <td>2000.000000</td>\n",
       "      <td>2004.000000</td>\n",
       "      <td>166.000000</td>\n",
       "      <td>712.250000</td>\n",
       "      <td>...</td>\n",
       "      <td>168.000000</td>\n",
       "      <td>68.000000</td>\n",
       "      <td>0.000000</td>\n",
       "      <td>0.000000</td>\n",
       "      <td>0.000000</td>\n",
       "      <td>0.000000</td>\n",
       "      <td>0.000000</td>\n",
       "      <td>8.000000</td>\n",
       "      <td>2009.000000</td>\n",
       "      <td>214000.000000</td>\n",
       "    </tr>\n",
       "    <tr>\n",
       "      <th>max</th>\n",
       "      <td>1460.000000</td>\n",
       "      <td>190.000000</td>\n",
       "      <td>313.000000</td>\n",
       "      <td>215245.000000</td>\n",
       "      <td>10.000000</td>\n",
       "      <td>9.000000</td>\n",
       "      <td>2010.000000</td>\n",
       "      <td>2010.000000</td>\n",
       "      <td>1600.000000</td>\n",
       "      <td>5644.000000</td>\n",
       "      <td>...</td>\n",
       "      <td>857.000000</td>\n",
       "      <td>547.000000</td>\n",
       "      <td>552.000000</td>\n",
       "      <td>508.000000</td>\n",
       "      <td>480.000000</td>\n",
       "      <td>738.000000</td>\n",
       "      <td>15500.000000</td>\n",
       "      <td>12.000000</td>\n",
       "      <td>2010.000000</td>\n",
       "      <td>755000.000000</td>\n",
       "    </tr>\n",
       "  </tbody>\n",
       "</table>\n",
       "<p>8 rows × 38 columns</p>\n",
       "</div>"
      ],
      "text/plain": [
       "                Id  BuildingCategory  StreetLineLength     ParcelSize  \\\n",
       "count  1460.000000       1460.000000       1201.000000    1460.000000   \n",
       "mean    730.500000         56.897260         70.049958   10516.828082   \n",
       "std     421.610009         42.300571         24.284752    9981.264932   \n",
       "min       1.000000         20.000000         21.000000    1300.000000   \n",
       "25%     365.750000         20.000000         59.000000    7553.500000   \n",
       "50%     730.500000         50.000000         69.000000    9478.500000   \n",
       "75%    1095.250000         70.000000         80.000000   11601.500000   \n",
       "max    1460.000000        190.000000        313.000000  215245.000000   \n",
       "\n",
       "       MaterialQuality  ConditionRating  ConstructionYear  RenovationYear  \\\n",
       "count      1460.000000      1460.000000       1460.000000     1460.000000   \n",
       "mean          6.099315         5.575342       1971.267808     1984.865753   \n",
       "std           1.382997         1.112799         30.202904       20.645407   \n",
       "min           1.000000         1.000000       1872.000000     1950.000000   \n",
       "25%           5.000000         5.000000       1954.000000     1967.000000   \n",
       "50%           6.000000         5.000000       1973.000000     1994.000000   \n",
       "75%           7.000000         6.000000       2000.000000     2004.000000   \n",
       "max          10.000000         9.000000       2010.000000     2010.000000   \n",
       "\n",
       "       MasonrySize  BasementFinishedArea1  ...  WoodDeckArea  OpenPorchArea  \\\n",
       "count  1452.000000            1460.000000  ...   1460.000000    1460.000000   \n",
       "mean    103.685262             443.639726  ...     94.244521      46.660274   \n",
       "std     181.066207             456.098091  ...    125.338794      66.256028   \n",
       "min       0.000000               0.000000  ...      0.000000       0.000000   \n",
       "25%       0.000000               0.000000  ...      0.000000       0.000000   \n",
       "50%       0.000000             383.500000  ...      0.000000      25.000000   \n",
       "75%     166.000000             712.250000  ...    168.000000      68.000000   \n",
       "max    1600.000000            5644.000000  ...    857.000000     547.000000   \n",
       "\n",
       "       EnclosedPorchArea  ThreeSeasonPorchArea  ScreenPorchArea     PoolSize  \\\n",
       "count        1460.000000           1460.000000      1460.000000  1460.000000   \n",
       "mean           21.954110              3.409589        15.060959     2.758904   \n",
       "std            61.119149             29.317331        55.757415    40.177307   \n",
       "min             0.000000              0.000000         0.000000     0.000000   \n",
       "25%             0.000000              0.000000         0.000000     0.000000   \n",
       "50%             0.000000              0.000000         0.000000     0.000000   \n",
       "75%             0.000000              0.000000         0.000000     0.000000   \n",
       "max           552.000000            508.000000       480.000000   738.000000   \n",
       "\n",
       "       AdditionalFeatureValue    SaleMonth     SaleYear  OutcomeVariable  \n",
       "count             1460.000000  1460.000000  1460.000000      1460.000000  \n",
       "mean                43.489041     6.321918  2007.815753    180921.195890  \n",
       "std                496.123024     2.703626     1.328095     79442.502883  \n",
       "min                  0.000000     1.000000  2006.000000     34900.000000  \n",
       "25%                  0.000000     5.000000  2007.000000    129975.000000  \n",
       "50%                  0.000000     6.000000  2008.000000    163000.000000  \n",
       "75%                  0.000000     8.000000  2009.000000    214000.000000  \n",
       "max              15500.000000    12.000000  2010.000000    755000.000000  \n",
       "\n",
       "[8 rows x 38 columns]"
      ]
     },
     "execution_count": 3,
     "metadata": {},
     "output_type": "execute_result"
    }
   ],
   "source": [
    "df.describe()"
   ]
  },
  {
   "cell_type": "code",
   "execution_count": 4,
   "metadata": {},
   "outputs": [
    {
     "data": {
      "text/plain": [
       "Id                        int64\n",
       "BuildingCategory          int64\n",
       "ZoningClassification     object\n",
       "StreetLineLength        float64\n",
       "ParcelSize                int64\n",
       "                         ...   \n",
       "SaleMonth                 int64\n",
       "SaleYear                  int64\n",
       "SaleType                 object\n",
       "SaleCondition            object\n",
       "OutcomeVariable           int64\n",
       "Length: 81, dtype: object"
      ]
     },
     "execution_count": 4,
     "metadata": {},
     "output_type": "execute_result"
    }
   ],
   "source": [
    "df.dtypes"
   ]
  },
  {
   "cell_type": "code",
   "execution_count": 5,
   "metadata": {},
   "outputs": [
    {
     "data": {
      "text/plain": [
       "StreetLineLength           259\n",
       "AlleyAccessType           1369\n",
       "MasonryType                872\n",
       "MasonrySize                  8\n",
       "BasementHeight              37\n",
       "BasementCondition           37\n",
       "BasementAccess              38\n",
       "BasementFinish1             37\n",
       "BasementFinish2             38\n",
       "ElectricalSystem             1\n",
       "FireplaceQuality           690\n",
       "GarageLocation              81\n",
       "GarageConstructionYear      81\n",
       "GarageInterior              81\n",
       "GarageQuality               81\n",
       "GarageCondition             81\n",
       "PoolQuality               1453\n",
       "FenceQuality              1179\n",
       "AdditionalFeature         1406\n",
       "dtype: int64"
      ]
     },
     "execution_count": 5,
     "metadata": {},
     "output_type": "execute_result"
    }
   ],
   "source": [
    "nullSum = df.isnull().sum()\n",
    "nullSum[nullSum!=0]"
   ]
  },
  {
   "cell_type": "code",
   "execution_count": 6,
   "metadata": {},
   "outputs": [],
   "source": [
    "# df['StreetLineLength'].fillna(format(df['StreetLineLength'].mean(),'.1f'),inplace=True)"
   ]
  },
  {
   "cell_type": "code",
   "execution_count": 78,
   "metadata": {},
   "outputs": [],
   "source": [
    "df1 = df.copy()\n",
    "df2 = df.copy()"
   ]
  },
  {
   "cell_type": "code",
   "execution_count": 28,
   "metadata": {},
   "outputs": [],
   "source": [
    "df1['StreetLineLength'].fillna(round(df1['StreetLineLength'].mean(),1),inplace=True)"
   ]
  },
  {
   "cell_type": "code",
   "execution_count": 29,
   "metadata": {},
   "outputs": [],
   "source": [
    "df1['ElectricalSystem'].fillna(df1['ElectricalSystem'].mode()[0],inplace=True)"
   ]
  },
  {
   "cell_type": "code",
   "execution_count": 30,
   "metadata": {},
   "outputs": [],
   "source": [
    "df1['AdditionalFeature'].fillna('NO AF',inplace=True)"
   ]
  },
  {
   "cell_type": "code",
   "execution_count": 31,
   "metadata": {},
   "outputs": [],
   "source": [
    "df1['AlleyAccessType'].fillna('UNKNOWN',inplace=True)\n",
    "df1['FireplaceQuality'].fillna('UNKNOWN',inplace=True)\n",
    "df1['PoolQuality'].fillna('UNKNOWN',inplace=True)\n",
    "df1['FenceQuality'].fillna('UNKNOWN',inplace=True)"
   ]
  },
  {
   "cell_type": "code",
   "execution_count": 32,
   "metadata": {},
   "outputs": [],
   "source": [
    "df1['MasonryType'].fillna(df1['MasonryType'].mode()[0],inplace=True)\n",
    "df1['MasonrySize']=df1['MasonrySize'].replace(0,round(df1['MasonrySize'].mean(),1))"
   ]
  },
  {
   "cell_type": "code",
   "execution_count": 33,
   "metadata": {},
   "outputs": [],
   "source": [
    "df1['BasementHeight'].fillna(df1['BasementHeight'].mode()[0],inplace=True)\n",
    "df1['BasementCondition'].fillna(df1['BasementCondition'].mode()[0],inplace=True)\n",
    "df1['BasementAccess'].fillna(df1['BasementAccess'].mode()[0],inplace=True)\n",
    "df1['BasementFinish1'].fillna(df1['BasementFinish1'].mode()[0],inplace=True)\n",
    "df1['BasementFinish2'].fillna(df1['BasementFinish2'].mode()[0],inplace=True)"
   ]
  },
  {
   "cell_type": "code",
   "execution_count": 34,
   "metadata": {},
   "outputs": [],
   "source": [
    "df1['TotalBasementArea']=df1['TotalBasementArea'].replace(0,round(df1['TotalBasementArea'].mean(),1))\n"
   ]
  },
  {
   "cell_type": "code",
   "execution_count": 35,
   "metadata": {},
   "outputs": [],
   "source": [
    "df1['GarageLocation'].fillna(df1['BasementAccess'].mode()[0],inplace=True)\n",
    "df1['GarageConstructionYear'].fillna(df1['BasementFinish1'].mode()[0],inplace=True)\n",
    "df1['GarageInterior'].fillna(df1['BasementFinish2'].mode()[0],inplace=True)\n",
    "df1['GarageQuality'].fillna(df1['GarageQuality'].mode()[0],inplace=True)\n",
    "df1['GarageCondition'].fillna(df1['GarageCondition'].mode()[0],inplace=True)"
   ]
  },
  {
   "cell_type": "code",
   "execution_count": 36,
   "metadata": {},
   "outputs": [],
   "source": [
    "df1['GarageCapacity']=df1['GarageCapacity'].replace(0,round(df1['GarageCapacity'].mean(),1)).astype(int)\n",
    "df1['GarageSize']=df1['GarageSize'].replace(0,round(df1['GarageSize'].mean(),1)).astype(int)"
   ]
  },
  {
   "cell_type": "code",
   "execution_count": 37,
   "metadata": {},
   "outputs": [],
   "source": [
    "df1.to_csv('randomly.csv')"
   ]
  },
  {
   "cell_type": "code",
   "execution_count": 79,
   "metadata": {},
   "outputs": [],
   "source": [
    "median_street_length_by_district = df2.groupby('District')['StreetLineLength'].median()\n",
    "\n",
    "def fill_street_length(row):\n",
    "    if pd.isnull(row['StreetLineLength']):\n",
    "        return median_street_length_by_district.get(row['District'])\n",
    "    return row['StreetLineLength']\n",
    "\n",
    "df2['StreetLineLength'] = df2.apply(fill_street_length, axis=1)"
   ]
  },
  {
   "cell_type": "code",
   "execution_count": 80,
   "metadata": {},
   "outputs": [],
   "source": [
    "df2['AlleyAccessType'].fillna('NoAlleyAccess',inplace=True)"
   ]
  },
  {
   "cell_type": "code",
   "execution_count": 81,
   "metadata": {},
   "outputs": [],
   "source": [
    "df2['MasonryType'].fillna('None',inplace=True)"
   ]
  },
  {
   "cell_type": "code",
   "execution_count": 82,
   "metadata": {},
   "outputs": [
    {
     "name": "stdout",
     "output_type": "stream",
     "text": [
      "MasonryType  MasonrySize\n",
      "BrkCmn       41.0           1\n",
      "             66.0           1\n",
      "             67.0           1\n",
      "             70.0           1\n",
      "             113.0          1\n",
      "                           ..\n",
      "Stone        760.0          1\n",
      "             762.0          1\n",
      "             788.0          1\n",
      "             796.0          1\n",
      "             860.0          1\n",
      "Name: MasonrySize, Length: 401, dtype: int64\n"
     ]
    }
   ],
   "source": [
    "temp = df2.groupby('MasonryType')['MasonrySize'].value_counts()\n",
    "print(temp)"
   ]
  },
  {
   "cell_type": "code",
   "execution_count": 83,
   "metadata": {},
   "outputs": [],
   "source": [
    "check1 = df2.loc[df2['MasonrySize'].isnull(), 'MasonryType']"
   ]
  },
  {
   "cell_type": "code",
   "execution_count": 84,
   "metadata": {},
   "outputs": [],
   "source": [
    "df2['MasonrySize'].fillna(0,inplace=True)"
   ]
  },
  {
   "cell_type": "code",
   "execution_count": 85,
   "metadata": {},
   "outputs": [],
   "source": [
    "def fillMode(column):\n",
    "    df2[column].fillna(df2[column].mode()[0],inplace=True)"
   ]
  },
  {
   "cell_type": "code",
   "execution_count": 86,
   "metadata": {},
   "outputs": [],
   "source": [
    "fillMode('BasementHeight')\n",
    "fillMode('BasementCondition')\n",
    "fillMode('BasementAccess')\n",
    "fillMode('BasementFinish1')\n",
    "fillMode('BasementFinish2')\n",
    "df2['BasementUnfinishedArea']=df2['BasementUnfinishedArea'].replace(0,df2['TotalBasementArea'].median()).astype(int)\n",
    "df2['TotalBasementArea']=df2['TotalBasementArea'].replace(0,df2['TotalBasementArea'].median()).astype(int)\n"
   ]
  },
  {
   "cell_type": "code",
   "execution_count": 87,
   "metadata": {},
   "outputs": [],
   "source": [
    "fillMode('ElectricalSystem')"
   ]
  },
  {
   "cell_type": "code",
   "execution_count": 89,
   "metadata": {},
   "outputs": [],
   "source": [
    "df2['FireplaceQuality'].fillna('NoFireplace',inplace=True)"
   ]
  },
  {
   "cell_type": "code",
   "execution_count": 90,
   "metadata": {},
   "outputs": [],
   "source": [
    "fillMode('GarageLocation')\n",
    "fillMode('GarageConstructionYear')\n",
    "fillMode('GarageInterior')\n",
    "fillMode('GarageQuality')\n",
    "fillMode('GarageCondition')"
   ]
  },
  {
   "cell_type": "code",
   "execution_count": 91,
   "metadata": {},
   "outputs": [],
   "source": [
    "df2['PoolQuality'].fillna('NoPool',inplace=True)"
   ]
  },
  {
   "cell_type": "code",
   "execution_count": 92,
   "metadata": {},
   "outputs": [],
   "source": [
    "fillMode('FenceQuality')"
   ]
  },
  {
   "cell_type": "code",
   "execution_count": null,
   "metadata": {},
   "outputs": [],
   "source": []
  }
 ],
 "metadata": {
  "kernelspec": {
   "display_name": "base",
   "language": "python",
   "name": "python3"
  },
  "language_info": {
   "codemirror_mode": {
    "name": "ipython",
    "version": 3
   },
   "file_extension": ".py",
   "mimetype": "text/x-python",
   "name": "python",
   "nbconvert_exporter": "python",
   "pygments_lexer": "ipython3",
   "version": "3.10.9"
  }
 },
 "nbformat": 4,
 "nbformat_minor": 2
}
